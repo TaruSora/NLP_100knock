{
  "nbformat": 4,
  "nbformat_minor": 0,
  "metadata": {
    "colab": {
      "name": "100knock_1.ipynb",
      "provenance": [],
      "authorship_tag": "ABX9TyPiH1l/5Ow8kRyZ3wqscNJZ",
      "include_colab_link": true
    },
    "kernelspec": {
      "name": "python3",
      "display_name": "Python 3"
    },
    "language_info": {
      "name": "python"
    }
  },
  "cells": [
    {
      "cell_type": "markdown",
      "metadata": {
        "id": "view-in-github",
        "colab_type": "text"
      },
      "source": [
        "<a href=\"https://colab.research.google.com/github/TaruSora/NLP_100knock/blob/test/100knock_1.ipynb\" target=\"_parent\"><img src=\"https://colab.research.google.com/assets/colab-badge.svg\" alt=\"Open In Colab\"/></a>"
      ]
    },
    {
      "cell_type": "markdown",
      "metadata": {
        "id": "BmV-PhC0b4bj"
      },
      "source": [
        "00.文字列”stressed”の文字を逆に（末尾から先頭に向かって）並べた文字列を得よ．"
      ]
    },
    {
      "cell_type": "code",
      "metadata": {
        "id": "TWbCUY9KR6RE"
      },
      "source": [
        "# 00\n",
        "\n"
      ],
      "execution_count": null,
      "outputs": []
    },
    {
      "cell_type": "markdown",
      "metadata": {
        "id": "CHg4rVPgcQpJ"
      },
      "source": [
        "01.「パタトクカシーー」という文字列の1,3,5,7文字目を取り出して連結した文字列を得よ．"
      ]
    },
    {
      "cell_type": "code",
      "metadata": {
        "colab": {
          "base_uri": "https://localhost:8080/"
        },
        "id": "ybpbUbLZTvbM",
        "outputId": "dc633c2c-16c4-4b22-bff1-ca04d48cbc93"
      },
      "source": [
        "# 01\n",
        "\n",
        "str = \"パタトクカシー―\"\n",
        "str = str[::2]\n",
        "print(str)"
      ],
      "execution_count": 2,
      "outputs": [
        {
          "output_type": "stream",
          "name": "stdout",
          "text": [
            "パトカー\n"
          ]
        }
      ]
    },
    {
      "cell_type": "markdown",
      "metadata": {
        "id": "jCeMDo54cv2v"
      },
      "source": [
        "02.「パトカー」＋「タクシー」の文字を先頭から交互に連結して文字列「パタトクカシーー」を得よ．"
      ]
    },
    {
      "cell_type": "code",
      "metadata": {
        "colab": {
          "base_uri": "https://localhost:8080/"
        },
        "id": "FltxDP6iT0fe",
        "outputId": "aed6e6a0-2863-4a7b-f8a3-d2e584b51e7c"
      },
      "source": [
        "# 02\n",
        "\n",
        "str1 = \"パトカー\"\n",
        "str2 = \"タクシー\"\n",
        "str = \"\"\n",
        "for i in range(len(str1)):\n",
        "    str += str1[i] + str2[i]\n",
        "print(str)"
      ],
      "execution_count": 4,
      "outputs": [
        {
          "output_type": "stream",
          "name": "stdout",
          "text": [
            "パタトクカシーー\n"
          ]
        }
      ]
    },
    {
      "cell_type": "markdown",
      "metadata": {
        "id": "8cRk8gIidArw"
      },
      "source": [
        "03.“Now I need a drink, alcoholic of course, after the heavy lectures involving quantum mechanics.”という文を単語に分解し，各単語の（アルファベットの）文字数を先頭から出現順に並べたリストを作成せよ．"
      ]
    },
    {
      "cell_type": "code",
      "metadata": {
        "colab": {
          "base_uri": "https://localhost:8080/"
        },
        "id": "NoWJthisT0j8",
        "outputId": "641b6ab0-748e-4810-8fd6-5fa91006449c"
      },
      "source": [
        "# 03\n",
        "\n",
        "str = \"Now I need a drink, alcoholic of course, after the heavy lectures involving quantum mechanics.\"\n",
        "# 「,」「.」をstrから除去\n",
        "import re\n",
        "str = re.sub(\"\\,|\\.\", \"\", str)\n",
        "\n",
        "#　空白で区切る\n",
        "str1 = str.split()\n",
        "\n",
        "result = []\n",
        "for i in str1:\n",
        "    result.append(len(i))\n",
        "print(result)"
      ],
      "execution_count": 7,
      "outputs": [
        {
          "output_type": "stream",
          "name": "stdout",
          "text": [
            "[3, 1, 4, 1, 5, 9, 2, 6, 5, 3, 5, 8, 9, 7, 9]\n"
          ]
        }
      ]
    },
    {
      "cell_type": "markdown",
      "metadata": {
        "id": "sRnNpqkidEQo"
      },
      "source": [
        "04.“Hi He Lied Because Boron Could Not Oxidize Fluorine. New Nations Might Also Sign Peace Security Clause. Arthur King Can.”という文を単語に分解し，1, 5, 6, 7, 8, 9, 15, 16, 19番目の単語は先頭の1文字，それ以外の単語は先頭の2文字を取り出し，取り出した文字列から単語の位置（先頭から何番目の単語か）への連想配列（辞書型もしくはマップ型）を作成せよ．"
      ]
    },
    {
      "cell_type": "code",
      "metadata": {
        "id": "_zftwIeKT0pn"
      },
      "source": [
        "# 04"
      ],
      "execution_count": null,
      "outputs": []
    },
    {
      "cell_type": "code",
      "metadata": {
        "id": "Hf9zgSB1T0un"
      },
      "source": [
        "# 05"
      ],
      "execution_count": null,
      "outputs": []
    }
  ]
}