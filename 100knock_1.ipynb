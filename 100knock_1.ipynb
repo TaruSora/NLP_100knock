{
  "nbformat": 4,
  "nbformat_minor": 0,
  "metadata": {
    "colab": {
      "name": "100knock_1.ipynb",
      "provenance": [],
      "authorship_tag": "ABX9TyNntKrLkpvkMEZJcWl/xBPZ",
      "include_colab_link": true
    },
    "kernelspec": {
      "name": "python3",
      "display_name": "Python 3"
    },
    "language_info": {
      "name": "python"
    }
  },
  "cells": [
    {
      "cell_type": "markdown",
      "metadata": {
        "id": "view-in-github",
        "colab_type": "text"
      },
      "source": [
        "<a href=\"https://colab.research.google.com/github/TaruSora/NLP_100knock/blob/main/100knock_1.ipynb\" target=\"_parent\"><img src=\"https://colab.research.google.com/assets/colab-badge.svg\" alt=\"Open In Colab\"/></a>"
      ]
    },
    {
      "cell_type": "markdown",
      "metadata": {
        "id": "BmV-PhC0b4bj"
      },
      "source": [
        "00.文字列”stressed”の文字を逆に（末尾から先頭に向かって）並べた文字列を得よ．"
      ]
    },
    {
      "cell_type": "code",
      "metadata": {
        "id": "TWbCUY9KR6RE",
        "outputId": "6f22ee48-b324-4b96-9d7f-72904fd59938",
        "colab": {
          "base_uri": "https://localhost:8080/"
        }
      },
      "source": [
        "# 00\n",
        "\n",
        "str = \"stressed\"\n",
        "str = str[::-1]\n",
        "print(str)"
      ],
      "execution_count": null,
      "outputs": [
        {
          "output_type": "stream",
          "name": "stdout",
          "text": [
            "desserts\n"
          ]
        }
      ]
    },
    {
      "cell_type": "markdown",
      "metadata": {
        "id": "CHg4rVPgcQpJ"
      },
      "source": [
        "01.「パタトクカシーー」という文字列の1,3,5,7文字目を取り出して連結した文字列を得よ．"
      ]
    },
    {
      "cell_type": "code",
      "metadata": {
        "colab": {
          "base_uri": "https://localhost:8080/"
        },
        "id": "ybpbUbLZTvbM",
        "outputId": "dc633c2c-16c4-4b22-bff1-ca04d48cbc93"
      },
      "source": [
        "# 01\n",
        "\n",
        "str = \"パタトクカシー―\"\n",
        "str = str[::2]\n",
        "print(str)"
      ],
      "execution_count": null,
      "outputs": [
        {
          "output_type": "stream",
          "name": "stdout",
          "text": [
            "パトカー\n"
          ]
        }
      ]
    },
    {
      "cell_type": "markdown",
      "metadata": {
        "id": "jCeMDo54cv2v"
      },
      "source": [
        "02.「パトカー」＋「タクシー」の文字を先頭から交互に連結して文字列「パタトクカシーー」を得よ．"
      ]
    },
    {
      "cell_type": "code",
      "metadata": {
        "colab": {
          "base_uri": "https://localhost:8080/"
        },
        "id": "FltxDP6iT0fe",
        "outputId": "aed6e6a0-2863-4a7b-f8a3-d2e584b51e7c"
      },
      "source": [
        "# 02\n",
        "\n",
        "str1 = \"パトカー\"\n",
        "str2 = \"タクシー\"\n",
        "str = \"\"\n",
        "for i in range(len(str1)):\n",
        "    str += str1[i] + str2[i]\n",
        "print(str)"
      ],
      "execution_count": null,
      "outputs": [
        {
          "output_type": "stream",
          "name": "stdout",
          "text": [
            "パタトクカシーー\n"
          ]
        }
      ]
    },
    {
      "cell_type": "markdown",
      "metadata": {
        "id": "8cRk8gIidArw"
      },
      "source": [
        "03.“Now I need a drink, alcoholic of course, after the heavy lectures involving quantum mechanics.”という文を単語に分解し，各単語の（アルファベットの）文字数を先頭から出現順に並べたリストを作成せよ．"
      ]
    },
    {
      "cell_type": "code",
      "metadata": {
        "colab": {
          "base_uri": "https://localhost:8080/"
        },
        "id": "NoWJthisT0j8",
        "outputId": "641b6ab0-748e-4810-8fd6-5fa91006449c"
      },
      "source": [
        "# 03\n",
        "\n",
        "str = \"Now I need a drink, alcoholic of course, after the heavy lectures involving quantum mechanics.\"\n",
        "# 「,」「.」をstrから除去\n",
        "import re\n",
        "str = re.sub(\"\\,|\\.\", \"\", str)\n",
        "\n",
        "#　空白で区切る\n",
        "str1 = str.split()\n",
        "\n",
        "result = []\n",
        "for i in str1:\n",
        "    result.append(len(i))\n",
        "print(result)"
      ],
      "execution_count": null,
      "outputs": [
        {
          "output_type": "stream",
          "name": "stdout",
          "text": [
            "[3, 1, 4, 1, 5, 9, 2, 6, 5, 3, 5, 8, 9, 7, 9]\n"
          ]
        }
      ]
    },
    {
      "cell_type": "markdown",
      "metadata": {
        "id": "sRnNpqkidEQo"
      },
      "source": [
        "04.“Hi He Lied Because Boron Could Not Oxidize Fluorine. New Nations Might Also Sign Peace Security Clause. Arthur King Can.”という文を単語に分解し，1, 5, 6, 7, 8, 9, 15, 16, 19番目の単語は先頭の1文字，それ以外の単語は先頭の2文字を取り出し，取り出した文字列から単語の位置（先頭から何番目の単語か）への連想配列（辞書型もしくはマップ型）を作成せよ．"
      ]
    },
    {
      "cell_type": "code",
      "metadata": {
        "id": "_zftwIeKT0pn",
        "outputId": "7430bca6-af85-4f48-e9e4-03168dce5d92",
        "colab": {
          "base_uri": "https://localhost:8080/"
        }
      },
      "source": [
        "# 04\n",
        "\n",
        "str = \"Hi He Lied Because Boron Could Not Oxidize Fluorine. New Nations Might Also Sign Peace Security Clause. Arthur King Can.\"\n",
        "import re \n",
        "str = re.sub(\"\\,|\\.\", \"\", str)\n",
        "str1 = str.split()\n",
        "\n",
        "num = [1, 5, 6, 7, 8, 9, 15, 16, 19]\n",
        "result = {}\n",
        "\n",
        "for i, word in enumerate(str1):\n",
        "    if i+1 in num:\n",
        "        result[i+1] = word[0]\n",
        "    else:\n",
        "        result[i+1] = word[:2]\n",
        "\n",
        "print(result)"
      ],
      "execution_count": null,
      "outputs": [
        {
          "output_type": "stream",
          "name": "stdout",
          "text": [
            "{1: 'H', 2: 'He', 3: 'Li', 4: 'Be', 5: 'B', 6: 'C', 7: 'N', 8: 'O', 9: 'F', 10: 'Ne', 11: 'Na', 12: 'Mi', 13: 'Al', 14: 'Si', 15: 'P', 16: 'S', 17: 'Cl', 18: 'Ar', 19: 'K', 20: 'Ca'}\n"
          ]
        }
      ]
    },
    {
      "cell_type": "markdown",
      "source": [
        "05.与えられたシーケンス（文字列やリストなど）からn-gramを作る関数を作成せよ．この関数を用い，”I am an NLPer”という文から単語bi-gram，文字bi-gramを得よ．"
      ],
      "metadata": {
        "id": "_aBT2ZH0szi-"
      }
    },
    {
      "cell_type": "code",
      "metadata": {
        "id": "Hf9zgSB1T0un",
        "outputId": "3d1af418-f6e7-4a54-f603-12ee6f22c55a",
        "colab": {
          "base_uri": "https://localhost:8080/"
        }
      },
      "source": [
        "# 05\n",
        "\n",
        "def makeN_gram(sequence, n, mode):\n",
        "    if mode == \"word\":\n",
        "        sequence = sequence.split()\n",
        "        return [sequence[i:i+n] for i in range(len(sequence) - n + 1)]\n",
        "    elif mode == \"char\":\n",
        "        sequence = sequence.replace(' ','')\n",
        "        return [sequence[i:i+n] for i in range(len(sequence) - n + 1)]\n",
        "    else:\n",
        "        return -1\n",
        "\n",
        "str = \"I am an NLPer\"\n",
        "\n",
        "print(\"単語bi-gram\")\n",
        "print(makeN_gram(str, 2, \"word\"))\n",
        "print(\"文字bi-gram\")\n",
        "print(makeN_gram(str, 2, \"char\"))"
      ],
      "execution_count": null,
      "outputs": [
        {
          "output_type": "stream",
          "name": "stdout",
          "text": [
            "単語bi-gram\n",
            "[['I', 'am'], ['am', 'an'], ['an', 'NLPer']]\n",
            "文字bi-gram\n",
            "['Ia', 'am', 'ma', 'an', 'nN', 'NL', 'LP', 'Pe', 'er']\n"
          ]
        }
      ]
    },
    {
      "cell_type": "markdown",
      "source": [
        "06.“paraparaparadise”と”paragraph”に含まれる文字bi-gramの集合を，それぞれ, XとYとして求め，XとYの和集合，積集合，差集合を求めよ．さらに，’se’というbi-gramがXおよびYに含まれるかどうかを調べよ．"
      ],
      "metadata": {
        "id": "xK0Ri6BpMwjd"
      }
    },
    {
      "cell_type": "code",
      "source": [
        "# 06\n",
        "\n",
        "def bi_gram(sequence):\n",
        "    return {sequence[i:i+2] for i in range(len(sequence) - 1)}\n",
        "\n",
        "str1 = \"paraparaparadise\"\n",
        "str2 = \"paragraph\"\n",
        "\n",
        "X = bi_gram(str1)\n",
        "Y = bi_gram(str2)\n",
        "\n",
        "print(\"和集合\")\n",
        "print(X|Y) \n",
        "print(\"積集合\")\n",
        "print(X&Y) \n",
        "print(\"差集合\")\n",
        "print(X-Y) \n",
        "\n",
        "chkX = 'se' in X\n",
        "chkY = 'se' in Y \n",
        "print(chkX)\n",
        "print(chkY)\n"
      ],
      "metadata": {
        "id": "MCWWn8EnMfLw",
        "outputId": "2cf66f86-fae3-4953-f12e-d555d763c586",
        "colab": {
          "base_uri": "https://localhost:8080/"
        }
      },
      "execution_count": null,
      "outputs": [
        {
          "output_type": "stream",
          "name": "stdout",
          "text": [
            "和集合\n",
            "{'pa', 'se', 'ap', 'ag', 'ph', 'is', 'di', 'gr', 'ad', 'ar', 'ra'}\n",
            "積集合\n",
            "{'ar', 'ra', 'pa', 'ap'}\n",
            "差集合\n",
            "{'di', 'is', 'ad', 'se'}\n",
            "True\n",
            "False\n"
          ]
        }
      ]
    },
    {
      "cell_type": "markdown",
      "source": [
        "07.引数x, y, zを受け取り「x時のyはz」という文字列を返す関数を実装せよ．さらに，x=12, y=”気温”, z=22.4として，実行結果を確認せよ"
      ],
      "metadata": {
        "id": "3fnI55HUGtL8"
      }
    },
    {
      "cell_type": "code",
      "source": [
        "# 07\n",
        "\n",
        "def make_str(x, y, z):\n",
        "    x = str(x)\n",
        "    y = str(y)\n",
        "    z = str(z)\n",
        "    print(x + \"時の\" + y + \"は\" + z)\n",
        "\n",
        "make_str(12, \"気温\", 22.4)"
      ],
      "metadata": {
        "id": "zXpLsfGVG10Y",
        "outputId": "223e7505-f973-4329-90a3-04b18555002b",
        "colab": {
          "base_uri": "https://localhost:8080/"
        }
      },
      "execution_count": null,
      "outputs": [
        {
          "output_type": "stream",
          "name": "stdout",
          "text": [
            "12時の気温は22.4\n"
          ]
        }
      ]
    },
    {
      "cell_type": "markdown",
      "source": [
        "08.与えられた文字列の各文字を，以下の仕様で変換する関数cipherを実装せよ．<br>\n",
        "・英小文字ならば(219 - 文字コード)の文字に置換<br>\n",
        "・その他の文字はそのまま出力<br>\n",
        "この関数を用い，英語のメッセージを暗号化・復号化せよ．"
      ],
      "metadata": {
        "id": "eiNMjK3GGWZ0"
      }
    },
    {
      "cell_type": "code",
      "source": [
        "# 08 \n",
        "\n",
        "def cipher(str): \n",
        "    result = \"\"\n",
        "    for c in str:\n",
        "        if c.islower():\n",
        "            result += chr(219-ord(c))\n",
        "        else:\n",
        "            result += c\n",
        "    return result\n",
        "\n",
        "text = \"I am an NLPer\"\n",
        "# 暗号化\n",
        "result1 = cipher(text)\n",
        "print(result1)\n",
        "\n",
        "# 復号化\n",
        "result2 = cipher(result1)\n",
        "print(result2)"
      ],
      "metadata": {
        "id": "LtwERDHZIgrV",
        "outputId": "a53541d6-34e6-45ba-9d15-bfd9c9b11b6a",
        "colab": {
          "base_uri": "https://localhost:8080/"
        }
      },
      "execution_count": null,
      "outputs": [
        {
          "output_type": "stream",
          "name": "stdout",
          "text": [
            "I zn zm NLPvi\n",
            "I am an NLPer\n"
          ]
        }
      ]
    },
    {
      "cell_type": "markdown",
      "source": [
        "09.スペースで区切られた単語列に対して，各単語の先頭と末尾の文字は残し，それ以外の文字の順序をランダムに並び替えるプログラムを作成せよ．ただし，長さが４以下の単語は並び替えないこととする．適当な英語の文（例えば”I couldn’t believe that I could actually understand what I was reading : the phenomenal power of the human mind .”）を与え，その実行結果を確認せよ．"
      ],
      "metadata": {
        "id": "JrL2FEzigHpE"
      }
    },
    {
      "cell_type": "code",
      "source": [
        "# 09\n",
        "\n",
        "import random\n",
        "\n",
        "def str_random(str):\n",
        "    result = []\n",
        "    word_list = str.split(' ')\n",
        "    for words in word_list:\n",
        "        if len(words) > 4:\n",
        "            tmp_list = list(words[1:-1])\n",
        "            random.shuffle(tmp_list)\n",
        "            result.append(words[0] + ''.join(tmp_list) + words[-1])\n",
        "        else:\n",
        "            result.append(words)\n",
        "    return ' '.join(result)\n",
        "\n",
        "str =  \"I couldn’t believe that I could actually understand what I was reading : the phenomenal power of the human mind .\"\n",
        "print(str_random(str))"
      ],
      "metadata": {
        "id": "TG1uRxLDgGOv",
        "outputId": "65413e70-5c42-416a-c1e0-a765670b6f09",
        "colab": {
          "base_uri": "https://localhost:8080/"
        }
      },
      "execution_count": null,
      "outputs": [
        {
          "output_type": "stream",
          "name": "stdout",
          "text": [
            "I cun’dlot bielvee that I cloud acltauly urntansded what I was rnaideg : the pnhneemaol pwoer of the hamun mind .\n"
          ]
        }
      ]
    }
  ]
}