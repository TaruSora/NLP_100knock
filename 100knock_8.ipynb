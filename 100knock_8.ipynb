{
  "cells": [
    {
      "cell_type": "markdown",
      "metadata": {
        "id": "view-in-github",
        "colab_type": "text"
      },
      "source": [
        "<a href=\"https://colab.research.google.com/github/TaruSora/NLP_100knock/blob/main/100knock_8.ipynb\" target=\"_parent\"><img src=\"https://colab.research.google.com/assets/colab-badge.svg\" alt=\"Open In Colab\"/></a>"
      ]
    },
    {
      "cell_type": "code",
      "execution_count": null,
      "metadata": {
        "colab": {
          "base_uri": "https://localhost:8080/"
        },
        "id": "-mEW2zz7bt22",
        "outputId": "71aa6b55-808f-4046-b11b-22001ac1a84f"
      },
      "outputs": [
        {
          "output_type": "stream",
          "name": "stdout",
          "text": [
            "--2022-03-27 07:58:50--  https://archive.ics.uci.edu/ml/machine-learning-databases/00359/NewsAggregatorDataset.zip\n",
            "Resolving archive.ics.uci.edu (archive.ics.uci.edu)... 128.195.10.252\n",
            "Connecting to archive.ics.uci.edu (archive.ics.uci.edu)|128.195.10.252|:443... connected.\n",
            "HTTP request sent, awaiting response... 200 OK\n",
            "Length: 29224203 (28M) [application/x-httpd-php]\n",
            "Saving to: ‘NewsAggregatorDataset.zip’\n",
            "\n",
            "NewsAggregatorDatas 100%[===================>]  27.87M  30.9MB/s    in 0.9s    \n",
            "\n",
            "2022-03-27 07:58:51 (30.9 MB/s) - ‘NewsAggregatorDataset.zip’ saved [29224203/29224203]\n",
            "\n",
            "Archive:  NewsAggregatorDataset.zip\n",
            "  inflating: 2pageSessions.csv       \n",
            "   creating: __MACOSX/\n",
            "  inflating: __MACOSX/._2pageSessions.csv  \n",
            "  inflating: newsCorpora.csv         \n",
            "  inflating: __MACOSX/._newsCorpora.csv  \n",
            "  inflating: readme.txt              \n",
            "  inflating: __MACOSX/._readme.txt   \n"
          ]
        }
      ],
      "source": [
        "# 問題50のコードをそのまま利用\n",
        "!wget https://archive.ics.uci.edu/ml/machine-learning-databases/00359/NewsAggregatorDataset.zip\n",
        "!unzip NewsAggregatorDataset.zip\n",
        "!sed -e 's/\"/'\\''/g' newsCorpora.csv > newsCorpora_re.csv"
      ]
    },
    {
      "cell_type": "code",
      "execution_count": null,
      "metadata": {
        "colab": {
          "base_uri": "https://localhost:8080/"
        },
        "id": "pyeBsxjxcv_y",
        "outputId": "f482f4ea-46c0-47bc-a4f3-ded898cc2d29"
      },
      "outputs": [
        {
          "output_type": "stream",
          "name": "stdout",
          "text": [
            "学習用データ\n",
            "b    4501\n",
            "e    4235\n",
            "t    1220\n",
            "m     728\n",
            "Name: CATEGORY, dtype: int64\n",
            "評価用データ\n",
            "b    563\n",
            "e    529\n",
            "t    153\n",
            "m     91\n",
            "Name: CATEGORY, dtype: int64\n",
            "テスト用データ\n",
            "b    563\n",
            "e    530\n",
            "t    152\n",
            "m     91\n",
            "Name: CATEGORY, dtype: int64\n"
          ]
        }
      ],
      "source": [
        "import pandas as pd\n",
        "from sklearn.model_selection import train_test_split\n",
        "\n",
        "df = pd.read_csv('newsCorpora_re.csv', header=None, sep='\\t', names=['ID', 'TITLE', 'URL', 'PUBLISHER', 'CATEGORY', 'STORY', 'HOSTNAME', 'TIMESTAMP'])\n",
        "df = df.loc[df['PUBLISHER'].isin(['Reuters', 'Huffington Post', 'Businessweek', 'Contactmusic.com', 'Daily Mail']), ['TITLE', 'CATEGORY']]\n",
        "\n",
        "train, tmp = train_test_split(df, test_size=0.2, shuffle=True, random_state=42, stratify=df['CATEGORY'])\n",
        "valid, test = train_test_split(tmp, test_size=0.5, shuffle=True, random_state=42, stratify=tmp['CATEGORY'])\n",
        "\n",
        "train.to_csv('train.txt', sep='\\t', index=False)\n",
        "valid.to_csv('valid.txt', sep='\\t', index=False)\n",
        "test.to_csv('test.txt', sep='\\t', index=False)\n",
        "\n",
        "print('学習用データ')\n",
        "print(train['CATEGORY'].value_counts())\n",
        "print('評価用データ')\n",
        "print(valid['CATEGORY'].value_counts())\n",
        "print('テスト用データ')\n",
        "print(test['CATEGORY'].value_counts())"
      ]
    },
    {
      "cell_type": "markdown",
      "metadata": {
        "id": "l4ok5Z6TcLvN"
      },
      "source": [
        "70.問題50で構築した学習データ，検証データ，評価データを行列・ベクトルに変換したい．以上の仕様に基づき，以下の行列・ベクトルを作成し，ファイルに保存せよ．"
      ]
    },
    {
      "cell_type": "code",
      "execution_count": null,
      "metadata": {
        "colab": {
          "base_uri": "https://localhost:8080/"
        },
        "id": "72K_frWQNrik",
        "outputId": "c41454fc-a3ee-488e-980e-d7be7b9d422a"
      },
      "outputs": [
        {
          "output_type": "stream",
          "name": "stdout",
          "text": [
            "Access denied with the following error:\n"
          ]
        },
        {
          "output_type": "stream",
          "name": "stderr",
          "text": [
            "\n",
            " \tCannot retrieve the public link of the file. You may need to change\n",
            "\tthe permission to 'Anyone with the link', or have had many accesses. \n",
            "\n",
            "You may still be able to access the file from the browser:\n",
            "\n",
            "\t https://drive.google.com/uc?id=0B7XkCwpI5KDYNlNUTTlSS21pQmM \n",
            "\n"
          ]
        }
      ],
      "source": [
        "import gdown\n",
        "from gensim.models import KeyedVectors\n",
        "\n",
        "# 学習済み単語ベクトルのダウンロード\n",
        "url = \"https://drive.google.com/uc?id=0B7XkCwpI5KDYNlNUTTlSS21pQmM\"\n",
        "output = 'GoogleNews-vectors-negative300.bin.gz'\n",
        "gdown.download(url, output, quiet=True)\n",
        "\n",
        "# ダウンロードファイルのロード\n",
        "model = KeyedVectors.load_word2vec_format('./drive/MyDrive/100本ノック/第7章/GoogleNews-vectors-negative300.bin.gz', binary=True)"
      ]
    },
    {
      "cell_type": "code",
      "execution_count": null,
      "metadata": {
        "id": "n22lRzUJccsO"
      },
      "outputs": [],
      "source": [
        "# 70 単語ベクトルの和による特徴量\n",
        "\n",
        "import torch\n",
        "import string\n",
        "import re\n",
        "\n",
        "def w2v(text):\n",
        "    code_regex = re.compile('[!\"#$%&\\'\\\\\\\\()*+,-./:;<=>?@[\\\\]^_`{|}~「」〔〕“”〈〉『』【】＆＊・（）＄＃＠。、？！｀＋￥％]')\n",
        "    text = code_regex.sub(' ', text) # textから記号を除去、半角スペースに変換\n",
        "    words = text.split()\n",
        "    vec = [model[word] for word in words if word in model]\n",
        "\n",
        "    return torch.tensor(sum(vec)/len(vec))\n",
        "\n",
        "def makeVec(input, features, labels):\n",
        "    with open(input, 'r') as f:\n",
        "        category_dict={'b': 0, 't': 1, 'e':2, 'm':3}\n",
        "        df = pd.read_csv(input, sep='\\t')\n",
        "        \n",
        "        X = torch.stack([w2v(text) for text in df['TITLE']])\n",
        "        y = torch.tensor(df['CATEGORY'].map(category_dict))\n",
        "        torch.save(X, features)\n",
        "        torch.save(y, labels)\n",
        "        return X,y\n",
        "\n",
        "X_train, y_train = makeVec('train.txt', './drive/MyDrive/100本ノック/第8章/X_train.pt', './drive/MyDrive/100本ノック/第8章/y_train.pt')\n",
        "X_valid, y_valid = makeVec('valid.txt', './drive/MyDrive/100本ノック/第8章/X_valid.pt', './drive/MyDrive/100本ノック/第8章/y_valid.pt')\n",
        "X_test, y_test = makeVec('test.txt', './drive/MyDrive/100本ノック/第8章/y_test.pt', './drive/MyDrive/100本ノック/第8章/y_valid.pt')"
      ]
    },
    {
      "cell_type": "code",
      "execution_count": null,
      "metadata": {
        "colab": {
          "base_uri": "https://localhost:8080/"
        },
        "id": "koaKqQXw7n9i",
        "outputId": "bc9fe896-73b2-4035-d58d-db3cc8ef019a"
      },
      "outputs": [
        {
          "output_type": "stream",
          "name": "stdout",
          "text": [
            "torch.Size([10684, 300])\n",
            "tensor([[-0.0295,  0.0653, -0.0597,  ..., -0.0425,  0.0027,  0.0337],\n",
            "        [-0.0255,  0.0341,  0.0286,  ...,  0.0039,  0.0291, -0.0840],\n",
            "        [ 0.0564, -0.0839, -0.1227,  ...,  0.0672,  0.1786, -0.1000],\n",
            "        ...,\n",
            "        [ 0.1737, -0.1069, -0.1205,  ..., -0.0406,  0.1069, -0.0029],\n",
            "        [-0.0738, -0.0352, -0.0405,  ...,  0.0280,  0.0646,  0.0919],\n",
            "        [ 0.0394,  0.0317,  0.0094,  ...,  0.0160,  0.0709,  0.0104]])\n"
          ]
        }
      ],
      "source": [
        "print(X_train.size())\n",
        "print(X_train)"
      ]
    },
    {
      "cell_type": "code",
      "execution_count": null,
      "metadata": {
        "colab": {
          "base_uri": "https://localhost:8080/"
        },
        "id": "IUzxafle95LC",
        "outputId": "1faf8eb1-bb5c-4a03-b467-85e1a119e948"
      },
      "outputs": [
        {
          "output_type": "stream",
          "name": "stdout",
          "text": [
            "tensor([0, 0, 0, 2, 2, 0, 0, 3, 3, 2, 2, 0, 3, 0, 0, 2, 1, 2, 0, 2, 0, 2, 2, 0,\n",
            "        2, 2, 2, 0, 0, 2])\n"
          ]
        }
      ],
      "source": [
        "print(y_train[:30])"
      ]
    },
    {
      "cell_type": "markdown",
      "metadata": {
        "id": "YV34cLj4dDvQ"
      },
      "source": [
        "71.問題70で保存した行列を読み込み，学習データについて以下の計算を実行せよ．"
      ]
    },
    {
      "cell_type": "code",
      "execution_count": null,
      "metadata": {
        "colab": {
          "base_uri": "https://localhost:8080/"
        },
        "id": "YiEZ5vfedD4C",
        "outputId": "5c4e71b4-008d-4373-ac9b-69eb8f5a17b6"
      },
      "outputs": [
        {
          "output_type": "stream",
          "name": "stdout",
          "text": [
            "tensor([[0.4863, 0.0788, 0.0964, 0.3385]], grad_fn=<SoftmaxBackward0>)\n",
            "tensor([[0.4863, 0.0788, 0.0964, 0.3385],\n",
            "        [0.2343, 0.5188, 0.0455, 0.2013],\n",
            "        [0.2166, 0.0094, 0.1478, 0.6263],\n",
            "        [0.4842, 0.0300, 0.0933, 0.3926]], grad_fn=<SoftmaxBackward0>)\n"
          ]
        }
      ],
      "source": [
        "# 71 単層ニューラルネットワークによる予測\n",
        "\n",
        "from torch import nn\n",
        "\n",
        "class singleNet(nn.Module):\n",
        "    def __init__(self, n_input, n_output):\n",
        "        super().__init__()\n",
        "        self.fc = nn.Linear(n_input, n_output, bias=False)\n",
        "        nn.init.normal_(self.fc.weight, 0.0, 1.0) \n",
        "\n",
        "    def forward(self, x):\n",
        "        x = self.fc(x)\n",
        "        return x\n",
        "\n",
        "model1 = singleNet(300, 4)\n",
        "y_hat_1 = torch.softmax(model1(X_train[:1]), dim=-1)\n",
        "print(y_hat_1)\n",
        "y_hat = torch.softmax(model1.forward(X_train[:4]), dim=-1)\n",
        "print(y_hat)"
      ]
    },
    {
      "cell_type": "markdown",
      "metadata": {
        "id": "aMm4TRf_dD-e"
      },
      "source": [
        "72.学習データの事例x1と事例集合x1,x2,x3,x4に対して，クロスエントロピー損失と，行列Wに対する勾配を計算せよ．"
      ]
    },
    {
      "cell_type": "code",
      "execution_count": null,
      "metadata": {
        "colab": {
          "base_uri": "https://localhost:8080/"
        },
        "id": "gs_1Ru3tdEFw",
        "outputId": "df3aedac-33c7-4093-9121-9d81a2849c86"
      },
      "outputs": [
        {
          "output_type": "stream",
          "name": "stdout",
          "text": [
            "損失: 0.7209\n",
            "勾配:\n",
            "tensor([[ 0.0151, -0.0335,  0.0307,  ...,  0.0218, -0.0014, -0.0173],\n",
            "        [-0.0023,  0.0051, -0.0047,  ..., -0.0034,  0.0002,  0.0027],\n",
            "        [-0.0028,  0.0063, -0.0058,  ..., -0.0041,  0.0003,  0.0032],\n",
            "        [-0.0100,  0.0221, -0.0202,  ..., -0.0144,  0.0009,  0.0114]])\n",
            "損失: 1.5186\n",
            "勾配:\n",
            "tensor([[ 0.0125, -0.0022,  0.0335,  ..., -0.0165, -0.0420,  0.0405],\n",
            "        [-0.0028,  0.0053,  0.0027,  ..., -0.0007,  0.0042, -0.0099],\n",
            "        [-0.0267,  0.0058, -0.0193,  ...,  0.0165,  0.0091, -0.0209],\n",
            "        [ 0.0171, -0.0089, -0.0169,  ...,  0.0006,  0.0287, -0.0096]])\n"
          ]
        }
      ],
      "source": [
        "# 72 損失と勾配の計算\n",
        "\n",
        "criterion = nn.CrossEntropyLoss() # 損失関数\n",
        "l_1 = criterion(model1(X_train[:1]), y_train[:1]) # 事例x1の損失\n",
        "model1.zero_grad() # 勾配を初期化\n",
        "l_1.backward()\n",
        "print(f'損失: {l_1:.4f}')\n",
        "print(f'勾配:\\n{model1.fc.weight.grad}')\n",
        "\n",
        "l = criterion(model1(X_train[:4]), y_train[:4]) # 事例集合x1,x2,x3,x4の損失\n",
        "model1.zero_grad()\n",
        "l.backward()\n",
        "print(f'損失: {l:.4f}')\n",
        "print(f'勾配:\\n{model1.fc.weight.grad}')"
      ]
    },
    {
      "cell_type": "markdown",
      "metadata": {
        "id": "QqThsq3hdEML"
      },
      "source": [
        "73.確率的勾配降下法（SGD: Stochastic Gradient Descent）を用いて，行列Wを学習せよ．"
      ]
    },
    {
      "cell_type": "code",
      "execution_count": null,
      "metadata": {
        "colab": {
          "base_uri": "https://localhost:8080/"
        },
        "id": "_GfF0AITdESK",
        "outputId": "a61bef1c-7348-4d35-f4dc-7d4e368334ef"
      },
      "outputs": [
        {
          "output_type": "stream",
          "name": "stdout",
          "text": [
            "epoch: 1, loss_train: 0.4654\n",
            "epoch: 2, loss_train: 0.3193\n",
            "epoch: 3, loss_train: 0.2899\n",
            "epoch: 4, loss_train: 0.2746\n",
            "epoch: 5, loss_train: 0.2642\n",
            "epoch: 6, loss_train: 0.2573\n",
            "epoch: 7, loss_train: 0.2513\n",
            "epoch: 8, loss_train: 0.2473\n",
            "epoch: 9, loss_train: 0.2441\n",
            "epoch: 10, loss_train: 0.2404\n",
            "epoch: 11, loss_train: 0.2381\n",
            "epoch: 12, loss_train: 0.2369\n",
            "epoch: 13, loss_train: 0.2347\n",
            "epoch: 14, loss_train: 0.2334\n",
            "epoch: 15, loss_train: 0.2314\n",
            "epoch: 16, loss_train: 0.2301\n",
            "epoch: 17, loss_train: 0.2292\n",
            "epoch: 18, loss_train: 0.2275\n",
            "epoch: 19, loss_train: 0.2284\n",
            "epoch: 20, loss_train: 0.2270\n",
            "epoch: 21, loss_train: 0.2253\n",
            "epoch: 22, loss_train: 0.2252\n",
            "epoch: 23, loss_train: 0.2251\n",
            "epoch: 24, loss_train: 0.2243\n",
            "epoch: 25, loss_train: 0.2234\n",
            "epoch: 26, loss_train: 0.2233\n",
            "epoch: 27, loss_train: 0.2227\n",
            "epoch: 28, loss_train: 0.2218\n",
            "epoch: 29, loss_train: 0.2216\n",
            "epoch: 30, loss_train: 0.2216\n",
            "epoch: 31, loss_train: 0.2207\n",
            "epoch: 32, loss_train: 0.2214\n",
            "epoch: 33, loss_train: 0.2201\n",
            "epoch: 34, loss_train: 0.2202\n",
            "epoch: 35, loss_train: 0.2195\n",
            "epoch: 36, loss_train: 0.2199\n",
            "epoch: 37, loss_train: 0.2197\n",
            "epoch: 38, loss_train: 0.2190\n",
            "epoch: 39, loss_train: 0.2190\n",
            "epoch: 40, loss_train: 0.2191\n",
            "epoch: 41, loss_train: 0.2186\n",
            "epoch: 42, loss_train: 0.2181\n",
            "epoch: 43, loss_train: 0.2178\n",
            "epoch: 44, loss_train: 0.2186\n",
            "epoch: 45, loss_train: 0.2175\n",
            "epoch: 46, loss_train: 0.2175\n",
            "epoch: 47, loss_train: 0.2176\n",
            "epoch: 48, loss_train: 0.2170\n",
            "epoch: 49, loss_train: 0.2168\n",
            "epoch: 50, loss_train: 0.2169\n",
            "epoch: 51, loss_train: 0.2170\n",
            "epoch: 52, loss_train: 0.2171\n",
            "epoch: 53, loss_train: 0.2165\n",
            "epoch: 54, loss_train: 0.2167\n",
            "epoch: 55, loss_train: 0.2160\n",
            "epoch: 56, loss_train: 0.2164\n",
            "epoch: 57, loss_train: 0.2159\n",
            "epoch: 58, loss_train: 0.2163\n",
            "epoch: 59, loss_train: 0.2164\n",
            "epoch: 60, loss_train: 0.2156\n",
            "epoch: 61, loss_train: 0.2160\n",
            "epoch: 62, loss_train: 0.2159\n",
            "epoch: 63, loss_train: 0.2155\n",
            "epoch: 64, loss_train: 0.2163\n",
            "epoch: 65, loss_train: 0.2159\n",
            "epoch: 66, loss_train: 0.2161\n",
            "epoch: 67, loss_train: 0.2151\n",
            "epoch: 68, loss_train: 0.2144\n",
            "epoch: 69, loss_train: 0.2151\n",
            "epoch: 70, loss_train: 0.2148\n",
            "epoch: 71, loss_train: 0.2150\n",
            "epoch: 72, loss_train: 0.2158\n",
            "epoch: 73, loss_train: 0.2150\n",
            "epoch: 74, loss_train: 0.2153\n",
            "epoch: 75, loss_train: 0.2148\n",
            "epoch: 76, loss_train: 0.2152\n",
            "epoch: 77, loss_train: 0.2156\n",
            "epoch: 78, loss_train: 0.2146\n",
            "epoch: 79, loss_train: 0.2147\n",
            "epoch: 80, loss_train: 0.2152\n",
            "epoch: 81, loss_train: 0.2150\n",
            "epoch: 82, loss_train: 0.2149\n",
            "epoch: 83, loss_train: 0.2147\n",
            "epoch: 84, loss_train: 0.2147\n",
            "epoch: 85, loss_train: 0.2145\n",
            "epoch: 86, loss_train: 0.2150\n",
            "epoch: 87, loss_train: 0.2147\n",
            "epoch: 88, loss_train: 0.2149\n",
            "epoch: 89, loss_train: 0.2144\n",
            "epoch: 90, loss_train: 0.2144\n",
            "epoch: 91, loss_train: 0.2148\n",
            "epoch: 92, loss_train: 0.2146\n",
            "epoch: 93, loss_train: 0.2136\n",
            "epoch: 94, loss_train: 0.2136\n",
            "epoch: 95, loss_train: 0.2144\n",
            "epoch: 96, loss_train: 0.2144\n",
            "epoch: 97, loss_train: 0.2140\n",
            "epoch: 98, loss_train: 0.2141\n",
            "epoch: 99, loss_train: 0.2147\n",
            "epoch: 100, loss_train: 0.2145\n"
          ]
        }
      ],
      "source": [
        "# 73 確率的勾配降下法による学習\n",
        "\n",
        "from torch.utils.data import TensorDataset, DataLoader\n",
        "\n",
        "model2 = singleNet(300, 4)\n",
        "batch_size=1\n",
        "\n",
        "# Datasetの作成\n",
        "train = TensorDataset(X_train, y_train)\n",
        "valid = TensorDataset(X_valid, y_valid)\n",
        "test = TensorDataset(X_test, y_test)\n",
        "# Dataloaderの作成\n",
        "dataloader_train = DataLoader(train, batch_size=batch_size, shuffle=True)\n",
        "dataloader_valid = DataLoader(valid, batch_size=batch_size, shuffle=False)\n",
        "dataloader_test = DataLoader(test, batch_size=batch_size, shuffle=False)\n",
        "\n",
        "# 損失関数、オプティマイザ\n",
        "criterion = nn.CrossEntropyLoss()\n",
        "optimizer = torch.optim.SGD(model2.parameters(), lr=1e-1)\n",
        "\n",
        "iteration = 100\n",
        "for epoch in range(iteration):\n",
        "    model2.train()\n",
        "    loss_train = 0.0\n",
        "    for i, (x, t) in enumerate(dataloader_train):\n",
        "        # 勾配の初期化\n",
        "        optimizer.zero_grad()\n",
        "        # 順伝播→誤差逆伝播→重み更新\n",
        "        y = model2(x)\n",
        "        loss = criterion(y, t)\n",
        "        loss.backward()\n",
        "        optimizer.step()\n",
        "        loss_train += loss\n",
        "    loss_train=loss_train/i\n",
        "    \n",
        "    print(f'epoch: {epoch+1}, loss_train: {loss_train:.4f}')"
      ]
    },
    {
      "cell_type": "markdown",
      "metadata": {
        "id": "8u_xtUjbdEYn"
      },
      "source": [
        "74.問題73で求めた行列を用いて学習データおよび評価データの事例を分類したとき，その正解率をそれぞれ求めよ．"
      ]
    },
    {
      "cell_type": "code",
      "execution_count": null,
      "metadata": {
        "colab": {
          "base_uri": "https://localhost:8080/"
        },
        "id": "LjOfUDrNdEeP",
        "outputId": "cc1acc87-df50-4995-a927-b87cadce9ca3"
      },
      "outputs": [
        {
          "output_type": "stream",
          "name": "stdout",
          "text": [
            "学習用データの正解率：0.9276\n",
            "評価用データの正解率：0.9012\n"
          ]
        }
      ],
      "source": [
        "# 74 正解率の計測\n",
        "\n",
        "def calc_acc(model, dataloader):\n",
        "    model.eval()\n",
        "    total = 0\n",
        "    correct = 0\n",
        "    with torch.no_grad():\n",
        "        for x, t in dataloader:\n",
        "            y = model(x)\n",
        "            pred = torch.argmax(y, dim=-1)\n",
        "            total += len(x)\n",
        "            correct += (pred == t).sum().item()\n",
        "    acc = correct/total\n",
        "    return acc\n",
        "\n",
        "train_acc = calc_acc(model2, dataloader_train)\n",
        "test_acc = calc_acc(model2, dataloader_test)\n",
        "print(f'学習用データの正解率：{train_acc:.4f}')\n",
        "print(f'評価用データの正解率：{test_acc:.4f}')"
      ]
    },
    {
      "cell_type": "markdown",
      "metadata": {
        "id": "ldGOBsredEj2"
      },
      "source": [
        "75.問題73のコードを改変し，各エポックのパラメータ更新が完了するたびに，訓練データでの損失，正解率，検証データでの損失，正解率をグラフにプロットし，学習の進捗状況を確認できるようにせよ．"
      ]
    },
    {
      "cell_type": "code",
      "execution_count": null,
      "metadata": {
        "id": "GxNKX_hcLfM6",
        "colab": {
          "base_uri": "https://localhost:8080/"
        },
        "outputId": "41b69e52-6eaa-4d59-d9b7-52247a9781f3"
      },
      "outputs": [
        {
          "output_type": "stream",
          "name": "stdout",
          "text": [
            "epoch: 1, train_acc: 0.8885, train_loss: 0.3304,\n",
            "epoch: 2, train_acc: 0.9023, train_loss: 0.2889,\n",
            "epoch: 3, train_acc: 0.9112, train_loss: 0.2683,\n",
            "epoch: 4, train_acc: 0.9123, train_loss: 0.2576,\n",
            "epoch: 5, train_acc: 0.9160, train_loss: 0.2494,\n",
            "epoch: 6, train_acc: 0.9193, train_loss: 0.2437,\n",
            "epoch: 7, train_acc: 0.9184, train_loss: 0.2410,\n",
            "epoch: 8, train_acc: 0.9202, train_loss: 0.2357,\n",
            "epoch: 9, train_acc: 0.9216, train_loss: 0.2333,\n",
            "epoch: 10, train_acc: 0.9239, train_loss: 0.2307,\n",
            "epoch: 11, train_acc: 0.9240, train_loss: 0.2287,\n",
            "epoch: 12, train_acc: 0.9252, train_loss: 0.2258,\n",
            "epoch: 13, train_acc: 0.9244, train_loss: 0.2247,\n",
            "epoch: 14, train_acc: 0.9245, train_loss: 0.2234,\n",
            "epoch: 15, train_acc: 0.9222, train_loss: 0.2254,\n",
            "epoch: 16, train_acc: 0.9239, train_loss: 0.2218,\n",
            "epoch: 17, train_acc: 0.9248, train_loss: 0.2212,\n",
            "epoch: 18, train_acc: 0.9259, train_loss: 0.2203,\n",
            "epoch: 19, train_acc: 0.9245, train_loss: 0.2188,\n",
            "epoch: 20, train_acc: 0.9246, train_loss: 0.2197,\n",
            "epoch: 21, train_acc: 0.9247, train_loss: 0.2184,\n",
            "epoch: 22, train_acc: 0.9246, train_loss: 0.2170,\n",
            "epoch: 23, train_acc: 0.9271, train_loss: 0.2162,\n",
            "epoch: 24, train_acc: 0.9274, train_loss: 0.2155,\n",
            "epoch: 25, train_acc: 0.9243, train_loss: 0.2167,\n",
            "epoch: 26, train_acc: 0.9253, train_loss: 0.2182,\n",
            "epoch: 27, train_acc: 0.9266, train_loss: 0.2146,\n",
            "epoch: 28, train_acc: 0.9254, train_loss: 0.2195,\n",
            "epoch: 29, train_acc: 0.9252, train_loss: 0.2178,\n",
            "epoch: 30, train_acc: 0.9255, train_loss: 0.2144,\n",
            "epoch: 31, train_acc: 0.9284, train_loss: 0.2129,\n",
            "epoch: 32, train_acc: 0.9287, train_loss: 0.2127,\n",
            "epoch: 33, train_acc: 0.9281, train_loss: 0.2122,\n",
            "epoch: 34, train_acc: 0.9262, train_loss: 0.2153,\n",
            "epoch: 35, train_acc: 0.9270, train_loss: 0.2121,\n",
            "epoch: 36, train_acc: 0.9255, train_loss: 0.2124,\n",
            "epoch: 37, train_acc: 0.9289, train_loss: 0.2111,\n",
            "epoch: 38, train_acc: 0.9279, train_loss: 0.2109,\n",
            "epoch: 39, train_acc: 0.9266, train_loss: 0.2131,\n",
            "epoch: 40, train_acc: 0.9276, train_loss: 0.2112,\n",
            "epoch: 41, train_acc: 0.9285, train_loss: 0.2105,\n",
            "epoch: 42, train_acc: 0.9277, train_loss: 0.2110,\n",
            "epoch: 43, train_acc: 0.9268, train_loss: 0.2138,\n",
            "epoch: 44, train_acc: 0.9287, train_loss: 0.2106,\n",
            "epoch: 45, train_acc: 0.9283, train_loss: 0.2097,\n",
            "epoch: 46, train_acc: 0.9285, train_loss: 0.2099,\n",
            "epoch: 47, train_acc: 0.9286, train_loss: 0.2095,\n",
            "epoch: 48, train_acc: 0.9286, train_loss: 0.2098,\n",
            "epoch: 49, train_acc: 0.9290, train_loss: 0.2103,\n",
            "epoch: 50, train_acc: 0.9276, train_loss: 0.2102,\n",
            "epoch: 51, train_acc: 0.9282, train_loss: 0.2125,\n",
            "epoch: 52, train_acc: 0.9276, train_loss: 0.2097,\n",
            "epoch: 53, train_acc: 0.9283, train_loss: 0.2091,\n",
            "epoch: 54, train_acc: 0.9280, train_loss: 0.2100,\n",
            "epoch: 55, train_acc: 0.9270, train_loss: 0.2097,\n",
            "epoch: 56, train_acc: 0.9280, train_loss: 0.2084,\n",
            "epoch: 57, train_acc: 0.9284, train_loss: 0.2087,\n",
            "epoch: 58, train_acc: 0.9276, train_loss: 0.2096,\n",
            "epoch: 59, train_acc: 0.9279, train_loss: 0.2125,\n",
            "epoch: 60, train_acc: 0.9290, train_loss: 0.2086,\n",
            "epoch: 61, train_acc: 0.9289, train_loss: 0.2082,\n",
            "epoch: 62, train_acc: 0.9275, train_loss: 0.2083,\n",
            "epoch: 63, train_acc: 0.9273, train_loss: 0.2085,\n",
            "epoch: 64, train_acc: 0.9280, train_loss: 0.2086,\n",
            "epoch: 65, train_acc: 0.9282, train_loss: 0.2089,\n",
            "epoch: 66, train_acc: 0.9284, train_loss: 0.2117,\n",
            "epoch: 67, train_acc: 0.9273, train_loss: 0.2090,\n",
            "epoch: 68, train_acc: 0.9285, train_loss: 0.2088,\n",
            "epoch: 69, train_acc: 0.9269, train_loss: 0.2109,\n",
            "epoch: 70, train_acc: 0.9271, train_loss: 0.2083,\n",
            "epoch: 71, train_acc: 0.9272, train_loss: 0.2081,\n",
            "epoch: 72, train_acc: 0.9294, train_loss: 0.2074,\n",
            "epoch: 73, train_acc: 0.9288, train_loss: 0.2079,\n",
            "epoch: 74, train_acc: 0.9290, train_loss: 0.2091,\n",
            "epoch: 75, train_acc: 0.9293, train_loss: 0.2077,\n",
            "epoch: 76, train_acc: 0.9287, train_loss: 0.2083,\n",
            "epoch: 77, train_acc: 0.9276, train_loss: 0.2079,\n",
            "epoch: 78, train_acc: 0.9258, train_loss: 0.2117,\n",
            "epoch: 79, train_acc: 0.9298, train_loss: 0.2087,\n",
            "epoch: 80, train_acc: 0.9285, train_loss: 0.2074,\n",
            "epoch: 81, train_acc: 0.9287, train_loss: 0.2075,\n",
            "epoch: 82, train_acc: 0.9276, train_loss: 0.2096,\n",
            "epoch: 83, train_acc: 0.9284, train_loss: 0.2099,\n",
            "epoch: 84, train_acc: 0.9290, train_loss: 0.2078,\n",
            "epoch: 85, train_acc: 0.9281, train_loss: 0.2072,\n",
            "epoch: 86, train_acc: 0.9274, train_loss: 0.2107,\n",
            "epoch: 87, train_acc: 0.9281, train_loss: 0.2099,\n",
            "epoch: 88, train_acc: 0.9280, train_loss: 0.2082,\n",
            "epoch: 89, train_acc: 0.9286, train_loss: 0.2068,\n",
            "epoch: 90, train_acc: 0.9292, train_loss: 0.2070,\n",
            "epoch: 91, train_acc: 0.9288, train_loss: 0.2066,\n",
            "epoch: 92, train_acc: 0.9291, train_loss: 0.2084,\n",
            "epoch: 93, train_acc: 0.9276, train_loss: 0.2077,\n",
            "epoch: 94, train_acc: 0.9281, train_loss: 0.2100,\n",
            "epoch: 95, train_acc: 0.9284, train_loss: 0.2074,\n",
            "epoch: 96, train_acc: 0.9281, train_loss: 0.2066,\n",
            "epoch: 97, train_acc: 0.9292, train_loss: 0.2063,\n",
            "epoch: 98, train_acc: 0.9282, train_loss: 0.2089,\n",
            "epoch: 99, train_acc: 0.9288, train_loss: 0.2070,\n",
            "epoch: 100, train_acc: 0.9279, train_loss: 0.2086,\n"
          ]
        }
      ],
      "source": [
        "# 75 損失と正解率のプロット\n",
        "\n",
        "import numpy as np\n",
        "from matplotlib import pyplot as plt\n",
        "\n",
        "# 74の関数で損失も計算できるように改変\n",
        "def calc_acc_loss(model, dataloader):\n",
        "    model.eval()\n",
        "    total = 0\n",
        "    correct = 0\n",
        "    loss = 0.0\n",
        "    criterion = nn.CrossEntropyLoss()\n",
        "    with torch.no_grad():\n",
        "        for x, t in dataloader:\n",
        "            y = model(x)\n",
        "            pred = torch.argmax(y, dim=-1)\n",
        "            loss += criterion(y, t)\n",
        "            total += len(x)\n",
        "            correct += (pred == t).sum().item()\n",
        "    \n",
        "    acc = correct/total\n",
        "    loss1 = loss/len(dataloader)\n",
        "    return acc, loss1\n",
        "\n",
        "model3 = singleNet(300, 4)\n",
        "optimizer = torch.optim.SGD(model3.parameters(), lr=1e-1)\n",
        "\n",
        "iteration = 100\n",
        "train_log = []\n",
        "valid_log = []\n",
        "for epoch in range(iteration):\n",
        "    model3.train()\n",
        "    for i, (x, t) in enumerate(dataloader_train):\n",
        "        # 勾配の初期化\n",
        "        optimizer.zero_grad()\n",
        "        # 順伝播→誤差逆伝播→重み更新\n",
        "        y = model3(x)\n",
        "        loss = criterion(y, t)\n",
        "        loss.backward()\n",
        "        optimizer.step()\n",
        "\n",
        "    train_acc, train_loss = calc_acc_loss(model3, dataloader_train)\n",
        "    valid_acc, valid_loss = calc_acc_loss(model3, dataloader_valid)\n",
        "    train_log.append([train_acc, train_loss])\n",
        "    valid_log.append([valid_acc, valid_loss])\n",
        "\n",
        "    print(f'epoch: {epoch+1}, train_acc: {train_acc:.4f}, train_loss: {train_loss:.4f},')\n"
      ]
    },
    {
      "cell_type": "code",
      "execution_count": null,
      "metadata": {
        "id": "Lh-ydBLddY_y",
        "colab": {
          "base_uri": "https://localhost:8080/",
          "height": 334
        },
        "outputId": "b4fa3f6c-b8fb-433c-f613-54b44bbdd2c8"
      },
      "outputs": [
        {
          "output_type": "display_data",
          "data": {
            "text/plain": [
              "<Figure size 1080x360 with 2 Axes>"
            ],
            "image/png": "[encoded data removed]"
          },
          "metadata": {
            "needs_background": "light"
          }
        }
      ],
      "source": [
        "import numpy as np\n",
        "\n",
        "figure, ax = plt.subplots(1, 2, figsize=(15, 5))\n",
        "ax[0].plot(np.array(train_log).T[0], label='train')\n",
        "ax[0].plot(np.array(valid_log).T[0], label='valid')\n",
        "ax[0].set_xlabel('epoch')\n",
        "ax[0].set_ylabel('accuracy')\n",
        "ax[0].legend()\n",
        "ax[1].plot(np.array(train_log).T[1], label='train')\n",
        "ax[1].plot(np.array(valid_log).T[1], label='valid')\n",
        "ax[1].set_xlabel('epoch')\n",
        "ax[1].set_ylabel('loss')\n",
        "ax[1].legend()\n",
        "plt.show()"
      ]
    },
    {
      "cell_type": "markdown",
      "metadata": {
        "id": "Zw2YWrFgdagX"
      },
      "source": [
        "76.問題75のコードを改変し，各エポックのパラメータ更新が完了するたびに，チェックポイント（学習途中のパラメータ（重み行列など）の値や最適化アルゴリズムの内部状態）をファイルに書き出せ．"
      ]
    },
    {
      "cell_type": "code",
      "execution_count": null,
      "metadata": {
        "id": "63MJ_6_7da8C",
        "colab": {
          "base_uri": "https://localhost:8080/"
        },
        "outputId": "ce53b68b-c729-4735-9b97-ba6670c1ff5e"
      },
      "outputs": [
        {
          "output_type": "stream",
          "name": "stdout",
          "text": [
            "epoch: 1, train_acc: 0.8827, train_loss: 0.3405,\n",
            "epoch: 2, train_acc: 0.8992, train_loss: 0.2924,\n",
            "epoch: 3, train_acc: 0.9078, train_loss: 0.2724,\n",
            "epoch: 4, train_acc: 0.9081, train_loss: 0.2613,\n",
            "epoch: 5, train_acc: 0.9154, train_loss: 0.2496,\n",
            "epoch: 6, train_acc: 0.9181, train_loss: 0.2441,\n",
            "epoch: 7, train_acc: 0.9166, train_loss: 0.2425,\n",
            "epoch: 8, train_acc: 0.9203, train_loss: 0.2395,\n",
            "epoch: 9, train_acc: 0.9203, train_loss: 0.2342,\n",
            "epoch: 10, train_acc: 0.9232, train_loss: 0.2308,\n",
            "epoch: 11, train_acc: 0.9230, train_loss: 0.2286,\n",
            "epoch: 12, train_acc: 0.9238, train_loss: 0.2263,\n",
            "epoch: 13, train_acc: 0.9204, train_loss: 0.2282,\n",
            "epoch: 14, train_acc: 0.9226, train_loss: 0.2249,\n",
            "epoch: 15, train_acc: 0.9215, train_loss: 0.2256,\n",
            "epoch: 16, train_acc: 0.9227, train_loss: 0.2249,\n",
            "epoch: 17, train_acc: 0.9250, train_loss: 0.2201,\n",
            "epoch: 18, train_acc: 0.9258, train_loss: 0.2213,\n",
            "epoch: 19, train_acc: 0.9262, train_loss: 0.2191,\n",
            "epoch: 20, train_acc: 0.9240, train_loss: 0.2189,\n",
            "epoch: 21, train_acc: 0.9262, train_loss: 0.2192,\n",
            "epoch: 22, train_acc: 0.9263, train_loss: 0.2181,\n",
            "epoch: 23, train_acc: 0.9264, train_loss: 0.2165,\n",
            "epoch: 24, train_acc: 0.9252, train_loss: 0.2157,\n",
            "epoch: 25, train_acc: 0.9276, train_loss: 0.2147,\n",
            "epoch: 26, train_acc: 0.9229, train_loss: 0.2187,\n",
            "epoch: 27, train_acc: 0.9273, train_loss: 0.2144,\n",
            "epoch: 28, train_acc: 0.9260, train_loss: 0.2159,\n",
            "epoch: 29, train_acc: 0.9259, train_loss: 0.2142,\n",
            "epoch: 30, train_acc: 0.9268, train_loss: 0.2138,\n"
          ]
        }
      ],
      "source": [
        "# 76 チェックポイント\n",
        "\n",
        "model4 = singleNet(300, 4)\n",
        "criterion = nn.CrossEntropyLoss()\n",
        "optimizer = torch.optim.SGD(model4.parameters(), lr=1e-1)\n",
        "\n",
        "iteration = 30\n",
        "train_log = []\n",
        "valid_log = []\n",
        "for epoch in range(iteration):\n",
        "    model4.train()\n",
        "    train_loss = 0.0\n",
        "    for x, t in dataloader_train:\n",
        "        # 勾配の初期化\n",
        "        optimizer.zero_grad()\n",
        "        # 順伝播→誤差逆伝播→重み更新\n",
        "        y = model4(x)\n",
        "        loss = criterion(y, t)\n",
        "        loss.backward()\n",
        "        optimizer.step()\n",
        "\n",
        "    train_acc, train_loss = calc_acc_loss(model4, dataloader_train)\n",
        "    valid_acc, valid_loss = calc_acc_loss(model4, dataloader_valid)\n",
        "    train_log.append([train_acc, train_loss])\n",
        "    valid_log.append([valid_acc, valid_loss])\n",
        "\n",
        "    # チェックポイント保存\n",
        "    torch.save({'epoch': epoch, 'model_state_dict': model4.state_dict(), 'optimizer_state_dict': optimizer.state_dict()}, f'checkpoint{epoch + 1}.pt')\n",
        "\n",
        "    print(f'epoch: {epoch+1}, train_acc: {train_acc:.4f}, train_loss: {train_loss:.4f},')"
      ]
    },
    {
      "cell_type": "markdown",
      "metadata": {
        "id": "HuE_y3jddbC0"
      },
      "source": [
        "77.問題76のコードを改変し，B事例ごとに損失・勾配を計算し，行列Wの値を更新せよ（ミニバッチ化）．Bの値を1,2,4,8,…と変化させながら，1エポックの学習に要する時間を比較せよ．"
      ]
    },
    {
      "cell_type": "code",
      "execution_count": null,
      "metadata": {
        "id": "EVavOXnudbJf"
      },
      "outputs": [],
      "source": [
        "# 77 ミニバッチ化\n",
        "\n",
        "def model_function(train, valid, model, batch_size):\n",
        "    import time\n",
        "    dataloader_train = DataLoader(train, batch_size=batch_size, shuffle=True)\n",
        "    dataloader_valid = DataLoader(valid, batch_size=batch_size, shuffle=False)\n",
        "    \n",
        "    criterion = nn.CrossEntropyLoss()\n",
        "    optimizer = torch.optim.SGD(model.parameters(), lr=1e-1)\n",
        "\n",
        "    train_log = []\n",
        "    valid_log = []\n",
        "\n",
        "    # 時間の計測\n",
        "    start = time.time()\n",
        "\n",
        "    # 1エポックの学習時間を比較するためループは回さない\n",
        "    model.train()\n",
        "    train_loss = 0.0\n",
        "    for x, t in dataloader_train:\n",
        "        # 勾配の初期化\n",
        "        optimizer.zero_grad()\n",
        "        # 順伝播→誤差逆伝播→重み更新\n",
        "        y = model(x)\n",
        "        loss = criterion(y, t)\n",
        "        loss.backward()\n",
        "        optimizer.step()\n",
        "\n",
        "    train_acc, train_loss = calc_acc_loss(model, dataloader_train)\n",
        "    valid_acc, valid_loss = calc_acc_loss(model, dataloader_valid)\n",
        "    train_log.append([train_acc, train_loss])\n",
        "    valid_log.append([valid_acc, valid_loss])\n",
        "\n",
        "    # チェックポイント保存\n",
        "    torch.save({'epoch': epoch, 'model_state_dict': model.state_dict(), 'optimizer_state_dict': optimizer.state_dict()}, f'checkpoint{epoch + 1}.pt')\n",
        "    \n",
        "    end = time.time()\n",
        "    time = end - start\n",
        "\n",
        "    return train_acc, train_loss, time"
      ]
    },
    {
      "cell_type": "code",
      "execution_count": null,
      "metadata": {
        "id": "smELCMjBf-N8",
        "colab": {
          "base_uri": "https://localhost:8080/"
        },
        "outputId": "e67558cd-efe3-4206-c9ac-5aa10b47c486"
      },
      "outputs": [
        {
          "output_type": "stream",
          "name": "stdout",
          "text": [
            "バッチサイズ：1\n",
            "train_acc: 0.8868, train_loss: 0.3341, time: 6.9487 sec\n",
            "バッチサイズ：2\n",
            "train_acc: 0.8965, train_loss: 0.3046, time: 3.6819 sec\n",
            "バッチサイズ：4\n",
            "train_acc: 0.9004, train_loss: 0.2959, time: 1.9266 sec\n",
            "バッチサイズ：8\n",
            "train_acc: 0.9020, train_loss: 0.2918, time: 1.0560 sec\n",
            "バッチサイズ：16\n",
            "train_acc: 0.9032, train_loss: 0.2900, time: 0.6161 sec\n",
            "バッチサイズ：32\n",
            "train_acc: 0.9037, train_loss: 0.2891, time: 0.3645 sec\n",
            "バッチサイズ：64\n",
            "train_acc: 0.9038, train_loss: 0.2886, time: 0.2782 sec\n",
            "バッチサイズ：128\n",
            "train_acc: 0.9041, train_loss: 0.2877, time: 0.2045 sec\n",
            "バッチサイズ：256\n",
            "train_acc: 0.9042, train_loss: 0.2885, time: 0.1908 sec\n",
            "バッチサイズ：512\n",
            "train_acc: 0.9042, train_loss: 0.2883, time: 0.1678 sec\n"
          ]
        }
      ],
      "source": [
        "train = TensorDataset(X_train, y_train)\n",
        "valid = TensorDataset(X_valid, y_valid)\n",
        "model5 = singleNet(300, 4)\n",
        "\n",
        "for i in [1, 2, 4, 8, 16, 32, 64, 128, 256, 512]:\n",
        "    print(f'バッチサイズ：{i}')\n",
        "    acc, loss, time = model_function(train, valid, model5, i)\n",
        "    print(f'train_acc: {acc:.4f}, train_loss: {loss:.4f}, time: {time:.4f} sec')"
      ]
    },
    {
      "cell_type": "markdown",
      "metadata": {
        "id": "5-fnDLqldbQh"
      },
      "source": [
        "78.問題77のコードを改変し，GPU上で学習を実行せよ."
      ]
    },
    {
      "cell_type": "code",
      "execution_count": null,
      "metadata": {
        "id": "uWAZqaRddbXA"
      },
      "outputs": [],
      "source": [
        "# 78 GPU上での学習\n",
        "\n",
        "# 75の関数を改変\n",
        "def calc_acc_loss(model, dataloader, device):\n",
        "    model.eval()\n",
        "    total = 0\n",
        "    correct = 0\n",
        "    loss = 0.0\n",
        "    criterion = nn.CrossEntropyLoss()\n",
        "    with torch.no_grad():\n",
        "        for x, t in dataloader:\n",
        "            x = x.to(device)\n",
        "            t = t.to(device)\n",
        "            y = model(x)\n",
        "            pred = torch.argmax(y, dim=-1)\n",
        "            loss += criterion(y, t)\n",
        "            total += len(x)\n",
        "            correct += (pred == t).sum().item()\n",
        "    \n",
        "    acc = correct/total\n",
        "    loss1 = loss/len(dataloader)\n",
        "    return acc, loss1\n",
        "\n",
        "# 77の関数を改変\n",
        "def model_function(train, valid, model, batch_size, device):\n",
        "    import time\n",
        "    model.to(device)\n",
        "    dataloader_train = DataLoader(train, batch_size=batch_size, shuffle=True)\n",
        "    dataloader_valid = DataLoader(valid, batch_size=batch_size, shuffle=False)\n",
        "    \n",
        "    criterion = nn.CrossEntropyLoss()\n",
        "    optimizer = torch.optim.SGD(model.parameters(), lr=1e-1)\n",
        "\n",
        "    train_log = []\n",
        "    valid_log = []\n",
        "\n",
        "    # 時間の計測\n",
        "    start = time.time()\n",
        "\n",
        "    # 1エポックの学習時間を比較するためループは回さない\n",
        "    model.train()\n",
        "    train_loss = 0.0\n",
        "    for x, t in dataloader_train:\n",
        "        # データをGPUへ転送\n",
        "        x = x.to(device)\n",
        "        t = t.to(device)\n",
        "        # 勾配の初期化\n",
        "        optimizer.zero_grad()\n",
        "        # 順伝播→誤差逆伝播→重み更新\n",
        "        y = model(x)\n",
        "        loss = criterion(y, t)\n",
        "        loss.backward()\n",
        "        optimizer.step()\n",
        "\n",
        "    train_acc, train_loss = calc_acc_loss(model, dataloader_train, device)\n",
        "    valid_acc, valid_loss = calc_acc_loss(model, dataloader_valid, device)\n",
        "    train_log.append([train_acc, train_loss])\n",
        "    valid_log.append([valid_acc, valid_loss])\n",
        "\n",
        "    # チェックポイント保存\n",
        "    torch.save({'epoch': epoch, 'model_state_dict': model.state_dict(), 'optimizer_state_dict': optimizer.state_dict()}, f'checkpoint{epoch + 1}.pt')\n",
        "    \n",
        "    end = time.time()\n",
        "    time = end - start\n",
        "\n",
        "    return train_acc, train_loss, time"
      ]
    },
    {
      "cell_type": "code",
      "execution_count": null,
      "metadata": {
        "id": "oeZXyoYVlQzI",
        "colab": {
          "base_uri": "https://localhost:8080/"
        },
        "outputId": "1a6a24c7-1c22-4173-d85c-d11daca118fe"
      },
      "outputs": [
        {
          "output_type": "stream",
          "name": "stdout",
          "text": [
            "バッチサイズ：1\n",
            "train_acc: 0.8825, train_loss: 0.3329, time: 15.1700 sec\n",
            "バッチサイズ：2\n",
            "train_acc: 0.8959, train_loss: 0.3046, time: 7.5577 sec\n",
            "バッチサイズ：4\n",
            "train_acc: 0.8982, train_loss: 0.2952, time: 3.8745 sec\n",
            "バッチサイズ：8\n",
            "train_acc: 0.9004, train_loss: 0.2916, time: 1.9965 sec\n",
            "バッチサイズ：16\n",
            "train_acc: 0.9013, train_loss: 0.2898, time: 1.0770 sec\n",
            "バッチサイズ：32\n",
            "train_acc: 0.9007, train_loss: 0.2886, time: 0.6288 sec\n",
            "バッチサイズ：64\n",
            "train_acc: 0.9008, train_loss: 0.2883, time: 0.3842 sec\n",
            "バッチサイズ：128\n",
            "train_acc: 0.9005, train_loss: 0.2890, time: 0.2592 sec\n",
            "バッチサイズ：256\n",
            "train_acc: 0.9005, train_loss: 0.2879, time: 0.2076 sec\n",
            "バッチサイズ：512\n",
            "train_acc: 0.9005, train_loss: 0.2879, time: 0.1720 sec\n"
          ]
        }
      ],
      "source": [
        "train = TensorDataset(X_train, y_train)\n",
        "valid = TensorDataset(X_valid, y_valid)\n",
        "model6 = singleNet(300, 4)\n",
        "device = torch.device('cuda:0')\n",
        "\n",
        "for batch_size in [1, 2, 4, 8, 16, 32, 64, 128, 256, 512]:\n",
        "    print(f'バッチサイズ：{batch_size}')\n",
        "    acc, loss, time = model_function(train, valid, model6, batch_size, device)\n",
        "    print(f'train_acc: {acc:.4f}, train_loss: {loss:.4f}, time: {time:.4f} sec')"
      ]
    },
    {
      "cell_type": "markdown",
      "metadata": {
        "id": "o3_C7l2pdbcv"
      },
      "source": [
        "79.問題78のコードを改変し，バイアス項の導入や多層化など，ニューラルネットワークの形状を変更しながら，高性能なカテゴリ分類器を構築せよ．\n"
      ]
    },
    {
      "cell_type": "code",
      "execution_count": null,
      "metadata": {
        "id": "BpsgPyfCdbjC"
      },
      "outputs": [],
      "source": [
        "# 79 多層ニューラルネットワーク\n",
        "\n",
        "import torch.nn.functional as F\n",
        "\n",
        "class multiNet(nn.Module):\n",
        "    def __init__(self, n_input, n_mid, n_output, n_layer):\n",
        "        super().__init__()\n",
        "        self.n_layer = n_layer\n",
        "        self.fc_in = nn.Linear(n_input, n_mid)\n",
        "        self.fc_mid = nn.Linear(n_mid, n_mid)\n",
        "        self.fc_out = nn.Linear(n_mid, n_output)\n",
        "        self.bn = nn.BatchNorm1d(n_mid)\n",
        "    def forward(self, x):\n",
        "        x = F.relu(self.fc_in(x))\n",
        "        for _ in range(self.n_layer):\n",
        "            x = F.relu(self.bn(self.fc_mid(x)))\n",
        "        x = F.relu(self.fc_out(x))\n",
        "\n",
        "        return x"
      ]
    },
    {
      "cell_type": "code",
      "source": [
        "# 78の関数\n",
        "def calc_acc_loss(model, dataloader, device):\n",
        "    model.eval()\n",
        "    total = 0\n",
        "    correct = 0\n",
        "    loss = 0.0\n",
        "    criterion = nn.CrossEntropyLoss()\n",
        "    with torch.no_grad():\n",
        "        for x, t in dataloader:\n",
        "            x = x.to(device)\n",
        "            t = t.to(device)\n",
        "            y = model(x)\n",
        "            pred = torch.argmax(y, dim=-1)\n",
        "            loss += criterion(y, t)\n",
        "            total += len(x)\n",
        "            correct += (pred == t).sum().item()\n",
        "    \n",
        "    acc = correct/total\n",
        "    loss1 = loss/len(dataloader)\n",
        "    return acc, loss1\n",
        "\n",
        "# 78の関数を改変\n",
        "def model_function(train, valid, model, batch_size, device, epochs):\n",
        "    import time\n",
        "    from torch import optim\n",
        "    model.to(device)\n",
        "    dataloader_train = DataLoader(train, batch_size=batch_size, shuffle=True)\n",
        "    dataloader_valid = DataLoader(valid, batch_size=len(valid), shuffle=False)\n",
        "    \n",
        "    criterion = nn.CrossEntropyLoss()\n",
        "    optimizer = torch.optim.SGD(model.parameters(), lr=1e-1)\n",
        "\n",
        "    scheduler = optim.lr_scheduler.CosineAnnealingLR(optimizer, epochs, eta_min=1e-5, last_epoch=-1)\n",
        "\n",
        "    train_log = []\n",
        "    valid_log = []\n",
        "    for epoch in range(epochs):\n",
        "        # 時間の計測\n",
        "        start = time.time()\n",
        "\n",
        "        model.train()\n",
        "        train_loss = 0.0\n",
        "        for x, t in dataloader_train:\n",
        "            # データをGPUへ転送\n",
        "            x = x.to(device)\n",
        "            t = t.to(device)\n",
        "            # 勾配の初期化\n",
        "            optimizer.zero_grad()\n",
        "            # 順伝播→誤差逆伝播→重み更新\n",
        "            y = model.forward(x)\n",
        "            loss = criterion(y, t)\n",
        "            loss.backward()\n",
        "            optimizer.step()\n",
        "\n",
        "        train_acc, train_loss = calc_acc_loss(model, dataloader_train, device)\n",
        "        valid_acc, valid_loss = calc_acc_loss(model, dataloader_valid, device)\n",
        "        train_log.append([train_acc, train_loss])\n",
        "        valid_log.append([valid_acc, valid_loss])\n",
        "\n",
        "        # チェックポイント保存\n",
        "        torch.save({'epoch': epoch, 'model_state_dict': model.state_dict(), 'optimizer_state_dict': optimizer.state_dict()}, f'checkpoint{epoch + 1}.pt')\n",
        "        \n",
        "        end = time.time()\n",
        "        timeval = end - start\n",
        "        \n",
        "        print(f'epoch: {epoch + 1}, loss_train: {train_loss}, accuracy_train: {train_acc}, loss_valid: {valid_loss}, accuracy_valid: {valid_acc}, {time}sec')\n",
        "\n",
        "        # 3エポック連続で損失が減らなかった場合学習終了\n",
        "        if epoch > 2 and valid_log[epoch-3][0] <= valid_log[epoch-2][0] <= valid_log[epoch-1][0] <= valid_log[epoch][0]:\n",
        "            break\n",
        "\n",
        "        scheduler.step()\n",
        "\n",
        "    return {'train': train_log, 'valid': valid_log}"
      ],
      "metadata": {
        "id": "fuVxIWl8nSvD"
      },
      "execution_count": null,
      "outputs": []
    },
    {
      "cell_type": "code",
      "source": [
        "train = TensorDataset(X_train, y_train)\n",
        "valid = TensorDataset(X_valid, y_valid)\n",
        "model7 = multiNet(300, 200, 4, 1)\n",
        "\n",
        "device = torch.device('cuda:0')\n",
        "\n",
        "log = model_function(train, valid, model7, 64, device, 1000)"
      ],
      "metadata": {
        "colab": {
          "base_uri": "https://localhost:8080/"
        },
        "id": "pGtTjZ7R3ci4",
        "outputId": "ecb63a2f-11c6-4069-f956-60b4a4657f8f"
      },
      "execution_count": null,
      "outputs": [
        {
          "output_type": "stream",
          "name": "stdout",
          "text": [
            "epoch: 1, loss_train: 0.23426881432533264, accuracy_train: 0.9238113066267316, loss_valid: 0.2582070231437683, accuracy_valid: 0.9124251497005988, <module 'time' (built-in)>sec\n",
            "epoch: 2, loss_train: 0.19794544577598572, accuracy_train: 0.9327031074503931, loss_valid: 0.2567870020866394, accuracy_valid: 0.9049401197604791, <module 'time' (built-in)>sec\n",
            "epoch: 3, loss_train: 0.16973043978214264, accuracy_train: 0.943373268438787, loss_valid: 0.2476508766412735, accuracy_valid: 0.9124251497005988, <module 'time' (built-in)>sec\n",
            "epoch: 4, loss_train: 0.16070610284805298, accuracy_train: 0.9441220516660427, loss_valid: 0.2671181261539459, accuracy_valid: 0.9131736526946108, <module 'time' (built-in)>sec\n",
            "epoch: 5, loss_train: 0.13627775013446808, accuracy_train: 0.9587233245975291, loss_valid: 0.26359549164772034, accuracy_valid: 0.9079341317365269, <module 'time' (built-in)>sec\n",
            "epoch: 6, loss_train: 0.09287526458501816, accuracy_train: 0.9731374017222014, loss_valid: 0.25569677352905273, accuracy_valid: 0.9109281437125748, <module 'time' (built-in)>sec\n",
            "epoch: 7, loss_train: 0.0709361881017685, accuracy_train: 0.9797828528640958, loss_valid: 0.26624077558517456, accuracy_valid: 0.9169161676646707, <module 'time' (built-in)>sec\n",
            "epoch: 8, loss_train: 0.06217522174119949, accuracy_train: 0.9828715836765256, loss_valid: 0.2646917402744293, accuracy_valid: 0.9139221556886228, <module 'time' (built-in)>sec\n",
            "epoch: 9, loss_train: 0.06832565367221832, accuracy_train: 0.9828715836765256, loss_valid: 0.28544846177101135, accuracy_valid: 0.9109281437125748, <module 'time' (built-in)>sec\n",
            "epoch: 10, loss_train: 0.057929281145334244, accuracy_train: 0.981935604642456, loss_valid: 0.3022255301475525, accuracy_valid: 0.9109281437125748, <module 'time' (built-in)>sec\n",
            "epoch: 11, loss_train: 0.029628900811076164, accuracy_train: 0.9931673530512917, loss_valid: 0.31327784061431885, accuracy_valid: 0.9094311377245509, <module 'time' (built-in)>sec\n",
            "epoch: 12, loss_train: 0.08490979671478271, accuracy_train: 0.9663047547734931, loss_valid: 0.35656094551086426, accuracy_valid: 0.8914670658682635, <module 'time' (built-in)>sec\n",
            "epoch: 13, loss_train: 0.020994840189814568, accuracy_train: 0.9962560838637214, loss_valid: 0.28575947880744934, accuracy_valid: 0.9199101796407185, <module 'time' (built-in)>sec\n",
            "epoch: 14, loss_train: 0.012956405989825726, accuracy_train: 0.9984088356420816, loss_valid: 0.2936303913593292, accuracy_valid: 0.9176646706586826, <module 'time' (built-in)>sec\n",
            "epoch: 15, loss_train: 0.01041432935744524, accuracy_train: 0.9985024335454886, loss_valid: 0.30017825961112976, accuracy_valid: 0.9146706586826348, <module 'time' (built-in)>sec\n",
            "epoch: 16, loss_train: 0.013559168204665184, accuracy_train: 0.997192062897791, loss_valid: 0.32391417026519775, accuracy_valid: 0.907185628742515, <module 'time' (built-in)>sec\n",
            "epoch: 17, loss_train: 0.011448358185589314, accuracy_train: 0.9980344440284538, loss_valid: 0.3435352146625519, accuracy_valid: 0.9139221556886228, <module 'time' (built-in)>sec\n",
            "epoch: 18, loss_train: 0.006561230402439833, accuracy_train: 0.9988768251591165, loss_valid: 0.33175644278526306, accuracy_valid: 0.9101796407185628, <module 'time' (built-in)>sec\n",
            "epoch: 19, loss_train: 0.006812023930251598, accuracy_train: 0.9990640209659304, loss_valid: 0.31476548314094543, accuracy_valid: 0.9184131736526946, <module 'time' (built-in)>sec\n",
            "epoch: 20, loss_train: 0.009078139439225197, accuracy_train: 0.9985024335454886, loss_valid: 0.3385451138019562, accuracy_valid: 0.9101796407185628, <module 'time' (built-in)>sec\n",
            "epoch: 21, loss_train: 0.0062003908678889275, accuracy_train: 0.9986896293523025, loss_valid: 0.3267839252948761, accuracy_valid: 0.9146706586826348, <module 'time' (built-in)>sec\n",
            "epoch: 22, loss_train: 0.005672853905707598, accuracy_train: 0.9990640209659304, loss_valid: 0.36139726638793945, accuracy_valid: 0.9176646706586826, <module 'time' (built-in)>sec\n",
            "epoch: 23, loss_train: 0.008935087360441685, accuracy_train: 0.9983152377386747, loss_valid: 0.3379446864128113, accuracy_valid: 0.9161676646706587, <module 'time' (built-in)>sec\n",
            "epoch: 24, loss_train: 0.004932613577693701, accuracy_train: 0.9991576188693373, loss_valid: 0.3360895812511444, accuracy_valid: 0.9169161676646707, <module 'time' (built-in)>sec\n",
            "epoch: 25, loss_train: 0.003499272745102644, accuracy_train: 0.9992512167727443, loss_valid: 0.33629006147384644, accuracy_valid: 0.9161676646706587, <module 'time' (built-in)>sec\n",
            "epoch: 26, loss_train: 0.004064458422362804, accuracy_train: 0.9992512167727443, loss_valid: 0.347365140914917, accuracy_valid: 0.9169161676646707, <module 'time' (built-in)>sec\n",
            "epoch: 27, loss_train: 0.0039005298167467117, accuracy_train: 0.9992512167727443, loss_valid: 0.34567657113075256, accuracy_valid: 0.9176646706586826, <module 'time' (built-in)>sec\n",
            "epoch: 28, loss_train: 0.003357964102178812, accuracy_train: 0.9991576188693373, loss_valid: 0.340310662984848, accuracy_valid: 0.9191616766467066, <module 'time' (built-in)>sec\n"
          ]
        }
      ]
    },
    {
      "cell_type": "code",
      "source": [
        "# 正解率の計算\n",
        "\n",
        "def calc_acc_single(model, dataloader):\n",
        "    model.eval()\n",
        "    total = 0\n",
        "    correct = 0\n",
        "    with torch.no_grad():\n",
        "        for x, t in dataloader:\n",
        "            y = model(x)\n",
        "            pred = torch.argmax(y, dim=-1)\n",
        "            total += len(x)\n",
        "            correct += (pred == t).sum().item()\n",
        "    acc = correct/total\n",
        "    return acc\n",
        "\n",
        "def calc_acc_multi(model, dataloader, device):\n",
        "    model.eval()\n",
        "    total = 0\n",
        "    correct = 0\n",
        "    with torch.no_grad():\n",
        "        for x, t in dataloader:\n",
        "            x = x.to(device)\n",
        "            t = t.to(device)\n",
        "            y = model(x)\n",
        "            pred = torch.argmax(y, dim=-1)\n",
        "            total += len(x)\n",
        "            correct += (pred == t).sum().item()\n",
        "    acc = correct/total\n",
        "    return acc\n",
        "\n",
        "train_acc = calc_acc_single(model2, dataloader_train)\n",
        "test_acc = calc_acc_single(model2, dataloader_test)\n",
        "print('単層ネットワーク')\n",
        "print(f'学習用データの正解率：{train_acc:.4f}')\n",
        "print(f'評価用データの正解率：{test_acc:.4f}')\n",
        "\n",
        "dataloader_train = DataLoader(train, batch_size=batch_size, shuffle=True)\n",
        "dataloader_valid = DataLoader(valid, batch_size=len(valid), shuffle=False)\n",
        "\n",
        "train_acc = calc_acc_multi(model7, dataloader_train, device)\n",
        "test_acc = calc_acc_multi(model7, dataloader_test, device)\n",
        "print('\\n多層ネットワーク')\n",
        "print(f'学習用データの正解率：{train_acc:.4f}')\n",
        "print(f'評価用データの正解率：{test_acc:.4f}')"
      ],
      "metadata": {
        "id": "xj1_TRqvxCnZ",
        "colab": {
          "base_uri": "https://localhost:8080/"
        },
        "outputId": "45627f24-47dd-4226-a34a-7a821dfac4eb"
      },
      "execution_count": null,
      "outputs": [
        {
          "output_type": "stream",
          "name": "stdout",
          "text": [
            "単層ネットワーク\n",
            "学習用データの正解率：0.9276\n",
            "評価用データの正解率：0.9012\n",
            "\n",
            "多層ネットワーク\n",
            "学習用データの正解率：0.9992\n",
            "評価用データの正解率：0.9184\n"
          ]
        }
      ]
    }
  ],
  "metadata": {
    "accelerator": "GPU",
    "colab": {
      "name": "100knock_8.ipynb",
      "provenance": [],
      "collapsed_sections": [],
      "mount_file_id": "1CEsuFhcbHFA-iT7NiDAqZ6DW5Djenvht",
      "authorship_tag": "ABX9TyPnizWjg4Ci42LoR6B/6YVr",
      "include_colab_link": true
    },
    "kernelspec": {
      "display_name": "Python 3",
      "name": "python3"
    },
    "language_info": {
      "name": "python"
    }
  },
  "nbformat": 4,
  "nbformat_minor": 0
}