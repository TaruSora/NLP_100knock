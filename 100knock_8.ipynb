{
  "cells": [
    {
      "cell_type": "markdown",
      "metadata": {
        "id": "view-in-github",
        "colab_type": "text"
      },
      "source": [
        "<a href=\"https://colab.research.google.com/github/TaruSora/NLP_100knock/blob/main/100knock_8.ipynb\" target=\"_parent\"><img src=\"https://colab.research.google.com/assets/colab-badge.svg\" alt=\"Open In Colab\"/></a>"
      ]
    },
    {
      "cell_type": "code",
      "execution_count": 1,
      "metadata": {
        "colab": {
          "base_uri": "https://localhost:8080/"
        },
        "id": "-mEW2zz7bt22",
        "outputId": "be5b2506-9318-4935-c8e5-47fdfe251ef7"
      },
      "outputs": [
        {
          "output_type": "stream",
          "name": "stdout",
          "text": [
            "--2022-04-13 01:16:11--  https://archive.ics.uci.edu/ml/machine-learning-databases/00359/NewsAggregatorDataset.zip\n",
            "Resolving archive.ics.uci.edu (archive.ics.uci.edu)... 128.195.10.252\n",
            "Connecting to archive.ics.uci.edu (archive.ics.uci.edu)|128.195.10.252|:443... connected.\n",
            "HTTP request sent, awaiting response... 200 OK\n",
            "Length: 29224203 (28M) [application/x-httpd-php]\n",
            "Saving to: ‘NewsAggregatorDataset.zip’\n",
            "\n",
            "NewsAggregatorDatas 100%[===================>]  27.87M  24.6MB/s    in 1.1s    \n",
            "\n",
            "2022-04-13 01:16:12 (24.6 MB/s) - ‘NewsAggregatorDataset.zip’ saved [29224203/29224203]\n",
            "\n",
            "Archive:  NewsAggregatorDataset.zip\n",
            "  inflating: 2pageSessions.csv       \n",
            "   creating: __MACOSX/\n",
            "  inflating: __MACOSX/._2pageSessions.csv  \n",
            "  inflating: newsCorpora.csv         \n",
            "  inflating: __MACOSX/._newsCorpora.csv  \n",
            "  inflating: readme.txt              \n",
            "  inflating: __MACOSX/._readme.txt   \n"
          ]
        }
      ],
      "source": [
        "# 問題50のコードをそのまま利用\n",
        "!wget https://archive.ics.uci.edu/ml/machine-learning-databases/00359/NewsAggregatorDataset.zip\n",
        "!unzip NewsAggregatorDataset.zip\n",
        "!sed -e 's/\"/'\\''/g' newsCorpora.csv > newsCorpora_re.csv"
      ]
    },
    {
      "cell_type": "code",
      "execution_count": 2,
      "metadata": {
        "colab": {
          "base_uri": "https://localhost:8080/"
        },
        "id": "pyeBsxjxcv_y",
        "outputId": "e33bb1bf-554c-4127-c2f9-5744eae514cf"
      },
      "outputs": [
        {
          "output_type": "stream",
          "name": "stdout",
          "text": [
            "学習用データ\n",
            "b    4501\n",
            "e    4235\n",
            "t    1220\n",
            "m     728\n",
            "Name: CATEGORY, dtype: int64\n",
            "評価用データ\n",
            "b    563\n",
            "e    529\n",
            "t    153\n",
            "m     91\n",
            "Name: CATEGORY, dtype: int64\n",
            "テスト用データ\n",
            "b    563\n",
            "e    530\n",
            "t    152\n",
            "m     91\n",
            "Name: CATEGORY, dtype: int64\n"
          ]
        }
      ],
      "source": [
        "import pandas as pd\n",
        "from sklearn.model_selection import train_test_split\n",
        "\n",
        "df = pd.read_csv('newsCorpora_re.csv', header=None, sep='\\t', names=['ID', 'TITLE', 'URL', 'PUBLISHER', 'CATEGORY', 'STORY', 'HOSTNAME', 'TIMESTAMP'])\n",
        "df = df.loc[df['PUBLISHER'].isin(['Reuters', 'Huffington Post', 'Businessweek', 'Contactmusic.com', 'Daily Mail']), ['TITLE', 'CATEGORY']]\n",
        "\n",
        "train, tmp = train_test_split(df, test_size=0.2, shuffle=True, random_state=42, stratify=df['CATEGORY'])\n",
        "valid, test = train_test_split(tmp, test_size=0.5, shuffle=True, random_state=42, stratify=tmp['CATEGORY'])\n",
        "\n",
        "train.to_csv('train.txt', sep='\\t', index=False)\n",
        "valid.to_csv('valid.txt', sep='\\t', index=False)\n",
        "test.to_csv('test.txt', sep='\\t', index=False)\n",
        "\n",
        "print('学習用データ')\n",
        "print(train['CATEGORY'].value_counts())\n",
        "print('評価用データ')\n",
        "print(valid['CATEGORY'].value_counts())\n",
        "print('テスト用データ')\n",
        "print(test['CATEGORY'].value_counts())"
      ]
    },
    {
      "cell_type": "markdown",
      "metadata": {
        "id": "l4ok5Z6TcLvN"
      },
      "source": [
        "70.問題50で構築した学習データ，検証データ，評価データを行列・ベクトルに変換したい．以上の仕様に基づき，以下の行列・ベクトルを作成し，ファイルに保存せよ．"
      ]
    },
    {
      "cell_type": "code",
      "execution_count": 3,
      "metadata": {
        "colab": {
          "base_uri": "https://localhost:8080/"
        },
        "id": "72K_frWQNrik",
        "outputId": "4d62dc38-5470-4658-8bf9-98cf180e57dc"
      },
      "outputs": [
        {
          "output_type": "stream",
          "name": "stdout",
          "text": [
            "Access denied with the following error:\n"
          ]
        },
        {
          "output_type": "stream",
          "name": "stderr",
          "text": [
            "\n",
            " \tToo many users have viewed or downloaded this file recently. Please\n",
            "\ttry accessing the file again later. If the file you are trying to\n",
            "\taccess is particularly large or is shared with many people, it may\n",
            "\ttake up to 24 hours to be able to view or download the file. If you\n",
            "\tstill can't access a file after 24 hours, contact your domain\n",
            "\tadministrator. \n",
            "\n",
            "You may still be able to access the file from the browser:\n",
            "\n",
            "\t https://drive.google.com/uc?id=0B7XkCwpI5KDYNlNUTTlSS21pQmM \n",
            "\n"
          ]
        }
      ],
      "source": [
        "import gdown\n",
        "from gensim.models import KeyedVectors\n",
        "\n",
        "# 学習済み単語ベクトルのダウンロード\n",
        "url = \"https://drive.google.com/uc?id=0B7XkCwpI5KDYNlNUTTlSS21pQmM\"\n",
        "output = 'GoogleNews-vectors-negative300.bin.gz'\n",
        "gdown.download(url, output, quiet=True)\n",
        "\n",
        "# ダウンロードファイルのロード\n",
        "model = KeyedVectors.load_word2vec_format('./drive/MyDrive/100本ノック/第7章/GoogleNews-vectors-negative300.bin.gz', binary=True)"
      ]
    },
    {
      "cell_type": "code",
      "execution_count": 4,
      "metadata": {
        "id": "n22lRzUJccsO"
      },
      "outputs": [],
      "source": [
        "# 70 単語ベクトルの和による特徴量\n",
        "\n",
        "import torch\n",
        "import string\n",
        "\n",
        "def w2v(text):\n",
        "    code_regex = str.maketrans(string.punctuation, ' '*len(string.punctuation))\n",
        "    text = text.translate(code_regex)\n",
        "    words = text.split()\n",
        "    vec = [model[word] for word in words if word in model]\n",
        "\n",
        "    return torch.tensor(sum(vec)/len(vec))\n",
        "\n",
        "def makeVec(input, features, labels):\n",
        "    with open(input, 'r') as f:\n",
        "        category_dict={'b': 0, 't': 1, 'e':2, 'm':3}\n",
        "        df = pd.read_csv(input, sep='\\t')\n",
        "        \n",
        "        X = torch.stack([w2v(text) for text in df['TITLE']])\n",
        "        y = torch.tensor(df['CATEGORY'].map(category_dict))\n",
        "        torch.save(X, features)\n",
        "        torch.save(y, labels)\n",
        "        return X,y\n",
        "\n",
        "X_train, y_train = makeVec('train.txt', './drive/MyDrive/100本ノック/第8章/X_train.pt', './drive/MyDrive/100本ノック/第8章/y_train.pt')\n",
        "X_valid, y_valid = makeVec('valid.txt', './drive/MyDrive/100本ノック/第8章/X_valid.pt', './drive/MyDrive/100本ノック/第8章/y_valid.pt')\n",
        "X_test, y_test = makeVec('test.txt', './drive/MyDrive/100本ノック/第8章/y_test.pt', './drive/MyDrive/100本ノック/第8章/y_valid.pt')"
      ]
    },
    {
      "cell_type": "code",
      "execution_count": 5,
      "metadata": {
        "colab": {
          "base_uri": "https://localhost:8080/"
        },
        "id": "koaKqQXw7n9i",
        "outputId": "a00dfb88-d652-46f5-b304-da25339c1aea"
      },
      "outputs": [
        {
          "output_type": "stream",
          "name": "stdout",
          "text": [
            "torch.Size([10684, 300])\n",
            "tensor([[-0.0295,  0.0653, -0.0597,  ..., -0.0425,  0.0027,  0.0337],\n",
            "        [-0.0255,  0.0341,  0.0286,  ...,  0.0039,  0.0291, -0.0840],\n",
            "        [ 0.0564, -0.0839, -0.1227,  ...,  0.0672,  0.1786, -0.1000],\n",
            "        ...,\n",
            "        [ 0.1737, -0.1069, -0.1205,  ..., -0.0406,  0.1069, -0.0029],\n",
            "        [-0.0738, -0.0352, -0.0405,  ...,  0.0280,  0.0646,  0.0919],\n",
            "        [ 0.0394,  0.0317,  0.0094,  ...,  0.0160,  0.0709,  0.0104]])\n"
          ]
        }
      ],
      "source": [
        "print(X_train.size())\n",
        "print(X_train)"
      ]
    },
    {
      "cell_type": "code",
      "execution_count": 6,
      "metadata": {
        "colab": {
          "base_uri": "https://localhost:8080/"
        },
        "id": "IUzxafle95LC",
        "outputId": "568a1c28-2a26-41f5-b295-d45eac7cf89a"
      },
      "outputs": [
        {
          "output_type": "stream",
          "name": "stdout",
          "text": [
            "tensor([0, 0, 0, 2, 2, 0, 0, 3, 3, 2, 2, 0, 3, 0, 0, 2, 1, 2, 0, 2, 0, 2, 2, 0,\n",
            "        2, 2, 2, 0, 0, 2])\n"
          ]
        }
      ],
      "source": [
        "print(y_train[:30])"
      ]
    },
    {
      "cell_type": "markdown",
      "metadata": {
        "id": "YV34cLj4dDvQ"
      },
      "source": [
        "71.問題70で保存した行列を読み込み，学習データについて以下の計算を実行せよ．"
      ]
    },
    {
      "cell_type": "code",
      "execution_count": 7,
      "metadata": {
        "colab": {
          "base_uri": "https://localhost:8080/"
        },
        "id": "YiEZ5vfedD4C",
        "outputId": "25db9fdf-8faf-43f7-d85a-f406bd7aebcf"
      },
      "outputs": [
        {
          "output_type": "stream",
          "name": "stdout",
          "text": [
            "tensor([[0.0775, 0.2344, 0.4707, 0.2174]], grad_fn=<SoftmaxBackward0>)\n",
            "tensor([[0.0775, 0.2344, 0.4707, 0.2174],\n",
            "        [0.3224, 0.0216, 0.3280, 0.3280],\n",
            "        [0.4164, 0.0515, 0.5001, 0.0320],\n",
            "        [0.1869, 0.4600, 0.3501, 0.0031]], grad_fn=<SoftmaxBackward0>)\n"
          ]
        }
      ],
      "source": [
        "# 71 単層ニューラルネットワークによる予測\n",
        "\n",
        "from torch import nn\n",
        "\n",
        "class singleNet(nn.Module):\n",
        "    def __init__(self, n_input, n_output):\n",
        "        super().__init__()\n",
        "        self.fc = nn.Linear(n_input, n_output, bias=False)\n",
        "        nn.init.normal_(self.fc.weight, 0.0, 1.0) \n",
        "\n",
        "    def forward(self, x):\n",
        "        x = self.fc(x)\n",
        "        return x\n",
        "\n",
        "model1 = singleNet(300, 4)\n",
        "y_hat_1 = torch.softmax(model1(X_train[:1]), dim=-1)\n",
        "print(y_hat_1)\n",
        "y_hat = torch.softmax(model1.forward(X_train[:4]), dim=-1)\n",
        "print(y_hat)"
      ]
    },
    {
      "cell_type": "markdown",
      "metadata": {
        "id": "aMm4TRf_dD-e"
      },
      "source": [
        "72.学習データの事例x1と事例集合x1,x2,x3,x4に対して，クロスエントロピー損失と，行列Wに対する勾配を計算せよ．"
      ]
    },
    {
      "cell_type": "code",
      "execution_count": 8,
      "metadata": {
        "colab": {
          "base_uri": "https://localhost:8080/"
        },
        "id": "gs_1Ru3tdEFw",
        "outputId": "71e14340-b0e0-4eee-8ef9-a27cce46c54e"
      },
      "outputs": [
        {
          "output_type": "stream",
          "name": "stdout",
          "text": [
            "損失: 2.5577\n",
            "勾配:\n",
            "tensor([[ 0.0272, -0.0602,  0.0551,  ...,  0.0392, -0.0025, -0.0311],\n",
            "        [-0.0069,  0.0153, -0.0140,  ..., -0.0100,  0.0006,  0.0079],\n",
            "        [-0.0139,  0.0307, -0.0281,  ..., -0.0200,  0.0013,  0.0159],\n",
            "        [-0.0064,  0.0142, -0.0130,  ..., -0.0092,  0.0006,  0.0073]])\n",
            "損失: 1.4038\n",
            "勾配:\n",
            "tensor([[ 0.0086, -0.0100,  0.0296,  ..., -0.0038, -0.0320,  0.0246],\n",
            "        [ 0.0130, -0.0006,  0.0020,  ..., -0.0092,  0.0015,  0.0089],\n",
            "        [-0.0184,  0.0049, -0.0298,  ...,  0.0145,  0.0266, -0.0277],\n",
            "        [-0.0031,  0.0057, -0.0018,  ..., -0.0015,  0.0039, -0.0058]])\n"
          ]
        }
      ],
      "source": [
        "# 72 損失と勾配の計算\n",
        "\n",
        "criterion = nn.CrossEntropyLoss() # 損失関数\n",
        "l_1 = criterion(model1(X_train[:1]), y_train[:1]) # 事例x1の損失\n",
        "model1.zero_grad() # 勾配を初期化\n",
        "l_1.backward()\n",
        "print(f'損失: {l_1:.4f}')\n",
        "print(f'勾配:\\n{model1.fc.weight.grad}')\n",
        "\n",
        "l = criterion(model1(X_train[:4]), y_train[:4]) # 事例集合x1,x2,x3,x4の損失\n",
        "model1.zero_grad()\n",
        "l.backward()\n",
        "print(f'損失: {l:.4f}')\n",
        "print(f'勾配:\\n{model1.fc.weight.grad}')"
      ]
    },
    {
      "cell_type": "markdown",
      "metadata": {
        "id": "QqThsq3hdEML"
      },
      "source": [
        "73.確率的勾配降下法（SGD: Stochastic Gradient Descent）を用いて，行列Wを学習せよ．"
      ]
    },
    {
      "cell_type": "code",
      "execution_count": 9,
      "metadata": {
        "colab": {
          "base_uri": "https://localhost:8080/"
        },
        "id": "_GfF0AITdESK",
        "outputId": "e8f6415b-e1ca-40a0-e57f-1bf857ea3c0d"
      },
      "outputs": [
        {
          "output_type": "stream",
          "name": "stdout",
          "text": [
            "epoch: 1, loss_train: 0.4707\n",
            "epoch: 2, loss_train: 0.3192\n",
            "epoch: 3, loss_train: 0.2882\n",
            "epoch: 4, loss_train: 0.2724\n",
            "epoch: 5, loss_train: 0.2622\n",
            "epoch: 6, loss_train: 0.2548\n",
            "epoch: 7, loss_train: 0.2503\n",
            "epoch: 8, loss_train: 0.2461\n",
            "epoch: 9, loss_train: 0.2422\n",
            "epoch: 10, loss_train: 0.2400\n",
            "epoch: 11, loss_train: 0.2370\n",
            "epoch: 12, loss_train: 0.2363\n",
            "epoch: 13, loss_train: 0.2334\n",
            "epoch: 14, loss_train: 0.2321\n",
            "epoch: 15, loss_train: 0.2305\n",
            "epoch: 16, loss_train: 0.2303\n",
            "epoch: 17, loss_train: 0.2290\n",
            "epoch: 18, loss_train: 0.2278\n",
            "epoch: 19, loss_train: 0.2271\n",
            "epoch: 20, loss_train: 0.2260\n",
            "epoch: 21, loss_train: 0.2254\n",
            "epoch: 22, loss_train: 0.2250\n",
            "epoch: 23, loss_train: 0.2238\n",
            "epoch: 24, loss_train: 0.2240\n",
            "epoch: 25, loss_train: 0.2230\n",
            "epoch: 26, loss_train: 0.2227\n",
            "epoch: 27, loss_train: 0.2228\n",
            "epoch: 28, loss_train: 0.2222\n",
            "epoch: 29, loss_train: 0.2217\n",
            "epoch: 30, loss_train: 0.2208\n"
          ]
        }
      ],
      "source": [
        "# 73 確率的勾配降下法による学習\n",
        "\n",
        "from torch.utils.data import TensorDataset, DataLoader\n",
        "\n",
        "model2 = singleNet(300, 4)\n",
        "batch_size=1\n",
        "\n",
        "# Datasetの作成\n",
        "train = TensorDataset(X_train, y_train)\n",
        "valid = TensorDataset(X_valid, y_valid)\n",
        "test = TensorDataset(X_test, y_test)\n",
        "# Dataloaderの作成\n",
        "dataloader_train = DataLoader(train, batch_size=batch_size, shuffle=True)\n",
        "dataloader_valid = DataLoader(valid, batch_size=batch_size, shuffle=False)\n",
        "dataloader_test = DataLoader(test, batch_size=batch_size, shuffle=False)\n",
        "\n",
        "# 損失関数、オプティマイザ\n",
        "criterion = nn.CrossEntropyLoss()\n",
        "optimizer = torch.optim.SGD(model2.parameters(), lr=1e-1)\n",
        "\n",
        "epochs = 30\n",
        "for epoch in range(epochs):\n",
        "    model2.train()\n",
        "    loss_train = 0.0\n",
        "    for i, (x, t) in enumerate(dataloader_train):\n",
        "        # 勾配の初期化\n",
        "        optimizer.zero_grad()\n",
        "        # 順伝播→誤差逆伝播→重み更新\n",
        "        y = model2(x)\n",
        "        loss = criterion(y, t)\n",
        "        loss.backward()\n",
        "        optimizer.step()\n",
        "        loss_train += loss\n",
        "    loss_train=loss_train/i\n",
        "    \n",
        "    print(f'epoch: {epoch+1}, loss_train: {loss_train:.4f}')"
      ]
    },
    {
      "cell_type": "markdown",
      "metadata": {
        "id": "8u_xtUjbdEYn"
      },
      "source": [
        "74.問題73で求めた行列を用いて学習データおよび評価データの事例を分類したとき，その正解率をそれぞれ求めよ．"
      ]
    },
    {
      "cell_type": "code",
      "execution_count": 10,
      "metadata": {
        "colab": {
          "base_uri": "https://localhost:8080/"
        },
        "id": "LjOfUDrNdEeP",
        "outputId": "b4050b0f-a039-4f06-d5f1-0bc941cb70ce"
      },
      "outputs": [
        {
          "output_type": "stream",
          "name": "stdout",
          "text": [
            "学習用データの正解率：0.9247\n",
            "評価用データの正解率：0.9042\n"
          ]
        }
      ],
      "source": [
        "# 74 正解率の計測\n",
        "\n",
        "def calc_acc(model, dataloader):\n",
        "    model.eval()\n",
        "    total = 0\n",
        "    correct = 0\n",
        "    with torch.no_grad():\n",
        "        for x, t in dataloader:\n",
        "            y = model(x)\n",
        "            pred = torch.argmax(y, dim=-1)\n",
        "            total += len(x)\n",
        "            correct += (pred == t).sum().item()\n",
        "    acc = correct/total\n",
        "    return acc\n",
        "\n",
        "train_acc = calc_acc(model2, dataloader_train)\n",
        "test_acc = calc_acc(model2, dataloader_test)\n",
        "print(f'学習用データの正解率：{train_acc:.4f}')\n",
        "print(f'評価用データの正解率：{test_acc:.4f}')"
      ]
    },
    {
      "cell_type": "markdown",
      "metadata": {
        "id": "ldGOBsredEj2"
      },
      "source": [
        "75.問題73のコードを改変し，各エポックのパラメータ更新が完了するたびに，訓練データでの損失，正解率，検証データでの損失，正解率をグラフにプロットし，学習の進捗状況を確認できるようにせよ．"
      ]
    },
    {
      "cell_type": "code",
      "execution_count": 11,
      "metadata": {
        "id": "GxNKX_hcLfM6",
        "colab": {
          "base_uri": "https://localhost:8080/"
        },
        "outputId": "b735a8dc-6ac5-4ff3-b435-8e0142fcdd8c"
      },
      "outputs": [
        {
          "output_type": "stream",
          "name": "stdout",
          "text": [
            "epoch: 1, train_acc: 0.8858, train_loss: 0.3262,  valid_acc: 0.8892, valid_loss: 0.3188\n",
            "epoch: 2, train_acc: 0.9039, train_loss: 0.2881,  valid_acc: 0.8975, valid_loss: 0.2847\n",
            "epoch: 3, train_acc: 0.9100, train_loss: 0.2688,  valid_acc: 0.9072, valid_loss: 0.2681\n",
            "epoch: 4, train_acc: 0.9141, train_loss: 0.2594,  valid_acc: 0.9109, valid_loss: 0.2653\n",
            "epoch: 5, train_acc: 0.9145, train_loss: 0.2512,  valid_acc: 0.9087, valid_loss: 0.2601\n",
            "epoch: 6, train_acc: 0.9132, train_loss: 0.2482,  valid_acc: 0.9019, valid_loss: 0.2637\n",
            "epoch: 7, train_acc: 0.9173, train_loss: 0.2421,  valid_acc: 0.9102, valid_loss: 0.2585\n",
            "epoch: 8, train_acc: 0.9189, train_loss: 0.2365,  valid_acc: 0.9042, valid_loss: 0.2579\n",
            "epoch: 9, train_acc: 0.9204, train_loss: 0.2334,  valid_acc: 0.9132, valid_loss: 0.2558\n",
            "epoch: 10, train_acc: 0.9211, train_loss: 0.2315,  valid_acc: 0.9109, valid_loss: 0.2580\n",
            "epoch: 11, train_acc: 0.9199, train_loss: 0.2324,  valid_acc: 0.9049, valid_loss: 0.2606\n",
            "epoch: 12, train_acc: 0.9198, train_loss: 0.2318,  valid_acc: 0.9094, valid_loss: 0.2618\n",
            "epoch: 13, train_acc: 0.9234, train_loss: 0.2263,  valid_acc: 0.9079, valid_loss: 0.2555\n",
            "epoch: 14, train_acc: 0.9237, train_loss: 0.2241,  valid_acc: 0.9109, valid_loss: 0.2546\n",
            "epoch: 15, train_acc: 0.9222, train_loss: 0.2240,  valid_acc: 0.9064, valid_loss: 0.2586\n",
            "epoch: 16, train_acc: 0.9222, train_loss: 0.2239,  valid_acc: 0.9072, valid_loss: 0.2611\n",
            "epoch: 17, train_acc: 0.9223, train_loss: 0.2209,  valid_acc: 0.9064, valid_loss: 0.2571\n",
            "epoch: 18, train_acc: 0.9229, train_loss: 0.2202,  valid_acc: 0.9094, valid_loss: 0.2565\n",
            "epoch: 19, train_acc: 0.9218, train_loss: 0.2224,  valid_acc: 0.9042, valid_loss: 0.2609\n",
            "epoch: 20, train_acc: 0.9201, train_loss: 0.2268,  valid_acc: 0.9049, valid_loss: 0.2669\n",
            "epoch: 21, train_acc: 0.9236, train_loss: 0.2182,  valid_acc: 0.9094, valid_loss: 0.2608\n",
            "epoch: 22, train_acc: 0.9245, train_loss: 0.2165,  valid_acc: 0.9102, valid_loss: 0.2575\n",
            "epoch: 23, train_acc: 0.9217, train_loss: 0.2230,  valid_acc: 0.9034, valid_loss: 0.2653\n",
            "epoch: 24, train_acc: 0.9253, train_loss: 0.2156,  valid_acc: 0.9124, valid_loss: 0.2587\n",
            "epoch: 25, train_acc: 0.9249, train_loss: 0.2183,  valid_acc: 0.9102, valid_loss: 0.2625\n",
            "epoch: 26, train_acc: 0.9257, train_loss: 0.2144,  valid_acc: 0.9094, valid_loss: 0.2592\n",
            "epoch: 27, train_acc: 0.9247, train_loss: 0.2187,  valid_acc: 0.9102, valid_loss: 0.2609\n",
            "epoch: 28, train_acc: 0.9261, train_loss: 0.2143,  valid_acc: 0.9072, valid_loss: 0.2586\n",
            "epoch: 29, train_acc: 0.9258, train_loss: 0.2148,  valid_acc: 0.9102, valid_loss: 0.2601\n",
            "epoch: 30, train_acc: 0.9276, train_loss: 0.2137,  valid_acc: 0.9102, valid_loss: 0.2609\n"
          ]
        }
      ],
      "source": [
        "# 75 損失と正解率のプロット\n",
        "\n",
        "import numpy as np\n",
        "from matplotlib import pyplot as plt\n",
        "\n",
        "# 74の関数で損失も計算できるように改変\n",
        "def calc_acc_loss(model, dataloader):\n",
        "    model.eval()\n",
        "    total = 0\n",
        "    correct = 0\n",
        "    loss = 0.0\n",
        "    criterion = nn.CrossEntropyLoss()\n",
        "    with torch.no_grad():\n",
        "        for x, t in dataloader:\n",
        "            y = model(x)\n",
        "            pred = torch.argmax(y, dim=-1)\n",
        "            loss += criterion(y, t)\n",
        "            total += len(x)\n",
        "            correct += (pred == t).sum().item()\n",
        "    \n",
        "    acc = correct/total\n",
        "    loss1 = loss/len(dataloader)\n",
        "    return acc, loss1\n",
        "\n",
        "model3 = singleNet(300, 4)\n",
        "optimizer = torch.optim.SGD(model3.parameters(), lr=1e-1)\n",
        "\n",
        "epochs = 30\n",
        "train_log = []\n",
        "valid_log = []\n",
        "for epoch in range(epochs):\n",
        "    model3.train()\n",
        "    for i, (x, t) in enumerate(dataloader_train):\n",
        "        # 勾配の初期化\n",
        "        optimizer.zero_grad()\n",
        "        # 順伝播→誤差逆伝播→重み更新\n",
        "        y = model3(x)\n",
        "        loss = criterion(y, t)\n",
        "        loss.backward()\n",
        "        optimizer.step()\n",
        "\n",
        "    train_acc, train_loss = calc_acc_loss(model3, dataloader_train)\n",
        "    valid_acc, valid_loss = calc_acc_loss(model3, dataloader_valid)\n",
        "    train_log.append([train_acc, train_loss])\n",
        "    valid_log.append([valid_acc, valid_loss])\n",
        "\n",
        "    print(f'epoch: {epoch+1}, train_acc: {train_acc:.4f}, train_loss: {train_loss:.4f},  valid_acc: {valid_acc:.4f}, valid_loss: {valid_loss:.4f}')"
      ]
    },
    {
      "cell_type": "code",
      "execution_count": 12,
      "metadata": {
        "id": "Lh-ydBLddY_y",
        "colab": {
          "base_uri": "https://localhost:8080/",
          "height": 334
        },
        "outputId": "f9dec737-6926-4c4e-bf10-60b890b11e26"
      },
      "outputs": [
        {
          "output_type": "display_data",
          "data": {
            "text/plain": [
              "<Figure size 1080x360 with 2 Axes>"
            ],
            "image/png": "[encoded data removed]"
          },
          "metadata": {
            "needs_background": "light"
          }
        }
      ],
      "source": [
        "import numpy as np\n",
        "\n",
        "figure, ax = plt.subplots(1, 2, figsize=(15, 5))\n",
        "ax[0].plot(np.array(train_log).T[0], label='train')\n",
        "ax[0].plot(np.array(valid_log).T[0], label='valid')\n",
        "ax[0].set_xlabel('epoch')\n",
        "ax[0].set_ylabel('accuracy')\n",
        "ax[0].legend()\n",
        "ax[1].plot(np.array(train_log).T[1], label='train')\n",
        "ax[1].plot(np.array(valid_log).T[1], label='valid')\n",
        "ax[1].set_xlabel('epoch')\n",
        "ax[1].set_ylabel('loss')\n",
        "ax[1].legend()\n",
        "plt.show()"
      ]
    },
    {
      "cell_type": "markdown",
      "metadata": {
        "id": "Zw2YWrFgdagX"
      },
      "source": [
        "76.問題75のコードを改変し，各エポックのパラメータ更新が完了するたびに，チェックポイント（学習途中のパラメータ（重み行列など）の値や最適化アルゴリズムの内部状態）をファイルに書き出せ．"
      ]
    },
    {
      "cell_type": "code",
      "execution_count": 13,
      "metadata": {
        "id": "63MJ_6_7da8C",
        "colab": {
          "base_uri": "https://localhost:8080/"
        },
        "outputId": "0b6e6ff0-5477-4d6f-b24a-c523bda70181"
      },
      "outputs": [
        {
          "output_type": "stream",
          "name": "stdout",
          "text": [
            "epoch: 1, train_acc: 0.8875, train_loss: 0.3287,  valid_acc: 0.8862, valid_loss: 0.3288\n",
            "epoch: 2, train_acc: 0.9025, train_loss: 0.2872,  valid_acc: 0.9004, valid_loss: 0.2924\n",
            "epoch: 3, train_acc: 0.9075, train_loss: 0.2709,  valid_acc: 0.9012, valid_loss: 0.2795\n",
            "epoch: 4, train_acc: 0.9142, train_loss: 0.2582,  valid_acc: 0.9049, valid_loss: 0.2707\n",
            "epoch: 5, train_acc: 0.9163, train_loss: 0.2487,  valid_acc: 0.9087, valid_loss: 0.2634\n",
            "epoch: 6, train_acc: 0.9167, train_loss: 0.2447,  valid_acc: 0.9042, valid_loss: 0.2634\n",
            "epoch: 7, train_acc: 0.9183, train_loss: 0.2396,  valid_acc: 0.9034, valid_loss: 0.2619\n",
            "epoch: 8, train_acc: 0.9218, train_loss: 0.2375,  valid_acc: 0.9162, valid_loss: 0.2585\n",
            "epoch: 9, train_acc: 0.9214, train_loss: 0.2323,  valid_acc: 0.9064, valid_loss: 0.2573\n",
            "epoch: 10, train_acc: 0.9224, train_loss: 0.2309,  valid_acc: 0.9094, valid_loss: 0.2568\n",
            "epoch: 11, train_acc: 0.9246, train_loss: 0.2275,  valid_acc: 0.9109, valid_loss: 0.2534\n",
            "epoch: 12, train_acc: 0.9212, train_loss: 0.2280,  valid_acc: 0.9042, valid_loss: 0.2574\n",
            "epoch: 13, train_acc: 0.9247, train_loss: 0.2253,  valid_acc: 0.9147, valid_loss: 0.2564\n",
            "epoch: 14, train_acc: 0.9214, train_loss: 0.2294,  valid_acc: 0.9102, valid_loss: 0.2615\n",
            "epoch: 15, train_acc: 0.9252, train_loss: 0.2231,  valid_acc: 0.9057, valid_loss: 0.2587\n",
            "epoch: 16, train_acc: 0.9237, train_loss: 0.2233,  valid_acc: 0.9049, valid_loss: 0.2606\n",
            "epoch: 17, train_acc: 0.9237, train_loss: 0.2236,  valid_acc: 0.9094, valid_loss: 0.2613\n",
            "epoch: 18, train_acc: 0.9268, train_loss: 0.2187,  valid_acc: 0.9102, valid_loss: 0.2573\n",
            "epoch: 19, train_acc: 0.9250, train_loss: 0.2195,  valid_acc: 0.9102, valid_loss: 0.2582\n",
            "epoch: 20, train_acc: 0.9241, train_loss: 0.2192,  valid_acc: 0.9079, valid_loss: 0.2585\n",
            "epoch: 21, train_acc: 0.9256, train_loss: 0.2191,  valid_acc: 0.9072, valid_loss: 0.2603\n",
            "epoch: 22, train_acc: 0.9264, train_loss: 0.2164,  valid_acc: 0.9072, valid_loss: 0.2588\n",
            "epoch: 23, train_acc: 0.9268, train_loss: 0.2165,  valid_acc: 0.9079, valid_loss: 0.2600\n",
            "epoch: 24, train_acc: 0.9228, train_loss: 0.2198,  valid_acc: 0.9049, valid_loss: 0.2646\n",
            "epoch: 25, train_acc: 0.9264, train_loss: 0.2177,  valid_acc: 0.9042, valid_loss: 0.2644\n",
            "epoch: 26, train_acc: 0.9256, train_loss: 0.2174,  valid_acc: 0.9057, valid_loss: 0.2609\n",
            "epoch: 27, train_acc: 0.9266, train_loss: 0.2149,  valid_acc: 0.9049, valid_loss: 0.2612\n",
            "epoch: 28, train_acc: 0.9276, train_loss: 0.2137,  valid_acc: 0.9117, valid_loss: 0.2593\n",
            "epoch: 29, train_acc: 0.9259, train_loss: 0.2152,  valid_acc: 0.9042, valid_loss: 0.2631\n",
            "epoch: 30, train_acc: 0.9260, train_loss: 0.2139,  valid_acc: 0.9094, valid_loss: 0.2643\n"
          ]
        }
      ],
      "source": [
        "# 76 チェックポイント\n",
        "\n",
        "model4 = singleNet(300, 4)\n",
        "criterion = nn.CrossEntropyLoss()\n",
        "optimizer = torch.optim.SGD(model4.parameters(), lr=1e-1)\n",
        "\n",
        "epochs = 30\n",
        "train_log = []\n",
        "valid_log = []\n",
        "for epoch in range(epochs):\n",
        "    model4.train()\n",
        "    train_loss = 0.0\n",
        "    for x, t in dataloader_train:\n",
        "        # 勾配の初期化\n",
        "        optimizer.zero_grad()\n",
        "        # 順伝播→誤差逆伝播→重み更新\n",
        "        y = model4(x)\n",
        "        loss = criterion(y, t)\n",
        "        loss.backward()\n",
        "        optimizer.step()\n",
        "\n",
        "    train_acc, train_loss = calc_acc_loss(model4, dataloader_train)\n",
        "    valid_acc, valid_loss = calc_acc_loss(model4, dataloader_valid)\n",
        "    train_log.append([train_acc, train_loss])\n",
        "    valid_log.append([valid_acc, valid_loss])\n",
        "\n",
        "    # チェックポイント保存\n",
        "    torch.save({'epoch': epoch, 'model_state_dict': model4.state_dict(), 'optimizer_state_dict': optimizer.state_dict()}, f'checkpoint{epoch + 1}.pt')\n",
        "\n",
        "    print(f'epoch: {epoch+1}, train_acc: {train_acc:.4f}, train_loss: {train_loss:.4f},  valid_acc: {valid_acc:.4f}, valid_loss: {valid_loss:.4f}')"
      ]
    },
    {
      "cell_type": "markdown",
      "metadata": {
        "id": "HuE_y3jddbC0"
      },
      "source": [
        "77.問題76のコードを改変し，B事例ごとに損失・勾配を計算し，行列Wの値を更新せよ（ミニバッチ化）．Bの値を1,2,4,8,…と変化させながら，1エポックの学習に要する時間を比較せよ．"
      ]
    },
    {
      "cell_type": "code",
      "execution_count": 14,
      "metadata": {
        "id": "EVavOXnudbJf"
      },
      "outputs": [],
      "source": [
        "# 77 ミニバッチ化\n",
        "\n",
        "import time\n",
        "\n",
        "def model_function(train, valid, model, batch_size):\n",
        "    dataloader_train = DataLoader(train, batch_size=batch_size, shuffle=True)\n",
        "    dataloader_valid = DataLoader(valid, batch_size=batch_size, shuffle=False)\n",
        "    \n",
        "    criterion = nn.CrossEntropyLoss()\n",
        "    optimizer = torch.optim.SGD(model.parameters(), lr=1e-1)\n",
        "\n",
        "    train_log = []\n",
        "    valid_log = []\n",
        "\n",
        "    # 時間の計測\n",
        "    start = time.time()\n",
        "\n",
        "    # 1エポックの学習時間を比較するためループは回さない\n",
        "    model.train()\n",
        "    train_loss = 0.0\n",
        "    for x, t in dataloader_train:\n",
        "        # 勾配の初期化\n",
        "        optimizer.zero_grad()\n",
        "        # 順伝播→誤差逆伝播→重み更新\n",
        "        y = model(x)\n",
        "        loss = criterion(y, t)\n",
        "        loss.backward()\n",
        "        optimizer.step()\n",
        "\n",
        "    train_acc, train_loss = calc_acc_loss(model, dataloader_train)\n",
        "    valid_acc, valid_loss = calc_acc_loss(model, dataloader_valid)\n",
        "    train_log.append([train_acc, train_loss])\n",
        "    valid_log.append([valid_acc, valid_loss])\n",
        "\n",
        "    # チェックポイント保存\n",
        "    torch.save({'epoch': epoch, 'model_state_dict': model.state_dict(), 'optimizer_state_dict': optimizer.state_dict()}, f'checkpoint{epoch + 1}.pt')\n",
        "    \n",
        "    end = time.time()\n",
        "    timeval = end - start\n",
        "\n",
        "    return train_acc, train_loss, valid_acc, valid_loss, timeval"
      ]
    },
    {
      "cell_type": "code",
      "execution_count": 15,
      "metadata": {
        "id": "smELCMjBf-N8",
        "colab": {
          "base_uri": "https://localhost:8080/"
        },
        "outputId": "bd1373e7-9ded-4ba9-e99e-b1600d8d627b"
      },
      "outputs": [
        {
          "output_type": "stream",
          "name": "stdout",
          "text": [
            "バッチサイズ：1\n",
            "train_acc: 0.8829, train_loss: 0.2139, valid_acc: 0.8780, valid_loss: 0.3095, time: 3.6205 sec\n",
            "バッチサイズ：2\n",
            "train_acc: 0.8956, train_loss: 0.2139, valid_acc: 0.8877, valid_loss: 0.2892, time: 2.0132 sec\n",
            "バッチサイズ：4\n",
            "train_acc: 0.8995, train_loss: 0.2139, valid_acc: 0.8900, valid_loss: 0.2834, time: 1.1285 sec\n",
            "バッチサイズ：8\n",
            "train_acc: 0.8997, train_loss: 0.2139, valid_acc: 0.8960, valid_loss: 0.2801, time: 0.6218 sec\n",
            "バッチサイズ：16\n",
            "train_acc: 0.9006, train_loss: 0.2139, valid_acc: 0.8952, valid_loss: 0.2801, time: 0.3734 sec\n",
            "バッチサイズ：32\n",
            "train_acc: 0.9007, train_loss: 0.2139, valid_acc: 0.8952, valid_loss: 0.2779, time: 0.2605 sec\n",
            "バッチサイズ：64\n",
            "train_acc: 0.9012, train_loss: 0.2139, valid_acc: 0.8960, valid_loss: 0.2780, time: 0.1886 sec\n",
            "バッチサイズ：128\n",
            "train_acc: 0.9011, train_loss: 0.2139, valid_acc: 0.8960, valid_loss: 0.2783, time: 0.1702 sec\n",
            "バッチサイズ：256\n",
            "train_acc: 0.9011, train_loss: 0.2139, valid_acc: 0.8960, valid_loss: 0.2789, time: 0.1523 sec\n",
            "バッチサイズ：512\n",
            "train_acc: 0.9011, train_loss: 0.2139, valid_acc: 0.8960, valid_loss: 0.2742, time: 0.1563 sec\n"
          ]
        }
      ],
      "source": [
        "train = TensorDataset(X_train, y_train)\n",
        "valid = TensorDataset(X_valid, y_valid)\n",
        "model5 = singleNet(300, 4)\n",
        "\n",
        "for i in [1, 2, 4, 8, 16, 32, 64, 128, 256, 512]:\n",
        "    print(f'バッチサイズ：{i}')\n",
        "    train_acc, trian_loss, valid_acc, valid_loss, timeval = model_function(train, valid, model5, i)\n",
        "    print(f'train_acc: {train_acc:.4f}, train_loss: {train_loss:.4f}, valid_acc: {valid_acc:.4f}, valid_loss: {valid_loss:.4f}, time: {timeval:.4f} sec')"
      ]
    },
    {
      "cell_type": "markdown",
      "metadata": {
        "id": "5-fnDLqldbQh"
      },
      "source": [
        "78.問題77のコードを改変し，GPU上で学習を実行せよ."
      ]
    },
    {
      "cell_type": "code",
      "execution_count": 16,
      "metadata": {
        "id": "uWAZqaRddbXA"
      },
      "outputs": [],
      "source": [
        "# 78 GPU上での学習\n",
        "\n",
        "import time\n",
        "# 75の関数を改変\n",
        "def calc_acc_loss(model, dataloader, device):\n",
        "    model.eval()\n",
        "    total = 0\n",
        "    correct = 0\n",
        "    loss = 0.0\n",
        "    criterion = nn.CrossEntropyLoss()\n",
        "    with torch.no_grad():\n",
        "        for x, t in dataloader:\n",
        "            x = x.to(device)\n",
        "            t = t.to(device)\n",
        "            y = model(x)\n",
        "            pred = torch.argmax(y, dim=-1)\n",
        "            loss += criterion(y, t)\n",
        "            total += len(x)\n",
        "            correct += (pred == t).sum().item()\n",
        "    \n",
        "    acc = correct/total\n",
        "    loss1 = loss/len(dataloader)\n",
        "    return acc, loss1\n",
        "\n",
        "# 77の関数を改変\n",
        "def model_function(train, valid, model, batch_size, device):\n",
        "    model.to(device)\n",
        "    dataloader_train = DataLoader(train, batch_size=batch_size, shuffle=True)\n",
        "    dataloader_valid = DataLoader(valid, batch_size=batch_size, shuffle=False)\n",
        "    \n",
        "    criterion = nn.CrossEntropyLoss()\n",
        "    optimizer = torch.optim.SGD(model.parameters(), lr=1e-1)\n",
        "\n",
        "    train_log = []\n",
        "    valid_log = []\n",
        "\n",
        "    # 時間の計測\n",
        "    start = time.time()\n",
        "\n",
        "    # 1エポックの学習時間を比較するためループは回さない\n",
        "    model.train()\n",
        "    train_loss = 0.0\n",
        "    for x, t in dataloader_train:\n",
        "        # データをGPUへ転送\n",
        "        x = x.to(device)\n",
        "        t = t.to(device)\n",
        "        # 勾配の初期化\n",
        "        optimizer.zero_grad()\n",
        "        # 順伝播→誤差逆伝播→重み更新\n",
        "        y = model(x)\n",
        "        loss = criterion(y, t)\n",
        "        loss.backward()\n",
        "        optimizer.step()\n",
        "\n",
        "    train_acc, train_loss = calc_acc_loss(model, dataloader_train, device)\n",
        "    valid_acc, valid_loss = calc_acc_loss(model, dataloader_valid, device)\n",
        "    train_log.append([train_acc, train_loss])\n",
        "    valid_log.append([valid_acc, valid_loss])\n",
        "\n",
        "    # チェックポイント保存\n",
        "    torch.save({'epoch': epoch, 'model_state_dict': model.state_dict(), 'optimizer_state_dict': optimizer.state_dict()}, f'checkpoint{epoch + 1}.pt')\n",
        "    \n",
        "    end = time.time()\n",
        "    timeval = end - start\n",
        "\n",
        "    return train_acc, train_loss, valid_acc, valid_loss, timeval"
      ]
    },
    {
      "cell_type": "code",
      "execution_count": 17,
      "metadata": {
        "id": "oeZXyoYVlQzI",
        "colab": {
          "base_uri": "https://localhost:8080/"
        },
        "outputId": "90398079-84ee-4d13-a3e0-0e6520cfe9c7"
      },
      "outputs": [
        {
          "output_type": "stream",
          "name": "stdout",
          "text": [
            "バッチサイズ：1\n",
            "train_acc: 0.8825, train_loss: 0.3358, valid_acc: 0.8787, valid_loss: 0.3272, time: 9.6226 sec\n",
            "バッチサイズ：2\n",
            "train_acc: 0.8954, train_loss: 0.3057, valid_acc: 0.8862, valid_loss: 0.3016, time: 4.7272 sec\n",
            "バッチサイズ：4\n",
            "train_acc: 0.8989, train_loss: 0.2975, valid_acc: 0.8952, valid_loss: 0.2940, time: 2.4385 sec\n",
            "バッチサイズ：8\n",
            "train_acc: 0.9009, train_loss: 0.2920, valid_acc: 0.8937, valid_loss: 0.2896, time: 1.2969 sec\n",
            "バッチサイズ：16\n",
            "train_acc: 0.9015, train_loss: 0.2901, valid_acc: 0.8937, valid_loss: 0.2880, time: 0.7300 sec\n",
            "バッチサイズ：32\n",
            "train_acc: 0.9018, train_loss: 0.2892, valid_acc: 0.8975, valid_loss: 0.2867, time: 0.4344 sec\n",
            "バッチサイズ：64\n",
            "train_acc: 0.9019, train_loss: 0.2888, valid_acc: 0.8960, valid_loss: 0.2868, time: 0.2597 sec\n",
            "バッチサイズ：128\n",
            "train_acc: 0.9019, train_loss: 0.2885, valid_acc: 0.8960, valid_loss: 0.2866, time: 0.1930 sec\n",
            "バッチサイズ：256\n",
            "train_acc: 0.9020, train_loss: 0.2889, valid_acc: 0.8960, valid_loss: 0.2866, time: 0.1602 sec\n",
            "バッチサイズ：512\n",
            "train_acc: 0.9020, train_loss: 0.2884, valid_acc: 0.8960, valid_loss: 0.2809, time: 0.1328 sec\n"
          ]
        }
      ],
      "source": [
        "train = TensorDataset(X_train, y_train)\n",
        "valid = TensorDataset(X_valid, y_valid)\n",
        "model6 = singleNet(300, 4)\n",
        "device = torch.device('cuda:0')\n",
        "\n",
        "for batch_size in [1, 2, 4, 8, 16, 32, 64, 128, 256, 512]:\n",
        "    print(f'バッチサイズ：{batch_size}')\n",
        "    train_acc, train_loss, valid_acc, valid_loss, timeval = model_function(train, valid, model6, batch_size, device)\n",
        "    print(f'train_acc: {train_acc:.4f}, train_loss: {train_loss:.4f}, valid_acc: {valid_acc:.4f}, valid_loss: {valid_loss:.4f}, time: {timeval:.4f} sec')"
      ]
    },
    {
      "cell_type": "markdown",
      "metadata": {
        "id": "o3_C7l2pdbcv"
      },
      "source": [
        "79.問題78のコードを改変し，バイアス項の導入や多層化など，ニューラルネットワークの形状を変更しながら，高性能なカテゴリ分類器を構築せよ．\n"
      ]
    },
    {
      "cell_type": "code",
      "execution_count": 18,
      "metadata": {
        "id": "BpsgPyfCdbjC"
      },
      "outputs": [],
      "source": [
        "# 79 多層ニューラルネットワーク\n",
        "\n",
        "import torch.nn.functional as F\n",
        "\n",
        "class multiNet(nn.Module):\n",
        "    def __init__(self, n_input, n_mid, n_output, n_layer):\n",
        "        super().__init__()\n",
        "        self.n_layer = n_layer\n",
        "        self.fc_in = nn.Linear(n_input, n_mid)\n",
        "        self.fc_mid = nn.Linear(n_mid, n_mid)\n",
        "        self.fc_out = nn.Linear(n_mid, n_output)\n",
        "        self.bn = nn.BatchNorm1d(n_mid)\n",
        "    def forward(self, x):\n",
        "        x = F.relu(self.fc_in(x))\n",
        "        for _ in range(self.n_layer):\n",
        "            x = F.relu(self.bn(self.fc_mid(x)))\n",
        "        x = F.relu(self.fc_out(x))\n",
        "\n",
        "        return x"
      ]
    },
    {
      "cell_type": "code",
      "source": [
        "# 78の関数\n",
        "def calc_acc_loss(model, dataloader, device):\n",
        "    model.eval()\n",
        "    total = 0\n",
        "    correct = 0\n",
        "    loss = 0.0\n",
        "    criterion = nn.CrossEntropyLoss()\n",
        "    with torch.no_grad():\n",
        "        for x, t in dataloader:\n",
        "            x = x.to(device)\n",
        "            t = t.to(device)\n",
        "            y = model(x)\n",
        "            pred = torch.argmax(y, dim=-1)\n",
        "            loss += criterion(y, t)\n",
        "            total += len(x)\n",
        "            correct += (pred == t).sum().item()\n",
        "    \n",
        "    acc = correct/total\n",
        "    loss1 = loss/len(dataloader)\n",
        "    return acc, loss1\n",
        "\n",
        "# 78の関数を改変\n",
        "def model_function(train, valid, model, batch_size, device, epochs):\n",
        "    import time\n",
        "    from torch import optim\n",
        "    model.to(device)\n",
        "    dataloader_train = DataLoader(train, batch_size=batch_size, shuffle=True)\n",
        "    dataloader_valid = DataLoader(valid, batch_size=len(valid), shuffle=False)\n",
        "    \n",
        "    criterion = nn.CrossEntropyLoss()\n",
        "    optimizer = torch.optim.SGD(model.parameters(), lr=1e-1)\n",
        "\n",
        "    scheduler = optim.lr_scheduler.CosineAnnealingLR(optimizer, epochs, eta_min=1e-5, last_epoch=-1)\n",
        "\n",
        "    train_log = []\n",
        "    valid_log = []\n",
        "    for epoch in range(epochs):\n",
        "        # 時間の計測\n",
        "        start = time.time()\n",
        "\n",
        "        model.train()\n",
        "        train_loss = 0.0\n",
        "        for x, t in dataloader_train:\n",
        "            # データをGPUへ転送\n",
        "            x = x.to(device)\n",
        "            t = t.to(device)\n",
        "            # 勾配の初期化\n",
        "            optimizer.zero_grad()\n",
        "            # 順伝播→誤差逆伝播→重み更新\n",
        "            y = model.forward(x)\n",
        "            loss = criterion(y, t)\n",
        "            loss.backward()\n",
        "            optimizer.step()\n",
        "\n",
        "        train_acc, train_loss = calc_acc_loss(model, dataloader_train, device)\n",
        "        valid_acc, valid_loss = calc_acc_loss(model, dataloader_valid, device)\n",
        "        train_log.append([train_acc, train_loss])\n",
        "        valid_log.append([valid_acc, valid_loss])\n",
        "\n",
        "        # チェックポイント保存\n",
        "        torch.save({'epoch': epoch, 'model_state_dict': model.state_dict(), 'optimizer_state_dict': optimizer.state_dict()}, f'checkpoint{epoch + 1}.pt')\n",
        "        \n",
        "        end = time.time()\n",
        "        timeval = end - start\n",
        "        \n",
        "        print(f'epoch: {epoch + 1}, loss_train: {train_loss}, accuracy_train: {train_acc}, loss_valid: {valid_loss}, accuracy_valid: {valid_acc}, {time}sec')\n",
        "\n",
        "        # 3エポック連続で損失が減らなかった場合学習終了\n",
        "        if epoch > 2 and valid_log[epoch-3][0] <= valid_log[epoch-2][0] <= valid_log[epoch-1][0] <= valid_log[epoch][0]:\n",
        "            break\n",
        "\n",
        "        scheduler.step()\n",
        "\n",
        "    return {'train': train_log, 'valid': valid_log}"
      ],
      "metadata": {
        "id": "fuVxIWl8nSvD"
      },
      "execution_count": 19,
      "outputs": []
    },
    {
      "cell_type": "code",
      "source": [
        "train = TensorDataset(X_train, y_train)\n",
        "valid = TensorDataset(X_valid, y_valid)\n",
        "model7 = multiNet(300, 200, 4, 1)\n",
        "\n",
        "device = torch.device('cuda:0')\n",
        "\n",
        "log = model_function(train, valid, model7, 64, device, 1000)"
      ],
      "metadata": {
        "colab": {
          "base_uri": "https://localhost:8080/"
        },
        "id": "pGtTjZ7R3ci4",
        "outputId": "d0e30ca1-6879-41c4-cbde-9f7d03db592c"
      },
      "execution_count": 20,
      "outputs": [
        {
          "output_type": "stream",
          "name": "stdout",
          "text": [
            "epoch: 1, loss_train: 0.2340352088212967, accuracy_train: 0.9213777611381505, loss_valid: 0.25414276123046875, accuracy_valid: 0.9124251497005988, <module 'time' (built-in)>sec\n",
            "epoch: 2, loss_train: 0.19504506886005402, accuracy_train: 0.9353238487457881, loss_valid: 0.25212621688842773, accuracy_valid: 0.9124251497005988, <module 'time' (built-in)>sec\n",
            "epoch: 3, loss_train: 0.1668798178434372, accuracy_train: 0.9422500935979035, loss_valid: 0.25386396050453186, accuracy_valid: 0.9146706586826348, <module 'time' (built-in)>sec\n",
            "epoch: 4, loss_train: 0.12750814855098724, accuracy_train: 0.9598464994384126, loss_valid: 0.23833850026130676, accuracy_valid: 0.9146706586826348, <module 'time' (built-in)>sec\n"
          ]
        }
      ]
    },
    {
      "cell_type": "code",
      "source": [
        "# 正解率の計算\n",
        "\n",
        "def calc_acc_single(model, dataloader):\n",
        "    model.eval()\n",
        "    total = 0\n",
        "    correct = 0\n",
        "    with torch.no_grad():\n",
        "        for x, t in dataloader:\n",
        "            y = model(x)\n",
        "            pred = torch.argmax(y, dim=-1)\n",
        "            total += len(x)\n",
        "            correct += (pred == t).sum().item()\n",
        "    acc = correct/total\n",
        "    return acc\n",
        "\n",
        "def calc_acc_multi(model, dataloader, device):\n",
        "    model.eval()\n",
        "    total = 0\n",
        "    correct = 0\n",
        "    with torch.no_grad():\n",
        "        for x, t in dataloader:\n",
        "            x = x.to(device)\n",
        "            t = t.to(device)\n",
        "            y = model(x)\n",
        "            pred = torch.argmax(y, dim=-1)\n",
        "            total += len(x)\n",
        "            correct += (pred == t).sum().item()\n",
        "    acc = correct/total\n",
        "    return acc\n",
        "\n",
        "train_acc = calc_acc_single(model2, dataloader_train)\n",
        "test_acc = calc_acc_single(model2, dataloader_test)\n",
        "print('単層ネットワーク')\n",
        "print(f'学習用データの正解率：{train_acc:.4f}')\n",
        "print(f'評価用データの正解率：{test_acc:.4f}')\n",
        "\n",
        "dataloader_train = DataLoader(train, batch_size=batch_size, shuffle=True)\n",
        "dataloader_valid = DataLoader(valid, batch_size=len(valid), shuffle=False)\n",
        "\n",
        "train_acc = calc_acc_multi(model7, dataloader_train, device)\n",
        "test_acc = calc_acc_multi(model7, dataloader_test, device)\n",
        "print('\\n多層ネットワーク')\n",
        "print(f'学習用データの正解率：{train_acc:.4f}')\n",
        "print(f'評価用データの正解率：{test_acc:.4f}')"
      ],
      "metadata": {
        "id": "xj1_TRqvxCnZ",
        "colab": {
          "base_uri": "https://localhost:8080/"
        },
        "outputId": "05fb94c4-aaa2-4705-d1f7-2d2e028d454b"
      },
      "execution_count": 21,
      "outputs": [
        {
          "output_type": "stream",
          "name": "stdout",
          "text": [
            "単層ネットワーク\n",
            "学習用データの正解率：0.9247\n",
            "評価用データの正解率：0.9042\n",
            "\n",
            "多層ネットワーク\n",
            "学習用データの正解率：0.9598\n",
            "評価用データの正解率：0.9199\n"
          ]
        }
      ]
    }
  ],
  "metadata": {
    "accelerator": "GPU",
    "colab": {
      "name": "100knock_8.ipynb",
      "provenance": [],
      "collapsed_sections": [],
      "mount_file_id": "https://github.com/TaruSora/NLP_100knock/blob/main/100knock_8.ipynb",
      "authorship_tag": "ABX9TyMEDxYISNt/D69r45xsvtNm",
      "include_colab_link": true
    },
    "kernelspec": {
      "display_name": "Python 3",
      "name": "python3"
    },
    "language_info": {
      "name": "python"
    }
  },
  "nbformat": 4,
  "nbformat_minor": 0
}