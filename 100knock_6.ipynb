{
  "cells": [
    {
      "cell_type": "markdown",
      "metadata": {
        "id": "view-in-github",
        "colab_type": "text"
      },
      "source": [
        "<a href=\"https://colab.research.google.com/github/TaruSora/NLP_100knock/blob/main/100knock_6.ipynb\" target=\"_parent\"><img src=\"https://colab.research.google.com/assets/colab-badge.svg\" alt=\"Open In Colab\"/></a>"
      ]
    },
    {
      "cell_type": "code",
      "execution_count": null,
      "metadata": {
        "colab": {
          "base_uri": "https://localhost:8080/"
        },
        "id": "bAQEPuD85E52",
        "outputId": "9b256d48-a7a3-4f89-bf82-88ce0f5ba321"
      },
      "outputs": [
        {
          "output_type": "stream",
          "name": "stdout",
          "text": [
            "--2022-03-15 02:29:54--  https://archive.ics.uci.edu/ml/machine-learning-databases/00359/NewsAggregatorDataset.zip\n",
            "Resolving archive.ics.uci.edu (archive.ics.uci.edu)... 128.195.10.252\n",
            "Connecting to archive.ics.uci.edu (archive.ics.uci.edu)|128.195.10.252|:443... connected.\n",
            "HTTP request sent, awaiting response... 200 OK\n",
            "Length: 29224203 (28M) [application/x-httpd-php]\n",
            "Saving to: ‘NewsAggregatorDataset.zip’\n",
            "\n",
            "NewsAggregatorDatas 100%[===================>]  27.87M  11.6MB/s    in 2.4s    \n",
            "\n",
            "2022-03-15 02:29:57 (11.6 MB/s) - ‘NewsAggregatorDataset.zip’ saved [29224203/29224203]\n",
            "\n",
            "Archive:  NewsAggregatorDataset.zip\n",
            "  inflating: 2pageSessions.csv       \n",
            "   creating: __MACOSX/\n",
            "  inflating: __MACOSX/._2pageSessions.csv  \n",
            "  inflating: newsCorpora.csv         \n",
            "  inflating: __MACOSX/._newsCorpora.csv  \n",
            "  inflating: readme.txt              \n",
            "  inflating: __MACOSX/._readme.txt   \n"
          ]
        }
      ],
      "source": [
        "!wget https://archive.ics.uci.edu/ml/machine-learning-databases/00359/NewsAggregatorDataset.zip\n",
        "!unzip NewsAggregatorDataset.zip"
      ]
    },
    {
      "cell_type": "code",
      "execution_count": null,
      "metadata": {
        "id": "bJNZC-qKaynF"
      },
      "outputs": [],
      "source": [
        "!sed -e 's/\"/'\\''/g' newsCorpora.csv > newsCorpora_re.csv"
      ]
    },
    {
      "cell_type": "code",
      "execution_count": null,
      "metadata": {
        "colab": {
          "base_uri": "https://localhost:8080/"
        },
        "id": "7rVVaskx56PZ",
        "outputId": "8bfb6df3-d7d8-4a86-b45e-845b1f972274"
      },
      "outputs": [
        {
          "output_type": "stream",
          "name": "stdout",
          "text": [
            "Collecting optuna\n",
            "  Downloading optuna-2.10.0-py3-none-any.whl (308 kB)\n",
            "\u001b[K     |████████████████████████████████| 308 kB 13.4 MB/s \n",
            "\u001b[?25hRequirement already satisfied: scipy!=1.4.0 in /usr/local/lib/python3.7/dist-packages (from optuna) (1.4.1)\n",
            "Collecting cliff\n",
            "  Downloading cliff-3.10.1-py3-none-any.whl (81 kB)\n",
            "\u001b[K     |████████████████████████████████| 81 kB 8.6 MB/s \n",
            "\u001b[?25hRequirement already satisfied: PyYAML in /usr/local/lib/python3.7/dist-packages (from optuna) (3.13)\n",
            "Collecting cmaes>=0.8.2\n",
            "  Downloading cmaes-0.8.2-py3-none-any.whl (15 kB)\n",
            "Requirement already satisfied: sqlalchemy>=1.1.0 in /usr/local/lib/python3.7/dist-packages (from optuna) (1.4.32)\n",
            "Collecting colorlog\n",
            "  Downloading colorlog-6.6.0-py2.py3-none-any.whl (11 kB)\n",
            "Requirement already satisfied: packaging>=20.0 in /usr/local/lib/python3.7/dist-packages (from optuna) (21.3)\n",
            "Collecting alembic\n",
            "  Downloading alembic-1.7.7-py3-none-any.whl (210 kB)\n",
            "\u001b[K     |████████████████████████████████| 210 kB 82.4 MB/s \n",
            "\u001b[?25hRequirement already satisfied: numpy in /usr/local/lib/python3.7/dist-packages (from optuna) (1.21.5)\n",
            "Requirement already satisfied: tqdm in /usr/local/lib/python3.7/dist-packages (from optuna) (4.63.0)\n",
            "Requirement already satisfied: pyparsing!=3.0.5,>=2.0.2 in /usr/local/lib/python3.7/dist-packages (from packaging>=20.0->optuna) (3.0.7)\n",
            "Requirement already satisfied: greenlet!=0.4.17 in /usr/local/lib/python3.7/dist-packages (from sqlalchemy>=1.1.0->optuna) (1.1.2)\n",
            "Requirement already satisfied: importlib-metadata in /usr/local/lib/python3.7/dist-packages (from sqlalchemy>=1.1.0->optuna) (4.11.2)\n",
            "Requirement already satisfied: importlib-resources in /usr/local/lib/python3.7/dist-packages (from alembic->optuna) (5.4.0)\n",
            "Collecting Mako\n",
            "  Downloading Mako-1.2.0-py3-none-any.whl (78 kB)\n",
            "\u001b[K     |████████████████████████████████| 78 kB 5.5 MB/s \n",
            "\u001b[?25hCollecting autopage>=0.4.0\n",
            "  Downloading autopage-0.5.0-py3-none-any.whl (29 kB)\n",
            "Collecting pbr!=2.1.0,>=2.0.0\n",
            "  Downloading pbr-5.8.1-py2.py3-none-any.whl (113 kB)\n",
            "\u001b[K     |████████████████████████████████| 113 kB 85.7 MB/s \n",
            "\u001b[?25hCollecting cmd2>=1.0.0\n",
            "  Downloading cmd2-2.4.0-py3-none-any.whl (150 kB)\n",
            "\u001b[K     |████████████████████████████████| 150 kB 35.4 MB/s \n",
            "\u001b[?25hRequirement already satisfied: PrettyTable>=0.7.2 in /usr/local/lib/python3.7/dist-packages (from cliff->optuna) (3.2.0)\n",
            "Collecting stevedore>=2.0.1\n",
            "  Downloading stevedore-3.5.0-py3-none-any.whl (49 kB)\n",
            "\u001b[K     |████████████████████████████████| 49 kB 5.1 MB/s \n",
            "\u001b[?25hCollecting pyperclip>=1.6\n",
            "  Downloading pyperclip-1.8.2.tar.gz (20 kB)\n",
            "Requirement already satisfied: typing-extensions in /usr/local/lib/python3.7/dist-packages (from cmd2>=1.0.0->cliff->optuna) (3.10.0.2)\n",
            "Requirement already satisfied: attrs>=16.3.0 in /usr/local/lib/python3.7/dist-packages (from cmd2>=1.0.0->cliff->optuna) (21.4.0)\n",
            "Requirement already satisfied: wcwidth>=0.1.7 in /usr/local/lib/python3.7/dist-packages (from cmd2>=1.0.0->cliff->optuna) (0.2.5)\n",
            "Requirement already satisfied: zipp>=0.5 in /usr/local/lib/python3.7/dist-packages (from importlib-metadata->sqlalchemy>=1.1.0->optuna) (3.7.0)\n",
            "Requirement already satisfied: MarkupSafe>=0.9.2 in /usr/local/lib/python3.7/dist-packages (from Mako->alembic->optuna) (2.0.1)\n",
            "Building wheels for collected packages: pyperclip\n",
            "  Building wheel for pyperclip (setup.py) ... \u001b[?25l\u001b[?25hdone\n",
            "  Created wheel for pyperclip: filename=pyperclip-1.8.2-py3-none-any.whl size=11137 sha256=cfdbc2836316ee2d74405ae235f64bbd9270e02c0f8dad255222e01d0de88917\n",
            "  Stored in directory: /root/.cache/pip/wheels/9f/18/84/8f69f8b08169c7bae2dde6bd7daf0c19fca8c8e500ee620a28\n",
            "Successfully built pyperclip\n",
            "Installing collected packages: pyperclip, pbr, stevedore, Mako, cmd2, autopage, colorlog, cmaes, cliff, alembic, optuna\n",
            "Successfully installed Mako-1.2.0 alembic-1.7.7 autopage-0.5.0 cliff-3.10.1 cmaes-0.8.2 cmd2-2.4.0 colorlog-6.6.0 optuna-2.10.0 pbr-5.8.1 pyperclip-1.8.2 stevedore-3.5.0\n"
          ]
        }
      ],
      "source": [
        "!pip install optuna"
      ]
    },
    {
      "cell_type": "markdown",
      "metadata": {
        "id": "x2JELxrRa4dl"
      },
      "source": [
        "50.News Aggregator Data Setをダウンロードし、以下の要領で学習データ（train.txt），検証データ（valid.txt），評価データ（test.txt）を作成せよ"
      ]
    },
    {
      "cell_type": "code",
      "execution_count": null,
      "metadata": {
        "colab": {
          "base_uri": "https://localhost:8080/"
        },
        "id": "EEqfz2ouazG8",
        "outputId": "f755de9a-ee59-48b2-e6d4-182e0d6b3371"
      },
      "outputs": [
        {
          "output_type": "stream",
          "name": "stdout",
          "text": [
            "学習用データ\n",
            "b    4501\n",
            "e    4235\n",
            "t    1220\n",
            "m     728\n",
            "Name: CATEGORY, dtype: int64\n",
            "評価用データ\n",
            "b    563\n",
            "e    529\n",
            "t    153\n",
            "m     91\n",
            "Name: CATEGORY, dtype: int64\n",
            "テスト用データ\n",
            "b    563\n",
            "e    530\n",
            "t    152\n",
            "m     91\n",
            "Name: CATEGORY, dtype: int64\n"
          ]
        }
      ],
      "source": [
        "# 50 データの入手・整形\n",
        "\n",
        "import pandas as pd\n",
        "from sklearn.model_selection import train_test_split\n",
        "\n",
        "df = pd.read_csv('newsCorpora_re.csv', header=None, sep='\\t', names=['ID', 'TITLE', 'URL', 'PUBLISHER', 'CATEGORY', 'STORY', 'HOSTNAME', 'TIMESTAMP'])\n",
        "df = df.loc[df['PUBLISHER'].isin(['Reuters', 'Huffington Post', 'Businessweek', 'Contactmusic.com', 'Daily Mail']), ['TITLE', 'CATEGORY']]\n",
        "\n",
        "train, tmp = train_test_split(df, test_size=0.2, shuffle=True, random_state=42, stratify=df['CATEGORY'])\n",
        "valid, test = train_test_split(tmp, test_size=0.5, shuffle=True, random_state=42, stratify=tmp['CATEGORY'])\n",
        "\n",
        "train.to_csv('train.txt', sep='\\t', index=False)\n",
        "valid.to_csv('valid.txt', sep='\\t', index=False)\n",
        "test.to_csv('test.txt', sep='\\t', index=False)\n",
        "\n",
        "print('学習用データ')\n",
        "print(train['CATEGORY'].value_counts())\n",
        "print('評価用データ')\n",
        "print(valid['CATEGORY'].value_counts())\n",
        "print('テスト用データ')\n",
        "print(test['CATEGORY'].value_counts())"
      ]
    },
    {
      "cell_type": "markdown",
      "metadata": {
        "id": "aej_TcmiHEm-"
      },
      "source": [
        "51.学習データ，検証データ，評価データから特徴量を抽出し，それぞれtrain.feature.txt，valid.feature.txt，test.feature.txtというファイル名で保存せよ． なお，カテゴリ分類に有用そうな特徴量は各自で自由に設計せよ．"
      ]
    },
    {
      "cell_type": "code",
      "execution_count": null,
      "metadata": {
        "id": "abmjBS46kF4t"
      },
      "outputs": [],
      "source": [
        "import string\n",
        "import re\n",
        "\n",
        "def preprocessing(text):\n",
        "    code_regex = re.compile('[!\"#$%&\\'\\\\\\\\()*+,-./:;<=>?@[\\\\]^_`{|}~「」〔〕“”〈〉『』【】＆＊・（）＄＃＠。、？！｀＋￥％]')\n",
        "    text = code_regex.sub('', text) # textから記号を除去\n",
        "    text = text.lower() # textを小文字に\n",
        "    text = re.sub(r'\\d+', '0', text) # text内の数字を0に\n",
        "    return text\n",
        "    \n",
        "# データの再結合\n",
        "df = pd.concat([train, valid, test], axis=0)\n",
        "df.reset_index(drop=True, inplace=True)\n",
        "\n",
        "# 前処理の実施\n",
        "df['TITLE'] = df['TITLE'].map(lambda x: preprocessing(x))"
      ]
    },
    {
      "cell_type": "code",
      "execution_count": null,
      "metadata": {
        "colab": {
          "base_uri": "https://localhost:8080/"
        },
        "id": "E5hfEaUckP66",
        "outputId": "6e53f029-8071-470c-a64a-618e75db168e"
      },
      "outputs": [
        {
          "output_type": "stream",
          "name": "stderr",
          "text": [
            "/usr/local/lib/python3.7/dist-packages/sklearn/utils/deprecation.py:87: FutureWarning: Function get_feature_names is deprecated; get_feature_names is deprecated in 1.0 and will be removed in 1.2. Please use get_feature_names_out instead.\n",
            "  warnings.warn(msg, category=FutureWarning)\n"
          ]
        },
        {
          "output_type": "stream",
          "name": "stdout",
          "text": [
            "   0apple  0argentina  0bank  0bank of  0brent  0china   0d  0day  0ecb  0gm  \\\n",
            "0     0.0         0.0    0.0       0.0     0.0     0.0  0.0   0.0   0.0  0.0   \n",
            "1     0.0         0.0    0.0       0.0     0.0     0.0  0.0   0.0   0.0  0.0   \n",
            "2     0.0         0.0    0.0       0.0     0.0     0.0  0.0   0.0   0.0  0.0   \n",
            "3     0.0         0.0    0.0       0.0     0.0     0.0  0.0   0.0   0.0  0.0   \n",
            "4     0.0         0.0    0.0       0.0     0.0     0.0  0.0   0.0   0.0  0.0   \n",
            "\n",
            "   ...  you can  you need  you to  young  your  your mother  yuan  zac  \\\n",
            "0  ...      0.0       0.0     0.0    0.0   0.0          0.0   0.0  0.0   \n",
            "1  ...      0.0       0.0     0.0    0.0   0.0          0.0   0.0  0.0   \n",
            "2  ...      0.0       0.0     0.0    0.0   0.0          0.0   0.0  0.0   \n",
            "3  ...      0.0       0.0     0.0    0.0   0.0          0.0   0.0  0.0   \n",
            "4  ...      0.0       0.0     0.0    0.0   0.0          0.0   0.0  0.0   \n",
            "\n",
            "   zac efron      zone  \n",
            "0        0.0  0.000000  \n",
            "1        0.0  0.330221  \n",
            "2        0.0  0.000000  \n",
            "3        0.0  0.000000  \n",
            "4        0.0  0.000000  \n",
            "\n",
            "[5 rows x 2706 columns]\n"
          ]
        }
      ],
      "source": [
        "from sklearn.feature_extraction.text import TfidfVectorizer\n",
        "\n",
        "# データの分割\n",
        "train_valid = df[:len(train) + len(valid)]\n",
        "test = df[len(train) + len(valid):]\n",
        "\n",
        "# TfidfVectorizer\n",
        "vec_tfidf = TfidfVectorizer(min_df=10, ngram_range=(1, 2))\n",
        "\n",
        "# ベクトル化\n",
        "X_train_valid = vec_tfidf.fit_transform(train_valid['TITLE'])\n",
        "X_test = vec_tfidf.transform(test['TITLE'])\n",
        "\n",
        "# ベクトルをデータフレームに変換\n",
        "X_train_valid = pd.DataFrame(X_train_valid.toarray(), columns=vec_tfidf.get_feature_names())\n",
        "X_test = pd.DataFrame(X_test.toarray(), columns=vec_tfidf.get_feature_names())\n",
        "\n",
        "# データの分割\n",
        "X_train = X_train_valid[:len(train)]\n",
        "X_valid = X_train_valid[len(train):]\n",
        "\n",
        "# データの保存\n",
        "X_train.to_csv('./X_train.txt', sep='\\t', index=False)\n",
        "X_valid.to_csv('./X_valid.txt', sep='\\t', index=False)\n",
        "X_test.to_csv('./X_test.txt', sep='\\t', index=False)\n",
        "\n",
        "print(X_train.head())"
      ]
    },
    {
      "cell_type": "markdown",
      "metadata": {
        "id": "mI_jmQP4rtwk"
      },
      "source": [
        "52.51で構築した学習データを用いて，ロジスティック回帰モデルを学習せよ."
      ]
    },
    {
      "cell_type": "code",
      "execution_count": null,
      "metadata": {
        "colab": {
          "base_uri": "https://localhost:8080/"
        },
        "id": "FwjfT0VMhhtm",
        "outputId": "70b1fabb-c849-4771-a7dc-3897e2a324d8"
      },
      "outputs": [
        {
          "output_type": "execute_result",
          "data": {
            "text/plain": [
              "LogisticRegression(max_iter=10000, random_state=42)"
            ]
          },
          "metadata": {},
          "execution_count": 9
        }
      ],
      "source": [
        "# 52 学習\n",
        "\n",
        "from sklearn.linear_model import LogisticRegression\n",
        "\n",
        "y_train = train['CATEGORY']\n",
        "y_test = test['CATEGORY']\n",
        "lg = LogisticRegression(random_state=42, max_iter=10000)\n",
        "lg.fit(X_train, y_train)"
      ]
    },
    {
      "cell_type": "markdown",
      "metadata": {
        "id": "X2hoHD6twfVr"
      },
      "source": [
        "53.52で学習したロジスティック回帰モデルを用い，与えられた記事見出しからカテゴリとその予測確率を計算するプログラムを実装せよ．"
      ]
    },
    {
      "cell_type": "code",
      "execution_count": null,
      "metadata": {
        "colab": {
          "base_uri": "https://localhost:8080/"
        },
        "id": "dTSwLYYGwfhn",
        "outputId": "367907d5-892d-4619-c0c6-1c4d3006ed22"
      },
      "outputs": [
        {
          "output_type": "stream",
          "name": "stdout",
          "text": [
            "[array([0.84109114, 0.98716601, 0.97387822, ..., 0.75299565, 0.8692011 ,\n",
            "       0.70576088]), array(['b', 'b', 'b', ..., 'e', 'b', 'b'], dtype=object)]\n"
          ]
        }
      ],
      "source": [
        "# 53 予測\n",
        "\n",
        "import numpy as np\n",
        "\n",
        "def lg_score(lg, X):\n",
        "    return [np.max(lg.predict_proba(X), axis=1), lg.predict(X)]\n",
        "\n",
        "train_pred = lg_score(lg, X_train)\n",
        "test_pred = lg_score(lg, X_test)\n",
        "\n",
        "print(train_pred)"
      ]
    },
    {
      "cell_type": "markdown",
      "metadata": {
        "id": "0CtO-En10skz"
      },
      "source": [
        "54.52で学習したロジスティック回帰モデルの正解率を，学習データおよび評価データ上で計測せよ．"
      ]
    },
    {
      "cell_type": "code",
      "execution_count": null,
      "metadata": {
        "colab": {
          "base_uri": "https://localhost:8080/"
        },
        "id": "l3fh8Dpm0r1O",
        "outputId": "2cd356bb-5a29-4e89-9831-71f7e3aba2a9"
      },
      "outputs": [
        {
          "output_type": "stream",
          "name": "stdout",
          "text": [
            "学習データの正解率: 0.9169786596780232\n",
            "評価データの正解率: 0.8854790419161677\n"
          ]
        }
      ],
      "source": [
        "# 54 正解率の計測\n",
        "\n",
        "from sklearn.metrics import accuracy_score\n",
        "\n",
        "train_acc = accuracy_score(y_train, train_pred[1])\n",
        "print('学習データの正解率:', train_acc)\n",
        "test_acc = accuracy_score(y_test, test_pred[1])\n",
        "print('評価データの正解率:', test_acc)"
      ]
    },
    {
      "cell_type": "markdown",
      "metadata": {
        "id": "RMRZxTRb0sA7"
      },
      "source": [
        "55.52で学習したロジスティック回帰モデルの混同行列（confusion matrix）を，学習データおよび評価データ上で作成せよ．"
      ]
    },
    {
      "cell_type": "code",
      "execution_count": null,
      "metadata": {
        "colab": {
          "base_uri": "https://localhost:8080/"
        },
        "id": "_UWTdpdz1iHz",
        "outputId": "06e5f991-9222-4d64-a89b-d4f9d18d9b62"
      },
      "outputs": [
        {
          "output_type": "stream",
          "name": "stdout",
          "text": [
            "[[4332  107   13   49]\n",
            " [  61 4165    1    8]\n",
            " [ 106  130  478   14]\n",
            " [ 241  150    7  822]]\n",
            "\n",
            "\n",
            "[[532  22   2   7]\n",
            " [ 15 515   0   0]\n",
            " [ 20  25  45   1]\n",
            " [ 41  18   2  91]]\n"
          ]
        }
      ],
      "source": [
        "# 55 混同行列の作成\n",
        "\n",
        "from sklearn.metrics import confusion_matrix\n",
        "\n",
        "# 学習データの混同行列\n",
        "train_matrix = confusion_matrix(y_train, train_pred[1])\n",
        "print(train_matrix)\n",
        "print('\\n')\n",
        "\n",
        "# 評価データの混同行列\n",
        "test_matrix = confusion_matrix(y_test, test_pred[1])\n",
        "print(test_matrix)"
      ]
    },
    {
      "cell_type": "code",
      "execution_count": null,
      "metadata": {
        "colab": {
          "base_uri": "https://localhost:8080/",
          "height": 245
        },
        "id": "YS1MOJHI2XaF",
        "outputId": "e306bef7-ea51-472a-dc1e-690ba7ea088c"
      },
      "outputs": [
        {
          "output_type": "error",
          "ename": "NameError",
          "evalue": "ignored",
          "traceback": [
            "\u001b[0;31m---------------------------------------------------------------------------\u001b[0m",
            "\u001b[0;31mNameError\u001b[0m                                 Traceback (most recent call last)",
            "\u001b[0;32m<ipython-input-2-8ab802a968b4>\u001b[0m in \u001b[0;36m<module>\u001b[0;34m()\u001b[0m\n\u001b[1;32m      4\u001b[0m \u001b[0;32mimport\u001b[0m \u001b[0mmatplotlib\u001b[0m\u001b[0;34m.\u001b[0m\u001b[0mpyplot\u001b[0m \u001b[0;32mas\u001b[0m \u001b[0mplt\u001b[0m\u001b[0;34m\u001b[0m\u001b[0;34m\u001b[0m\u001b[0m\n\u001b[1;32m      5\u001b[0m \u001b[0;34m\u001b[0m\u001b[0m\n\u001b[0;32m----> 6\u001b[0;31m \u001b[0msns\u001b[0m\u001b[0;34m.\u001b[0m\u001b[0mheatmap\u001b[0m\u001b[0;34m(\u001b[0m\u001b[0mtrain_matrix\u001b[0m\u001b[0;34m,\u001b[0m \u001b[0mannot\u001b[0m\u001b[0;34m=\u001b[0m\u001b[0;32mTrue\u001b[0m\u001b[0;34m,\u001b[0m \u001b[0mcbar\u001b[0m\u001b[0;34m=\u001b[0m\u001b[0;32mTrue\u001b[0m\u001b[0;34m,\u001b[0m \u001b[0msquare\u001b[0m\u001b[0;34m=\u001b[0m\u001b[0;32mTrue\u001b[0m\u001b[0;34m)\u001b[0m\u001b[0;34m\u001b[0m\u001b[0;34m\u001b[0m\u001b[0m\n\u001b[0m\u001b[1;32m      7\u001b[0m \u001b[0mplt\u001b[0m\u001b[0;34m.\u001b[0m\u001b[0mshow\u001b[0m\u001b[0;34m(\u001b[0m\u001b[0;34m)\u001b[0m\u001b[0;34m\u001b[0m\u001b[0;34m\u001b[0m\u001b[0m\n\u001b[1;32m      8\u001b[0m \u001b[0msns\u001b[0m\u001b[0;34m.\u001b[0m\u001b[0mheatmap\u001b[0m\u001b[0;34m(\u001b[0m\u001b[0mtest_matrix\u001b[0m\u001b[0;34m,\u001b[0m \u001b[0mannot\u001b[0m\u001b[0;34m=\u001b[0m\u001b[0;32mTrue\u001b[0m\u001b[0;34m,\u001b[0m \u001b[0mcbar\u001b[0m\u001b[0;34m=\u001b[0m\u001b[0;32mTrue\u001b[0m\u001b[0;34m,\u001b[0m \u001b[0msquare\u001b[0m\u001b[0;34m=\u001b[0m\u001b[0;32mTrue\u001b[0m\u001b[0;34m,\u001b[0m \u001b[0mcmap\u001b[0m\u001b[0;34m=\u001b[0m\u001b[0;34m'Blues'\u001b[0m\u001b[0;34m)\u001b[0m\u001b[0;34m\u001b[0m\u001b[0;34m\u001b[0m\u001b[0m\n",
            "\u001b[0;31mNameError\u001b[0m: name 'train_matrix' is not defined"
          ]
        }
      ],
      "source": [
        "# 直感的な理解のための図示\n",
        "\n",
        "import seaborn as sns\n",
        "import matplotlib.pyplot as plt\n",
        "\n",
        "sns.heatmap(train_matrix, annot=True, cbar=True, square=True, cmap='Blues')\n",
        "plt.show()\n",
        "sns.heatmap(test_matrix, annot=True, cbar=True, square=True, cmap='Blues')\n",
        "plt.show()"
      ]
    },
    {
      "cell_type": "markdown",
      "metadata": {
        "id": "0sg6M3KC6OzO"
      },
      "source": [
        "56.52で学習したロジスティック回帰モデルの適合率，再現率，F1スコアを，評価データ上で計測せよ．カテゴリごとに適合率，再現率，F1スコアを求め，カテゴリごとの性能をマイクロ平均（micro-average）とマクロ平均（macro-average）で統合せよ．"
      ]
    },
    {
      "cell_type": "code",
      "execution_count": null,
      "metadata": {
        "colab": {
          "base_uri": "https://localhost:8080/",
          "height": 143
        },
        "id": "RZ6hcBKD7Z-z",
        "outputId": "7adf5ef7-c473-4bcd-ec45-3551d65f8019"
      },
      "outputs": [
        {
          "data": {
            "text/html": [
              "\n",
              "  <div id=\"df-7fd94548-d1d2-4d5a-9d36-c8ec021b283e\">\n",
              "    <div class=\"colab-df-container\">\n",
              "      <div>\n",
              "<style scoped>\n",
              "    .dataframe tbody tr th:only-of-type {\n",
              "        vertical-align: middle;\n",
              "    }\n",
              "\n",
              "    .dataframe tbody tr th {\n",
              "        vertical-align: top;\n",
              "    }\n",
              "\n",
              "    .dataframe thead th {\n",
              "        text-align: right;\n",
              "    }\n",
              "</style>\n",
              "<table border=\"1\" class=\"dataframe\">\n",
              "  <thead>\n",
              "    <tr style=\"text-align: right;\">\n",
              "      <th></th>\n",
              "      <th>b</th>\n",
              "      <th>e</th>\n",
              "      <th>t</th>\n",
              "      <th>m</th>\n",
              "      <th>マイクロ平均</th>\n",
              "      <th>マクロ平均</th>\n",
              "    </tr>\n",
              "  </thead>\n",
              "  <tbody>\n",
              "    <tr>\n",
              "      <th>適合率</th>\n",
              "      <td>0.875</td>\n",
              "      <td>0.887931</td>\n",
              "      <td>0.918367</td>\n",
              "      <td>0.919192</td>\n",
              "      <td>0.885479</td>\n",
              "      <td>0.900123</td>\n",
              "    </tr>\n",
              "    <tr>\n",
              "      <th>再現率</th>\n",
              "      <td>0.875</td>\n",
              "      <td>0.887931</td>\n",
              "      <td>0.918367</td>\n",
              "      <td>0.919192</td>\n",
              "      <td>0.885479</td>\n",
              "      <td>0.752456</td>\n",
              "    </tr>\n",
              "    <tr>\n",
              "      <th>F1</th>\n",
              "      <td>0.875</td>\n",
              "      <td>0.887931</td>\n",
              "      <td>0.918367</td>\n",
              "      <td>0.919192</td>\n",
              "      <td>0.885479</td>\n",
              "      <td>0.801127</td>\n",
              "    </tr>\n",
              "  </tbody>\n",
              "</table>\n",
              "</div>\n",
              "      <button class=\"colab-df-convert\" onclick=\"convertToInteractive('df-7fd94548-d1d2-4d5a-9d36-c8ec021b283e')\"\n",
              "              title=\"Convert this dataframe to an interactive table.\"\n",
              "              style=\"display:none;\">\n",
              "        \n",
              "  <svg xmlns=\"http://www.w3.org/2000/svg\" height=\"24px\"viewBox=\"0 0 24 24\"\n",
              "       width=\"24px\">\n",
              "    <path d=\"M0 0h24v24H0V0z\" fill=\"none\"/>\n",
              "    <path d=\"M18.56 5.44l.94 2.06.94-2.06 2.06-.94-2.06-.94-.94-2.06-.94 2.06-2.06.94zm-11 1L8.5 8.5l.94-2.06 2.06-.94-2.06-.94L8.5 2.5l-.94 2.06-2.06.94zm10 10l.94 2.06.94-2.06 2.06-.94-2.06-.94-.94-2.06-.94 2.06-2.06.94z\"/><path d=\"M17.41 7.96l-1.37-1.37c-.4-.4-.92-.59-1.43-.59-.52 0-1.04.2-1.43.59L10.3 9.45l-7.72 7.72c-.78.78-.78 2.05 0 2.83L4 21.41c.39.39.9.59 1.41.59.51 0 1.02-.2 1.41-.59l7.78-7.78 2.81-2.81c.8-.78.8-2.07 0-2.86zM5.41 20L4 18.59l7.72-7.72 1.47 1.35L5.41 20z\"/>\n",
              "  </svg>\n",
              "      </button>\n",
              "      \n",
              "  <style>\n",
              "    .colab-df-container {\n",
              "      display:flex;\n",
              "      flex-wrap:wrap;\n",
              "      gap: 12px;\n",
              "    }\n",
              "\n",
              "    .colab-df-convert {\n",
              "      background-color: #E8F0FE;\n",
              "      border: none;\n",
              "      border-radius: 50%;\n",
              "      cursor: pointer;\n",
              "      display: none;\n",
              "      fill: #1967D2;\n",
              "      height: 32px;\n",
              "      padding: 0 0 0 0;\n",
              "      width: 32px;\n",
              "    }\n",
              "\n",
              "    .colab-df-convert:hover {\n",
              "      background-color: #E2EBFA;\n",
              "      box-shadow: 0px 1px 2px rgba(60, 64, 67, 0.3), 0px 1px 3px 1px rgba(60, 64, 67, 0.15);\n",
              "      fill: #174EA6;\n",
              "    }\n",
              "\n",
              "    [theme=dark] .colab-df-convert {\n",
              "      background-color: #3B4455;\n",
              "      fill: #D2E3FC;\n",
              "    }\n",
              "\n",
              "    [theme=dark] .colab-df-convert:hover {\n",
              "      background-color: #434B5C;\n",
              "      box-shadow: 0px 1px 3px 1px rgba(0, 0, 0, 0.15);\n",
              "      filter: drop-shadow(0px 1px 2px rgba(0, 0, 0, 0.3));\n",
              "      fill: #FFFFFF;\n",
              "    }\n",
              "  </style>\n",
              "\n",
              "      <script>\n",
              "        const buttonEl =\n",
              "          document.querySelector('#df-7fd94548-d1d2-4d5a-9d36-c8ec021b283e button.colab-df-convert');\n",
              "        buttonEl.style.display =\n",
              "          google.colab.kernel.accessAllowed ? 'block' : 'none';\n",
              "\n",
              "        async function convertToInteractive(key) {\n",
              "          const element = document.querySelector('#df-7fd94548-d1d2-4d5a-9d36-c8ec021b283e');\n",
              "          const dataTable =\n",
              "            await google.colab.kernel.invokeFunction('convertToInteractive',\n",
              "                                                     [key], {});\n",
              "          if (!dataTable) return;\n",
              "\n",
              "          const docLinkHtml = 'Like what you see? Visit the ' +\n",
              "            '<a target=\"_blank\" href=https://colab.research.google.com/notebooks/data_table.ipynb>data table notebook</a>'\n",
              "            + ' to learn more about interactive tables.';\n",
              "          element.innerHTML = '';\n",
              "          dataTable['output_type'] = 'display_data';\n",
              "          await google.colab.output.renderOutput(dataTable, element);\n",
              "          const docLink = document.createElement('div');\n",
              "          docLink.innerHTML = docLinkHtml;\n",
              "          element.appendChild(docLink);\n",
              "        }\n",
              "      </script>\n",
              "    </div>\n",
              "  </div>\n",
              "  "
            ],
            "text/plain": [
              "         b         e         t         m    マイクロ平均     マクロ平均\n",
              "適合率  0.875  0.887931  0.918367  0.919192  0.885479  0.900123\n",
              "再現率  0.875  0.887931  0.918367  0.919192  0.885479  0.752456\n",
              "F1   0.875  0.887931  0.918367  0.919192  0.885479  0.801127"
            ]
          },
          "execution_count": 14,
          "metadata": {},
          "output_type": "execute_result"
        }
      ],
      "source": [
        "# 56 適合率，再現率，F1スコアの計測\n",
        "\n",
        "from sklearn.metrics import precision_score\n",
        "from sklearn.metrics import recall_score\n",
        "from sklearn.metrics import f1_score\n",
        "\n",
        "# 適合率\n",
        "precision = precision_score(y_test, test_pred[1], average=None)\n",
        "precision = np.append(precision, precision_score(y_test, test_pred[1], average='micro'))\n",
        "precision = np.append(precision, precision_score(y_test, test_pred[1], average='macro'))\n",
        "\n",
        "# 再現率\n",
        "recall = precision_score(y_test, test_pred[1], average=None)\n",
        "recall = np.append(recall, recall_score(y_test, test_pred[1], average='micro'))\n",
        "recall = np.append(recall, recall_score(y_test, test_pred[1], average='macro'))\n",
        "\n",
        "# F1\n",
        "f1 = precision_score(y_test, test_pred[1], average=None)\n",
        "f1 = np.append(f1, f1_score(y_test, test_pred[1], average='micro'))\n",
        "f1 = np.append(f1, f1_score(y_test, test_pred[1], average='macro'))\n",
        "\n",
        "# データフレームに変換\n",
        "scores = [precision, recall, f1]\n",
        "df_scores = pd.DataFrame(scores)\n",
        "df_scores.columns = ['b', 'e', 't', 'm', 'マイクロ平均', 'マクロ平均']\n",
        "df_scores.index = ['適合率', '再現率', 'F1']\n",
        "df_scores"
      ]
    },
    {
      "cell_type": "markdown",
      "metadata": {
        "id": "h1S1sVE9mLNQ"
      },
      "source": [
        "57.52で学習したロジスティック回帰モデルの中で，重みの高い特徴量トップ10と，重みの低い特徴量トップ10を確認せよ．"
      ]
    },
    {
      "cell_type": "code",
      "execution_count": null,
      "metadata": {
        "colab": {
          "base_uri": "https://localhost:8080/",
          "height": 606
        },
        "id": "-1mvXIoUmPiK",
        "outputId": "b806557e-fb47-4ced-f278-1a6c7f047725"
      },
      "outputs": [
        {
          "name": "stdout",
          "output_type": "stream",
          "text": [
            "カテゴリ： b\n"
          ]
        },
        {
          "data": {
            "text/html": [
              "\n",
              "  <div id=\"df-9560fd1e-48d6-48bc-b75c-bd5399bb598d\">\n",
              "    <div class=\"colab-df-container\">\n",
              "      <div>\n",
              "<style scoped>\n",
              "    .dataframe tbody tr th:only-of-type {\n",
              "        vertical-align: middle;\n",
              "    }\n",
              "\n",
              "    .dataframe tbody tr th {\n",
              "        vertical-align: top;\n",
              "    }\n",
              "\n",
              "    .dataframe thead th {\n",
              "        text-align: right;\n",
              "    }\n",
              "</style>\n",
              "<table border=\"1\" class=\"dataframe\">\n",
              "  <thead>\n",
              "    <tr style=\"text-align: right;\">\n",
              "      <th></th>\n",
              "      <th>1</th>\n",
              "      <th>2</th>\n",
              "      <th>3</th>\n",
              "      <th>4</th>\n",
              "      <th>5</th>\n",
              "      <th>6</th>\n",
              "      <th>7</th>\n",
              "      <th>8</th>\n",
              "      <th>9</th>\n",
              "      <th>10</th>\n",
              "    </tr>\n",
              "  </thead>\n",
              "  <tbody>\n",
              "    <tr>\n",
              "      <th>重みの高い特徴量</th>\n",
              "      <td>fed</td>\n",
              "      <td>ecb</td>\n",
              "      <td>bank</td>\n",
              "      <td>oil</td>\n",
              "      <td>china</td>\n",
              "      <td>ukraine</td>\n",
              "      <td>stocks</td>\n",
              "      <td>euro</td>\n",
              "      <td>obamacare</td>\n",
              "      <td>ipo</td>\n",
              "    </tr>\n",
              "    <tr>\n",
              "      <th>重みの低い特徴量</th>\n",
              "      <td>her</td>\n",
              "      <td>video</td>\n",
              "      <td>ebola</td>\n",
              "      <td>aereo</td>\n",
              "      <td>and</td>\n",
              "      <td>star</td>\n",
              "      <td>drug</td>\n",
              "      <td>the</td>\n",
              "      <td>study</td>\n",
              "      <td>she</td>\n",
              "    </tr>\n",
              "  </tbody>\n",
              "</table>\n",
              "</div>\n",
              "      <button class=\"colab-df-convert\" onclick=\"convertToInteractive('df-9560fd1e-48d6-48bc-b75c-bd5399bb598d')\"\n",
              "              title=\"Convert this dataframe to an interactive table.\"\n",
              "              style=\"display:none;\">\n",
              "        \n",
              "  <svg xmlns=\"http://www.w3.org/2000/svg\" height=\"24px\"viewBox=\"0 0 24 24\"\n",
              "       width=\"24px\">\n",
              "    <path d=\"M0 0h24v24H0V0z\" fill=\"none\"/>\n",
              "    <path d=\"M18.56 5.44l.94 2.06.94-2.06 2.06-.94-2.06-.94-.94-2.06-.94 2.06-2.06.94zm-11 1L8.5 8.5l.94-2.06 2.06-.94-2.06-.94L8.5 2.5l-.94 2.06-2.06.94zm10 10l.94 2.06.94-2.06 2.06-.94-2.06-.94-.94-2.06-.94 2.06-2.06.94z\"/><path d=\"M17.41 7.96l-1.37-1.37c-.4-.4-.92-.59-1.43-.59-.52 0-1.04.2-1.43.59L10.3 9.45l-7.72 7.72c-.78.78-.78 2.05 0 2.83L4 21.41c.39.39.9.59 1.41.59.51 0 1.02-.2 1.41-.59l7.78-7.78 2.81-2.81c.8-.78.8-2.07 0-2.86zM5.41 20L4 18.59l7.72-7.72 1.47 1.35L5.41 20z\"/>\n",
              "  </svg>\n",
              "      </button>\n",
              "      \n",
              "  <style>\n",
              "    .colab-df-container {\n",
              "      display:flex;\n",
              "      flex-wrap:wrap;\n",
              "      gap: 12px;\n",
              "    }\n",
              "\n",
              "    .colab-df-convert {\n",
              "      background-color: #E8F0FE;\n",
              "      border: none;\n",
              "      border-radius: 50%;\n",
              "      cursor: pointer;\n",
              "      display: none;\n",
              "      fill: #1967D2;\n",
              "      height: 32px;\n",
              "      padding: 0 0 0 0;\n",
              "      width: 32px;\n",
              "    }\n",
              "\n",
              "    .colab-df-convert:hover {\n",
              "      background-color: #E2EBFA;\n",
              "      box-shadow: 0px 1px 2px rgba(60, 64, 67, 0.3), 0px 1px 3px 1px rgba(60, 64, 67, 0.15);\n",
              "      fill: #174EA6;\n",
              "    }\n",
              "\n",
              "    [theme=dark] .colab-df-convert {\n",
              "      background-color: #3B4455;\n",
              "      fill: #D2E3FC;\n",
              "    }\n",
              "\n",
              "    [theme=dark] .colab-df-convert:hover {\n",
              "      background-color: #434B5C;\n",
              "      box-shadow: 0px 1px 3px 1px rgba(0, 0, 0, 0.15);\n",
              "      filter: drop-shadow(0px 1px 2px rgba(0, 0, 0, 0.3));\n",
              "      fill: #FFFFFF;\n",
              "    }\n",
              "  </style>\n",
              "\n",
              "      <script>\n",
              "        const buttonEl =\n",
              "          document.querySelector('#df-9560fd1e-48d6-48bc-b75c-bd5399bb598d button.colab-df-convert');\n",
              "        buttonEl.style.display =\n",
              "          google.colab.kernel.accessAllowed ? 'block' : 'none';\n",
              "\n",
              "        async function convertToInteractive(key) {\n",
              "          const element = document.querySelector('#df-9560fd1e-48d6-48bc-b75c-bd5399bb598d');\n",
              "          const dataTable =\n",
              "            await google.colab.kernel.invokeFunction('convertToInteractive',\n",
              "                                                     [key], {});\n",
              "          if (!dataTable) return;\n",
              "\n",
              "          const docLinkHtml = 'Like what you see? Visit the ' +\n",
              "            '<a target=\"_blank\" href=https://colab.research.google.com/notebooks/data_table.ipynb>data table notebook</a>'\n",
              "            + ' to learn more about interactive tables.';\n",
              "          element.innerHTML = '';\n",
              "          dataTable['output_type'] = 'display_data';\n",
              "          await google.colab.output.renderOutput(dataTable, element);\n",
              "          const docLink = document.createElement('div');\n",
              "          docLink.innerHTML = docLinkHtml;\n",
              "          element.appendChild(docLink);\n",
              "        }\n",
              "      </script>\n",
              "    </div>\n",
              "  </div>\n",
              "  "
            ],
            "text/plain": [
              "           1      2      3      4      5        6       7     8          9   \\\n",
              "重みの高い特徴量  fed    ecb   bank    oil  china  ukraine  stocks  euro  obamacare   \n",
              "重みの低い特徴量  her  video  ebola  aereo    and     star    drug   the      study   \n",
              "\n",
              "           10  \n",
              "重みの高い特徴量  ipo  \n",
              "重みの低い特徴量  she  "
            ]
          },
          "metadata": {},
          "output_type": "display_data"
        },
        {
          "name": "stdout",
          "output_type": "stream",
          "text": [
            "\n",
            "\n",
            "カテゴリ： e\n"
          ]
        },
        {
          "data": {
            "text/html": [
              "\n",
              "  <div id=\"df-7896eaf9-4a69-4547-afc9-9dae3e31de01\">\n",
              "    <div class=\"colab-df-container\">\n",
              "      <div>\n",
              "<style scoped>\n",
              "    .dataframe tbody tr th:only-of-type {\n",
              "        vertical-align: middle;\n",
              "    }\n",
              "\n",
              "    .dataframe tbody tr th {\n",
              "        vertical-align: top;\n",
              "    }\n",
              "\n",
              "    .dataframe thead th {\n",
              "        text-align: right;\n",
              "    }\n",
              "</style>\n",
              "<table border=\"1\" class=\"dataframe\">\n",
              "  <thead>\n",
              "    <tr style=\"text-align: right;\">\n",
              "      <th></th>\n",
              "      <th>1</th>\n",
              "      <th>2</th>\n",
              "      <th>3</th>\n",
              "      <th>4</th>\n",
              "      <th>5</th>\n",
              "      <th>6</th>\n",
              "      <th>7</th>\n",
              "      <th>8</th>\n",
              "      <th>9</th>\n",
              "      <th>10</th>\n",
              "    </tr>\n",
              "  </thead>\n",
              "  <tbody>\n",
              "    <tr>\n",
              "      <th>重みの高い特徴量</th>\n",
              "      <td>chris</td>\n",
              "      <td>kardashian</td>\n",
              "      <td>movie</td>\n",
              "      <td>film</td>\n",
              "      <td>kim</td>\n",
              "      <td>her</td>\n",
              "      <td>star</td>\n",
              "      <td>wedding</td>\n",
              "      <td>paul</td>\n",
              "      <td>trailer</td>\n",
              "    </tr>\n",
              "    <tr>\n",
              "      <th>重みの低い特徴量</th>\n",
              "      <td>update</td>\n",
              "      <td>us</td>\n",
              "      <td>google</td>\n",
              "      <td>study</td>\n",
              "      <td>billion</td>\n",
              "      <td>says</td>\n",
              "      <td>data</td>\n",
              "      <td>ceo</td>\n",
              "      <td>risk</td>\n",
              "      <td>gm</td>\n",
              "    </tr>\n",
              "  </tbody>\n",
              "</table>\n",
              "</div>\n",
              "      <button class=\"colab-df-convert\" onclick=\"convertToInteractive('df-7896eaf9-4a69-4547-afc9-9dae3e31de01')\"\n",
              "              title=\"Convert this dataframe to an interactive table.\"\n",
              "              style=\"display:none;\">\n",
              "        \n",
              "  <svg xmlns=\"http://www.w3.org/2000/svg\" height=\"24px\"viewBox=\"0 0 24 24\"\n",
              "       width=\"24px\">\n",
              "    <path d=\"M0 0h24v24H0V0z\" fill=\"none\"/>\n",
              "    <path d=\"M18.56 5.44l.94 2.06.94-2.06 2.06-.94-2.06-.94-.94-2.06-.94 2.06-2.06.94zm-11 1L8.5 8.5l.94-2.06 2.06-.94-2.06-.94L8.5 2.5l-.94 2.06-2.06.94zm10 10l.94 2.06.94-2.06 2.06-.94-2.06-.94-.94-2.06-.94 2.06-2.06.94z\"/><path d=\"M17.41 7.96l-1.37-1.37c-.4-.4-.92-.59-1.43-.59-.52 0-1.04.2-1.43.59L10.3 9.45l-7.72 7.72c-.78.78-.78 2.05 0 2.83L4 21.41c.39.39.9.59 1.41.59.51 0 1.02-.2 1.41-.59l7.78-7.78 2.81-2.81c.8-.78.8-2.07 0-2.86zM5.41 20L4 18.59l7.72-7.72 1.47 1.35L5.41 20z\"/>\n",
              "  </svg>\n",
              "      </button>\n",
              "      \n",
              "  <style>\n",
              "    .colab-df-container {\n",
              "      display:flex;\n",
              "      flex-wrap:wrap;\n",
              "      gap: 12px;\n",
              "    }\n",
              "\n",
              "    .colab-df-convert {\n",
              "      background-color: #E8F0FE;\n",
              "      border: none;\n",
              "      border-radius: 50%;\n",
              "      cursor: pointer;\n",
              "      display: none;\n",
              "      fill: #1967D2;\n",
              "      height: 32px;\n",
              "      padding: 0 0 0 0;\n",
              "      width: 32px;\n",
              "    }\n",
              "\n",
              "    .colab-df-convert:hover {\n",
              "      background-color: #E2EBFA;\n",
              "      box-shadow: 0px 1px 2px rgba(60, 64, 67, 0.3), 0px 1px 3px 1px rgba(60, 64, 67, 0.15);\n",
              "      fill: #174EA6;\n",
              "    }\n",
              "\n",
              "    [theme=dark] .colab-df-convert {\n",
              "      background-color: #3B4455;\n",
              "      fill: #D2E3FC;\n",
              "    }\n",
              "\n",
              "    [theme=dark] .colab-df-convert:hover {\n",
              "      background-color: #434B5C;\n",
              "      box-shadow: 0px 1px 3px 1px rgba(0, 0, 0, 0.15);\n",
              "      filter: drop-shadow(0px 1px 2px rgba(0, 0, 0, 0.3));\n",
              "      fill: #FFFFFF;\n",
              "    }\n",
              "  </style>\n",
              "\n",
              "      <script>\n",
              "        const buttonEl =\n",
              "          document.querySelector('#df-7896eaf9-4a69-4547-afc9-9dae3e31de01 button.colab-df-convert');\n",
              "        buttonEl.style.display =\n",
              "          google.colab.kernel.accessAllowed ? 'block' : 'none';\n",
              "\n",
              "        async function convertToInteractive(key) {\n",
              "          const element = document.querySelector('#df-7896eaf9-4a69-4547-afc9-9dae3e31de01');\n",
              "          const dataTable =\n",
              "            await google.colab.kernel.invokeFunction('convertToInteractive',\n",
              "                                                     [key], {});\n",
              "          if (!dataTable) return;\n",
              "\n",
              "          const docLinkHtml = 'Like what you see? Visit the ' +\n",
              "            '<a target=\"_blank\" href=https://colab.research.google.com/notebooks/data_table.ipynb>data table notebook</a>'\n",
              "            + ' to learn more about interactive tables.';\n",
              "          element.innerHTML = '';\n",
              "          dataTable['output_type'] = 'display_data';\n",
              "          await google.colab.output.renderOutput(dataTable, element);\n",
              "          const docLink = document.createElement('div');\n",
              "          docLink.innerHTML = docLinkHtml;\n",
              "          element.appendChild(docLink);\n",
              "        }\n",
              "      </script>\n",
              "    </div>\n",
              "  </div>\n",
              "  "
            ],
            "text/plain": [
              "              1           2       3      4        5     6     7        8   \\\n",
              "重みの高い特徴量   chris  kardashian   movie   film      kim   her  star  wedding   \n",
              "重みの低い特徴量  update          us  google  study  billion  says  data      ceo   \n",
              "\n",
              "            9        10  \n",
              "重みの高い特徴量  paul  trailer  \n",
              "重みの低い特徴量  risk       gm  "
            ]
          },
          "metadata": {},
          "output_type": "display_data"
        },
        {
          "name": "stdout",
          "output_type": "stream",
          "text": [
            "\n",
            "\n",
            "カテゴリ： m\n"
          ]
        },
        {
          "data": {
            "text/html": [
              "\n",
              "  <div id=\"df-20d9dfb1-cf22-408b-8c46-41e130f406c9\">\n",
              "    <div class=\"colab-df-container\">\n",
              "      <div>\n",
              "<style scoped>\n",
              "    .dataframe tbody tr th:only-of-type {\n",
              "        vertical-align: middle;\n",
              "    }\n",
              "\n",
              "    .dataframe tbody tr th {\n",
              "        vertical-align: top;\n",
              "    }\n",
              "\n",
              "    .dataframe thead th {\n",
              "        text-align: right;\n",
              "    }\n",
              "</style>\n",
              "<table border=\"1\" class=\"dataframe\">\n",
              "  <thead>\n",
              "    <tr style=\"text-align: right;\">\n",
              "      <th></th>\n",
              "      <th>1</th>\n",
              "      <th>2</th>\n",
              "      <th>3</th>\n",
              "      <th>4</th>\n",
              "      <th>5</th>\n",
              "      <th>6</th>\n",
              "      <th>7</th>\n",
              "      <th>8</th>\n",
              "      <th>9</th>\n",
              "      <th>10</th>\n",
              "    </tr>\n",
              "  </thead>\n",
              "  <tbody>\n",
              "    <tr>\n",
              "      <th>重みの高い特徴量</th>\n",
              "      <td>ebola</td>\n",
              "      <td>cancer</td>\n",
              "      <td>drug</td>\n",
              "      <td>study</td>\n",
              "      <td>mers</td>\n",
              "      <td>fda</td>\n",
              "      <td>health</td>\n",
              "      <td>cdc</td>\n",
              "      <td>medical</td>\n",
              "      <td>cases</td>\n",
              "    </tr>\n",
              "    <tr>\n",
              "      <th>重みの低い特徴量</th>\n",
              "      <td>facebook</td>\n",
              "      <td>ceo</td>\n",
              "      <td>gm</td>\n",
              "      <td>climate</td>\n",
              "      <td>deal</td>\n",
              "      <td>twitter</td>\n",
              "      <td>sales</td>\n",
              "      <td>apple</td>\n",
              "      <td>bank</td>\n",
              "      <td>profit</td>\n",
              "    </tr>\n",
              "  </tbody>\n",
              "</table>\n",
              "</div>\n",
              "      <button class=\"colab-df-convert\" onclick=\"convertToInteractive('df-20d9dfb1-cf22-408b-8c46-41e130f406c9')\"\n",
              "              title=\"Convert this dataframe to an interactive table.\"\n",
              "              style=\"display:none;\">\n",
              "        \n",
              "  <svg xmlns=\"http://www.w3.org/2000/svg\" height=\"24px\"viewBox=\"0 0 24 24\"\n",
              "       width=\"24px\">\n",
              "    <path d=\"M0 0h24v24H0V0z\" fill=\"none\"/>\n",
              "    <path d=\"M18.56 5.44l.94 2.06.94-2.06 2.06-.94-2.06-.94-.94-2.06-.94 2.06-2.06.94zm-11 1L8.5 8.5l.94-2.06 2.06-.94-2.06-.94L8.5 2.5l-.94 2.06-2.06.94zm10 10l.94 2.06.94-2.06 2.06-.94-2.06-.94-.94-2.06-.94 2.06-2.06.94z\"/><path d=\"M17.41 7.96l-1.37-1.37c-.4-.4-.92-.59-1.43-.59-.52 0-1.04.2-1.43.59L10.3 9.45l-7.72 7.72c-.78.78-.78 2.05 0 2.83L4 21.41c.39.39.9.59 1.41.59.51 0 1.02-.2 1.41-.59l7.78-7.78 2.81-2.81c.8-.78.8-2.07 0-2.86zM5.41 20L4 18.59l7.72-7.72 1.47 1.35L5.41 20z\"/>\n",
              "  </svg>\n",
              "      </button>\n",
              "      \n",
              "  <style>\n",
              "    .colab-df-container {\n",
              "      display:flex;\n",
              "      flex-wrap:wrap;\n",
              "      gap: 12px;\n",
              "    }\n",
              "\n",
              "    .colab-df-convert {\n",
              "      background-color: #E8F0FE;\n",
              "      border: none;\n",
              "      border-radius: 50%;\n",
              "      cursor: pointer;\n",
              "      display: none;\n",
              "      fill: #1967D2;\n",
              "      height: 32px;\n",
              "      padding: 0 0 0 0;\n",
              "      width: 32px;\n",
              "    }\n",
              "\n",
              "    .colab-df-convert:hover {\n",
              "      background-color: #E2EBFA;\n",
              "      box-shadow: 0px 1px 2px rgba(60, 64, 67, 0.3), 0px 1px 3px 1px rgba(60, 64, 67, 0.15);\n",
              "      fill: #174EA6;\n",
              "    }\n",
              "\n",
              "    [theme=dark] .colab-df-convert {\n",
              "      background-color: #3B4455;\n",
              "      fill: #D2E3FC;\n",
              "    }\n",
              "\n",
              "    [theme=dark] .colab-df-convert:hover {\n",
              "      background-color: #434B5C;\n",
              "      box-shadow: 0px 1px 3px 1px rgba(0, 0, 0, 0.15);\n",
              "      filter: drop-shadow(0px 1px 2px rgba(0, 0, 0, 0.3));\n",
              "      fill: #FFFFFF;\n",
              "    }\n",
              "  </style>\n",
              "\n",
              "      <script>\n",
              "        const buttonEl =\n",
              "          document.querySelector('#df-20d9dfb1-cf22-408b-8c46-41e130f406c9 button.colab-df-convert');\n",
              "        buttonEl.style.display =\n",
              "          google.colab.kernel.accessAllowed ? 'block' : 'none';\n",
              "\n",
              "        async function convertToInteractive(key) {\n",
              "          const element = document.querySelector('#df-20d9dfb1-cf22-408b-8c46-41e130f406c9');\n",
              "          const dataTable =\n",
              "            await google.colab.kernel.invokeFunction('convertToInteractive',\n",
              "                                                     [key], {});\n",
              "          if (!dataTable) return;\n",
              "\n",
              "          const docLinkHtml = 'Like what you see? Visit the ' +\n",
              "            '<a target=\"_blank\" href=https://colab.research.google.com/notebooks/data_table.ipynb>data table notebook</a>'\n",
              "            + ' to learn more about interactive tables.';\n",
              "          element.innerHTML = '';\n",
              "          dataTable['output_type'] = 'display_data';\n",
              "          await google.colab.output.renderOutput(dataTable, element);\n",
              "          const docLink = document.createElement('div');\n",
              "          docLink.innerHTML = docLinkHtml;\n",
              "          element.appendChild(docLink);\n",
              "        }\n",
              "      </script>\n",
              "    </div>\n",
              "  </div>\n",
              "  "
            ],
            "text/plain": [
              "                1       2     3        4     5        6       7      8   \\\n",
              "重みの高い特徴量     ebola  cancer  drug    study  mers      fda  health    cdc   \n",
              "重みの低い特徴量  facebook     ceo    gm  climate  deal  twitter   sales  apple   \n",
              "\n",
              "               9       10  \n",
              "重みの高い特徴量  medical   cases  \n",
              "重みの低い特徴量     bank  profit  "
            ]
          },
          "metadata": {},
          "output_type": "display_data"
        },
        {
          "name": "stdout",
          "output_type": "stream",
          "text": [
            "\n",
            "\n",
            "カテゴリ： t\n"
          ]
        },
        {
          "data": {
            "text/html": [
              "\n",
              "  <div id=\"df-d65c7902-d3a1-4743-9dcf-70297f5f89e3\">\n",
              "    <div class=\"colab-df-container\">\n",
              "      <div>\n",
              "<style scoped>\n",
              "    .dataframe tbody tr th:only-of-type {\n",
              "        vertical-align: middle;\n",
              "    }\n",
              "\n",
              "    .dataframe tbody tr th {\n",
              "        vertical-align: top;\n",
              "    }\n",
              "\n",
              "    .dataframe thead th {\n",
              "        text-align: right;\n",
              "    }\n",
              "</style>\n",
              "<table border=\"1\" class=\"dataframe\">\n",
              "  <thead>\n",
              "    <tr style=\"text-align: right;\">\n",
              "      <th></th>\n",
              "      <th>1</th>\n",
              "      <th>2</th>\n",
              "      <th>3</th>\n",
              "      <th>4</th>\n",
              "      <th>5</th>\n",
              "      <th>6</th>\n",
              "      <th>7</th>\n",
              "      <th>8</th>\n",
              "      <th>9</th>\n",
              "      <th>10</th>\n",
              "    </tr>\n",
              "  </thead>\n",
              "  <tbody>\n",
              "    <tr>\n",
              "      <th>重みの高い特徴量</th>\n",
              "      <td>google</td>\n",
              "      <td>facebook</td>\n",
              "      <td>apple</td>\n",
              "      <td>climate</td>\n",
              "      <td>microsoft</td>\n",
              "      <td>tmobile</td>\n",
              "      <td>googles</td>\n",
              "      <td>gm</td>\n",
              "      <td>heartbleed</td>\n",
              "      <td>nasa</td>\n",
              "    </tr>\n",
              "    <tr>\n",
              "      <th>重みの低い特徴量</th>\n",
              "      <td>drug</td>\n",
              "      <td>cancer</td>\n",
              "      <td>fed</td>\n",
              "      <td>american</td>\n",
              "      <td>high</td>\n",
              "      <td>but</td>\n",
              "      <td>her</td>\n",
              "      <td>percent</td>\n",
              "      <td>ukraine</td>\n",
              "      <td>stocks</td>\n",
              "    </tr>\n",
              "  </tbody>\n",
              "</table>\n",
              "</div>\n",
              "      <button class=\"colab-df-convert\" onclick=\"convertToInteractive('df-d65c7902-d3a1-4743-9dcf-70297f5f89e3')\"\n",
              "              title=\"Convert this dataframe to an interactive table.\"\n",
              "              style=\"display:none;\">\n",
              "        \n",
              "  <svg xmlns=\"http://www.w3.org/2000/svg\" height=\"24px\"viewBox=\"0 0 24 24\"\n",
              "       width=\"24px\">\n",
              "    <path d=\"M0 0h24v24H0V0z\" fill=\"none\"/>\n",
              "    <path d=\"M18.56 5.44l.94 2.06.94-2.06 2.06-.94-2.06-.94-.94-2.06-.94 2.06-2.06.94zm-11 1L8.5 8.5l.94-2.06 2.06-.94-2.06-.94L8.5 2.5l-.94 2.06-2.06.94zm10 10l.94 2.06.94-2.06 2.06-.94-2.06-.94-.94-2.06-.94 2.06-2.06.94z\"/><path d=\"M17.41 7.96l-1.37-1.37c-.4-.4-.92-.59-1.43-.59-.52 0-1.04.2-1.43.59L10.3 9.45l-7.72 7.72c-.78.78-.78 2.05 0 2.83L4 21.41c.39.39.9.59 1.41.59.51 0 1.02-.2 1.41-.59l7.78-7.78 2.81-2.81c.8-.78.8-2.07 0-2.86zM5.41 20L4 18.59l7.72-7.72 1.47 1.35L5.41 20z\"/>\n",
              "  </svg>\n",
              "      </button>\n",
              "      \n",
              "  <style>\n",
              "    .colab-df-container {\n",
              "      display:flex;\n",
              "      flex-wrap:wrap;\n",
              "      gap: 12px;\n",
              "    }\n",
              "\n",
              "    .colab-df-convert {\n",
              "      background-color: #E8F0FE;\n",
              "      border: none;\n",
              "      border-radius: 50%;\n",
              "      cursor: pointer;\n",
              "      display: none;\n",
              "      fill: #1967D2;\n",
              "      height: 32px;\n",
              "      padding: 0 0 0 0;\n",
              "      width: 32px;\n",
              "    }\n",
              "\n",
              "    .colab-df-convert:hover {\n",
              "      background-color: #E2EBFA;\n",
              "      box-shadow: 0px 1px 2px rgba(60, 64, 67, 0.3), 0px 1px 3px 1px rgba(60, 64, 67, 0.15);\n",
              "      fill: #174EA6;\n",
              "    }\n",
              "\n",
              "    [theme=dark] .colab-df-convert {\n",
              "      background-color: #3B4455;\n",
              "      fill: #D2E3FC;\n",
              "    }\n",
              "\n",
              "    [theme=dark] .colab-df-convert:hover {\n",
              "      background-color: #434B5C;\n",
              "      box-shadow: 0px 1px 3px 1px rgba(0, 0, 0, 0.15);\n",
              "      filter: drop-shadow(0px 1px 2px rgba(0, 0, 0, 0.3));\n",
              "      fill: #FFFFFF;\n",
              "    }\n",
              "  </style>\n",
              "\n",
              "      <script>\n",
              "        const buttonEl =\n",
              "          document.querySelector('#df-d65c7902-d3a1-4743-9dcf-70297f5f89e3 button.colab-df-convert');\n",
              "        buttonEl.style.display =\n",
              "          google.colab.kernel.accessAllowed ? 'block' : 'none';\n",
              "\n",
              "        async function convertToInteractive(key) {\n",
              "          const element = document.querySelector('#df-d65c7902-d3a1-4743-9dcf-70297f5f89e3');\n",
              "          const dataTable =\n",
              "            await google.colab.kernel.invokeFunction('convertToInteractive',\n",
              "                                                     [key], {});\n",
              "          if (!dataTable) return;\n",
              "\n",
              "          const docLinkHtml = 'Like what you see? Visit the ' +\n",
              "            '<a target=\"_blank\" href=https://colab.research.google.com/notebooks/data_table.ipynb>data table notebook</a>'\n",
              "            + ' to learn more about interactive tables.';\n",
              "          element.innerHTML = '';\n",
              "          dataTable['output_type'] = 'display_data';\n",
              "          await google.colab.output.renderOutput(dataTable, element);\n",
              "          const docLink = document.createElement('div');\n",
              "          docLink.innerHTML = docLinkHtml;\n",
              "          element.appendChild(docLink);\n",
              "        }\n",
              "      </script>\n",
              "    </div>\n",
              "  </div>\n",
              "  "
            ],
            "text/plain": [
              "              1         2      3         4          5        6        7   \\\n",
              "重みの高い特徴量  google  facebook  apple   climate  microsoft  tmobile  googles   \n",
              "重みの低い特徴量    drug    cancer    fed  american       high      but      her   \n",
              "\n",
              "               8           9       10  \n",
              "重みの高い特徴量       gm  heartbleed    nasa  \n",
              "重みの低い特徴量  percent     ukraine  stocks  "
            ]
          },
          "metadata": {},
          "output_type": "display_data"
        },
        {
          "name": "stdout",
          "output_type": "stream",
          "text": [
            "\n",
            "\n"
          ]
        }
      ],
      "source": [
        "# 57 特徴量の重みの確認\n",
        "\n",
        "features = X_train.columns.values\n",
        "rank = [i for i in range(1,11)]\n",
        "for c, coef in zip(lg.classes_, lg.coef_):\n",
        "    print('カテゴリ：', c)\n",
        "    best = pd.DataFrame(features[np.argsort(coef)[::-1][:10]], columns=['重みの高い特徴量'], index=rank).T\n",
        "    worst = pd.DataFrame(features[np.argsort(coef)[:10]], columns=['重みの低い特徴量'], index=rank).T\n",
        "    ranking = pd.concat([best, worst], axis=0)\n",
        "    display(ranking)\n",
        "    print('\\n')"
      ]
    },
    {
      "cell_type": "markdown",
      "metadata": {
        "id": "-lpZpN4trg9U"
      },
      "source": [
        "58.異なる正則化パラメータでロジスティック回帰モデルを学習し，学習データ，検証データ，および評価データ上の正解率を求めよ．実験の結果は，正則化パラメータを横軸，正解率を縦軸としたグラフにまとめよ．"
      ]
    },
    {
      "cell_type": "code",
      "execution_count": null,
      "metadata": {
        "id": "epGVN89Brk96"
      },
      "outputs": [],
      "source": [
        "# 58 正則化パラメータの変更\n",
        "\n",
        "result = []\n",
        "for C in np.logspace(-5, 4, 10, base=10):\n",
        "    # 学習\n",
        "    lg = LogisticRegression(random_state=42, max_iter=10000, C=C)\n",
        "    lg.fit(X_train, y_train)\n",
        "    # 予測\n",
        "    train_pred = lg_score(lg, X_train)\n",
        "    valid_pred = lg_score(lg, X_valid)\n",
        "    test_pred = lg_score(lg, X_test)\n",
        "    # 正解率\n",
        "    train_acc = accuracy_score(train['CATEGORY'], train_pred[1])\n",
        "    valid_acc = accuracy_score(valid['CATEGORY'], valid_pred[1])\n",
        "    test_acc = accuracy_score(test['CATEGORY'], test_pred[1])\n",
        "\n",
        "    result.append([C, train_acc, valid_acc, test_acc])"
      ]
    },
    {
      "cell_type": "code",
      "execution_count": null,
      "metadata": {
        "colab": {
          "base_uri": "https://localhost:8080/",
          "height": 283
        },
        "id": "aW6V0Zyb2FwJ",
        "outputId": "46f681b1-7c12-48b6-e52f-2a4bbd34a18c"
      },
      "outputs": [
        {
          "data": {
            "image/png": "[encoded data removed]",
            "text/plain": [
              "<Figure size 432x288 with 1 Axes>"
            ]
          },
          "metadata": {},
          "output_type": "display_data"
        }
      ],
      "source": [
        "# データの可視化\n",
        "\n",
        "result = np.array(result).T\n",
        "plt.plot(result[0], result[1], label='train')\n",
        "plt.plot(result[0], result[2], label='valid')\n",
        "plt.plot(result[0], result[3], label='test')\n",
        "plt.ylim(0, 1.1)\n",
        "plt.ylabel('Accuracy')\n",
        "plt.xscale ('log')\n",
        "plt.xlabel('C')\n",
        "plt.legend()\n",
        "plt.show()"
      ]
    },
    {
      "cell_type": "markdown",
      "metadata": {
        "id": "jsvH8uCk5KWt"
      },
      "source": [
        "59.学習アルゴリズムや学習パラメータを変えながら，カテゴリ分類モデルを学習せよ．検証データ上の正解率が最も高くなる学習アルゴリズム・パラメータを求めよ．また，その学習アルゴリズム・パラメータを用いたときの評価データ上の正解率を求めよ．"
      ]
    },
    {
      "cell_type": "code",
      "execution_count": null,
      "metadata": {
        "colab": {
          "base_uri": "https://localhost:8080/"
        },
        "id": "4uy5aMmt5OGd",
        "outputId": "6cc9d30f-9528-4241-b25c-e46d4bd70164"
      },
      "outputs": [
        {
          "name": "stderr",
          "output_type": "stream",
          "text": [
            "\u001b[32m[I 2022-03-14 04:14:09,809]\u001b[0m Trial 0 finished with value: 0.8360778443113772 and parameters: {'x': 0.8369945279146238, 'C': 5273.31607583886}. Best is trial 0 with value: 0.8360778443113772.\u001b[0m\n"
          ]
        },
        {
          "name": "stdout",
          "output_type": "stream",
          "text": [
            "best_value: 0.8360778443113772\n",
            "bast_params:\n",
            "    x: 0.8369945279146238\n",
            "    C: 5273.31607583886\n"
          ]
        }
      ],
      "source": [
        "# 59 ハイパーパラメータの探索\n",
        "\n",
        "import optuna \n",
        "\n",
        "def objective(trial):\n",
        "    x = trial.suggest_uniform('x', 0, 1) # 正則化のバランス\n",
        "    C = trial.suggest_uniform('C', 1e-4, 1e4) # 正則化の強さ\n",
        "    \n",
        "    # モデルの学習\n",
        "    lg = LogisticRegression(random_state=123, \n",
        "                            max_iter=10000, \n",
        "                            penalty='elasticnet', \n",
        "                            solver='saga', \n",
        "                            l1_ratio=x, \n",
        "                            C=C)\n",
        "    lg.fit(X_train, y_train)\n",
        "    # 予測値\n",
        "    valid_pred = lg_score(lg, X_valid)\n",
        "    # 正解率\n",
        "    valid_acc = accuracy_score(valid['CATEGORY'], valid_pred[1])\n",
        "\n",
        "    return valid_acc\n",
        "\n",
        "# インスタンスの作成\n",
        "study = optuna.create_study(direction='maximize') # valid_acc（正解率）を最大化したい\n",
        "study.optimize(objective, timeout=3600)\n",
        "\n",
        "# 結果の確認\n",
        "best_trial = study.best_trial\n",
        "print('best_value:', best_trial.value)\n",
        "print('bast_params:')\n",
        "for key, value in best_trial.params.items():\n",
        "    print('    {}: {}'.format(key, value))"
      ]
    },
    {
      "cell_type": "code",
      "execution_count": null,
      "metadata": {
        "colab": {
          "base_uri": "https://localhost:8080/"
        },
        "id": "P-OeIrGJGX7n",
        "outputId": "5553cdeb-5145-4cd6-957c-3fb8c0669da5"
      },
      "outputs": [
        {
          "name": "stdout",
          "output_type": "stream",
          "text": [
            "正解率(学習用): 0.9981280419318608\n",
            "正解率(検証用): 0.8360778443113772\n",
            "正解率(評価用): 0.8390718562874252\n"
          ]
        }
      ],
      "source": [
        "# パラメータの設定\n",
        "l1_ratio = best_trial.params['x']\n",
        "C = best_trial.params['C']\n",
        "\n",
        "# モデルの学習\n",
        "lg = LogisticRegression(random_state=123, \n",
        "                        max_iter=10000, \n",
        "                        penalty='elasticnet', \n",
        "                        solver='saga', \n",
        "                        l1_ratio=l1_ratio, \n",
        "                        C=C)\n",
        "lg.fit(X_train, train['CATEGORY'])\n",
        "\n",
        "# 予測値の取得\n",
        "train_pred = lg_score(lg, X_train)\n",
        "valid_pred = lg_score(lg, X_valid)\n",
        "test_pred = lg_score(lg, X_test)\n",
        "\n",
        "# 正解率の算出\n",
        "train_acc = accuracy_score(train['CATEGORY'], train_pred[1]) \n",
        "valid_acc = accuracy_score(valid['CATEGORY'], valid_pred[1]) \n",
        "test_acc = accuracy_score(test['CATEGORY'], test_pred[1])\n",
        "\n",
        "print('正解率(学習用):', train_acc)\n",
        "print('正解率(検証用):', valid_acc)\n",
        "print('正解率(評価用):', test_acc)"
      ]
    },
    {
      "cell_type": "code",
      "execution_count": null,
      "metadata": {
        "id": "9tg96r5IFlJu",
        "colab": {
          "base_uri": "https://localhost:8080/"
        },
        "outputId": "6bdf5fec-f1fb-4394-fb9c-0280a8ea0d7c"
      },
      "outputs": [
        {
          "output_type": "stream",
          "name": "stdout",
          "text": [
            "AdaBoostClassifier の正解率\n",
            "[0.64248947 0.63313056 0.6499766  0.6499766  0.64981273]\n",
            "BaggingClassifier の正解率\n",
            "[0.75292466 0.75573234 0.73888629 0.76041179 0.75702247]\n",
            "BernoulliNB の正解率\n",
            "[0.86008423 0.85727656 0.87131493 0.85727656 0.86470037]\n",
            "CalibratedClassifierCV の正解率\n",
            "[0.86616752 0.87505849 0.88769303 0.88769303 0.88857678]\n",
            "CategoricalNB の正解率\n",
            "[nan nan nan nan nan]\n",
            "ComplementNB の正解率\n",
            "[0.87225082 0.88628919 0.87318671 0.88675714 0.86985019]\n",
            "DecisionTreeClassifier の正解率\n",
            "[0.70800187 0.70472625 0.7267197  0.72063641 0.73174157]\n",
            "DummyClassifier の正解率\n",
            "[0.40804867 0.42021526 0.42115115 0.42302293 0.43398876]\n",
            "ExtraTreeClassifier の正解率\n",
            "[0.74122602 0.77023865 0.76275152 0.76321947 0.76685393]\n",
            "ExtraTreesClassifier の正解率\n",
            "[0.85493683 0.85540477 0.82779598 0.83294338 0.84784644]\n",
            "GaussianNB の正解率\n",
            "[0.80065512 0.77351427 0.7810014  0.80954609 0.78417603]\n",
            "GaussianProcessClassifier の正解率\n",
            "[0.8137576  0.82452036 0.82124474 0.82686008 0.83473783]\n",
            "GradientBoostingClassifier の正解率\n",
            "[0.78802059 0.80065512 0.79082826 0.80065512 0.78511236]\n",
            "HistGradientBoostingClassifier の正解率\n",
            "[0.8137576  0.83528311 0.83200749 0.82732803 0.80149813]\n",
            "KNeighborsClassifier の正解率\n",
            "[0.5404773  0.51567618 0.51754796 0.52316331 0.54447566]\n",
            "LabelPropagation の正解率\n",
            "[0.62517548 0.61862424 0.5404773  0.66261114 0.56601124]\n",
            "LabelSpreading の正解率\n",
            "[0.60224614 0.57042583 0.56621432 0.64857277 0.625     ]\n",
            "LinearDiscriminantAnalysis の正解率\n",
            "[0.87271876 0.86569958 0.87693028 0.8628919  0.87078652]\n",
            "LinearSVC の正解率\n",
            "[0.88769303 0.86803931 0.87131493 0.88582124 0.87780899]\n",
            "LogisticRegression の正解率\n",
            "[0.86616752 0.86148807 0.85961628 0.87505849 0.8576779 ]\n",
            "LogisticRegressionCV の正解率\n",
            "[0.86663547 0.87552644 0.87552644 0.87459055 0.87406367]\n",
            "MLPClassifier の正解率\n",
            "[0.84417408 0.84510997 0.84370613 0.84885353 0.85627341]\n",
            "MultinomialNB の正解率\n",
            "[0.85727656 0.85212915 0.84791764 0.85025737 0.85393258]\n",
            "NearestCentroid の正解率\n",
            "[0.81843706 0.8034628  0.79691156 0.82030884 0.81179775]\n",
            "NuSVC の正解率\n",
            "[nan nan nan nan nan]\n",
            "PassiveAggressiveClassifier の正解率\n",
            "[0.84230229 0.86242396 0.84978942 0.85166121 0.83520599]\n",
            "Perceptron の正解率\n",
            "[0.85493683 0.86476369 0.85821245 0.84464202 0.85018727]\n",
            "QuadraticDiscriminantAnalysis の正解率\n",
            "[0.7594759  0.74964904 0.73420683 0.75807206 0.75514981]\n",
            "RadiusNeighborsClassifier の正解率\n",
            "[nan nan nan nan nan]\n",
            "RandomForestClassifier の正解率\n",
            "[0.8034628  0.7983154  0.78521292 0.80954609 0.80758427]\n",
            "RidgeClassifier の正解率\n",
            "[0.88816097 0.88441741 0.88348152 0.88114179 0.88670412]\n",
            "RidgeClassifierCV の正解率\n",
            "[0.88207768 0.87459055 0.8905007  0.88348152 0.88576779]\n",
            "SGDClassifier の正解率\n",
            "[0.87833411 0.8905007  0.88488535 0.86991109 0.87453184]\n",
            "SVC の正解率\n",
            "[0.87505849 0.86569958 0.87552644 0.85493683 0.875     ]\n"
          ]
        }
      ],
      "source": [
        "# アルゴリズム選択検証\n",
        "\n",
        "from sklearn.utils import all_estimators\n",
        "from sklearn.model_selection import KFold\n",
        "from sklearn.model_selection import cross_val_score\n",
        "import warnings\n",
        "\n",
        "allAlgorithms = all_estimators(type_filter = 'classifier')\n",
        "\n",
        "warnings.filterwarnings('ignore')\n",
        "\n",
        "kfold_cv = KFold(n_splits = 5, shuffle = True)\n",
        "\n",
        "for(name, algorithm) in allAlgorithms:\n",
        "    try:\n",
        "        clf = algorithm()\n",
        "        \n",
        "        if hasattr(clf,\"score\"):\n",
        "            scores = cross_val_score(clf, X_train, y_train, cv = kfold_cv)\n",
        "        print(name, \"の正解率\")\n",
        "        print(scores)\n",
        "\n",
        "    except Exception:\n",
        "        pass"
      ]
    }
  ],
  "metadata": {
    "colab": {
      "name": "100knock_6.ipynb",
      "provenance": [],
      "mount_file_id": "1p2ZzI_YayL1wXTdJpxEsDYRn211wiGNU",
      "authorship_tag": "ABX9TyPvisR2SvDir6vyvO5C6dSD",
      "include_colab_link": true
    },
    "kernelspec": {
      "display_name": "Python 3",
      "name": "python3"
    },
    "language_info": {
      "name": "python"
    }
  },
  "nbformat": 4,
  "nbformat_minor": 0
}