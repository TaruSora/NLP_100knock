{
  "nbformat": 4,
  "nbformat_minor": 0,
  "metadata": {
    "colab": {
      "name": "100knock_2.ipynb",
      "provenance": [],
      "authorship_tag": "ABX9TyN8OgfA9aVqZRx6Y0bzBPQE",
      "include_colab_link": true
    },
    "kernelspec": {
      "name": "python3",
      "display_name": "Python 3"
    },
    "language_info": {
      "name": "python"
    }
  },
  "cells": [
    {
      "cell_type": "markdown",
      "metadata": {
        "id": "view-in-github",
        "colab_type": "text"
      },
      "source": [
        "<a href=\"https://colab.research.google.com/github/TaruSora/NLP_100knock/blob/main/100knock_2.ipynb\" target=\"_parent\"><img src=\"https://colab.research.google.com/assets/colab-badge.svg\" alt=\"Open In Colab\"/></a>"
      ]
    },
    {
      "cell_type": "markdown",
      "source": [
        "10.行数をカウントせよ．確認にはwcコマンドを用いよ．"
      ],
      "metadata": {
        "id": "M-OBpuiJ998I"
      }
    },
    {
      "cell_type": "code",
      "execution_count": 6,
      "metadata": {
        "id": "juD1-Q5N9S2H",
        "colab": {
          "base_uri": "https://localhost:8080/"
        },
        "outputId": "512604e7-d399-4d14-bc3e-7131a0ead4d9"
      },
      "outputs": [
        {
          "output_type": "stream",
          "name": "stdout",
          "text": [
            "2780\n",
            " 2780 11120 55026 popular-names.txt\n"
          ]
        }
      ],
      "source": [
        "# 10\n",
        "\n",
        "import pandas as pd\n",
        "def main():\n",
        "    df = pd.read_csv('popular-names.txt', sep='\\t', header=None)\n",
        "    print(len(df))\n",
        "main() \n",
        "\n",
        "# wcコマンドで確認\n",
        "! wc \"popular-names.txt\""
      ]
    },
    {
      "cell_type": "markdown",
      "source": [
        "11.タブ1文字につきスペース1文字に置換せよ．確認にはsedコマンド，trコマンド，もしくはexpandコマンドを用いよ．"
      ],
      "metadata": {
        "id": "8y_6aTNPCE4N"
      }
    },
    {
      "cell_type": "code",
      "source": [
        "# 11\n",
        "\n",
        "import pandas as pd\n",
        "def main():\n",
        "    df = pd.read_csv('popular-names.txt', sep='\\t', header=None)\n",
        "    df.to_csv('result.txt', sep=' ', header=None, index=False)\n",
        "main()\n",
        "\n",
        "! head -n 5 result.txt\n",
        "print('\\n')\n",
        "\n",
        "# sedコマンドで確認\n",
        "! sed 's/\\t/ /g' popular-names.txt > replaced.txt\n",
        "! head -n 5 replaced.txt"
      ],
      "metadata": {
        "colab": {
          "base_uri": "https://localhost:8080/"
        },
        "id": "lk5H8FpgCD1H",
        "outputId": "64a6314a-e762-4e3b-b265-cca30e537bac"
      },
      "execution_count": 9,
      "outputs": [
        {
          "output_type": "stream",
          "name": "stdout",
          "text": [
            "Mary F 7065 1880\n",
            "Anna F 2604 1880\n",
            "Emma F 2003 1880\n",
            "Elizabeth F 1939 1880\n",
            "Minnie F 1746 1880\n",
            "\n",
            "\n",
            "Mary F 7065 1880\n",
            "Anna F 2604 1880\n",
            "Emma F 2003 1880\n",
            "Elizabeth F 1939 1880\n",
            "Minnie F 1746 1880\n"
          ]
        }
      ]
    },
    {
      "cell_type": "markdown",
      "source": [
        "12.各行の1列目だけを抜き出したものをcol1.txtに，2列目だけを抜き出したものをcol2.txtとしてファイルに保存せよ．確認にはcutコマンドを用いよ．"
      ],
      "metadata": {
        "id": "rsd-7BLCIWIZ"
      }
    },
    {
      "cell_type": "code",
      "source": [
        "# 12 \n",
        "\n",
        "import pandas as pd\n",
        "def main():\n",
        "    df = pd.read_csv('popular-names.txt', sep='\\t', header=None)\n",
        "    df[0].to_csv('col1.txt', header=None, index=False)\n",
        "    df[1].to_csv('col2.txt', header=None, index=False)\n",
        "main()\n",
        "\n",
        "! head -n 5 col1.txt\n",
        "! head -n 5 col2.txt\n",
        "print('\\n')\n",
        "\n",
        "# cutコマンドで確認\n",
        "! cut -f 1 -d $'\\t' popular-names.txt > replaced1.txt\n",
        "! head -n 5 replaced1.txt\n",
        "! cut -f 2 -d $'\\t' popular-names.txt > replaced2.txt\n",
        "! head -n 5 replaced2.txt"
      ],
      "metadata": {
        "colab": {
          "base_uri": "https://localhost:8080/"
        },
        "id": "aKM0YIuEIb9P",
        "outputId": "df827758-c654-41ca-95b7-42e705651589"
      },
      "execution_count": 13,
      "outputs": [
        {
          "output_type": "stream",
          "name": "stdout",
          "text": [
            "Mary\n",
            "Anna\n",
            "Emma\n",
            "Elizabeth\n",
            "Minnie\n",
            "F\n",
            "F\n",
            "F\n",
            "F\n",
            "F\n",
            "\n",
            "\n",
            "Mary\n",
            "Anna\n",
            "Emma\n",
            "Elizabeth\n",
            "Minnie\n",
            "F\n",
            "F\n",
            "F\n",
            "F\n",
            "F\n"
          ]
        }
      ]
    },
    {
      "cell_type": "markdown",
      "source": [
        "13.12で作ったcol1.txtとcol2.txtを結合し，元のファイルの1列目と2列目をタブ区切りで並べたテキストファイルを作成せよ．確認にはpasteコマンドを用いよ．"
      ],
      "metadata": {
        "id": "KYyb4RHsMeHe"
      }
    },
    {
      "cell_type": "code",
      "source": [
        "# 13\n",
        "\n",
        "import pandas as pd\n",
        "def main():\n",
        "    df1 = pd.read_csv('col1.txt', sep='\\t', header=None)\n",
        "    df2 = pd.read_csv('col2.txt', sep='\\t', header=None)\n",
        "    df = pd.concat([df1, df2], axis=1) # axis=1で横方向の指定\n",
        "    df.to_csv('result.txt', sep='\\t', header=None, index=False)\n",
        "main()\n",
        "\n",
        "! head -n 5 result.txt\n",
        "print('\\n')\n",
        "\n",
        "# pasteコマンドで確認\n",
        "! paste col1.txt col2.txt > replaced.txt\n",
        "! head -n 5 replaced.txt"
      ],
      "metadata": {
        "colab": {
          "base_uri": "https://localhost:8080/"
        },
        "id": "D0ZmMRaGMi1D",
        "outputId": "08835ad4-e74b-4040-e535-b3331d96de7b"
      },
      "execution_count": 18,
      "outputs": [
        {
          "output_type": "stream",
          "name": "stdout",
          "text": [
            "Mary\tF\n",
            "Anna\tF\n",
            "Emma\tF\n",
            "Elizabeth\tF\n",
            "Minnie\tF\n",
            "\n",
            "\n",
            "Mary\tF\n",
            "Anna\tF\n",
            "Emma\tF\n",
            "Elizabeth\tF\n",
            "Minnie\tF\n"
          ]
        }
      ]
    },
    {
      "cell_type": "markdown",
      "source": [
        "14.自然数Nをコマンドライン引数などの手段で受け取り，入力のうち先頭のN行だけを表示せよ．確認にはheadコマンドを用いよ．"
      ],
      "metadata": {
        "id": "5_rXsH98OdhJ"
      }
    },
    {
      "cell_type": "code",
      "source": [
        "# 14\n",
        "\n",
        "import pandas as pd\n",
        "def main(N):\n",
        "    df = pd.read_csv('popular-names.txt', sep='\\t', header=None)\n",
        "    print(df.head(N))\n",
        "main(5)\n",
        "print('\\n')\n",
        "\n",
        "# headコマンドで確認\n",
        "! head -n 5 popular-names.txt"
      ],
      "metadata": {
        "colab": {
          "base_uri": "https://localhost:8080/"
        },
        "id": "zONWtFCROhMQ",
        "outputId": "a466da78-ab1f-4209-ce9f-37412467fa0d"
      },
      "execution_count": 23,
      "outputs": [
        {
          "output_type": "stream",
          "name": "stdout",
          "text": [
            "           0  1     2     3\n",
            "0       Mary  F  7065  1880\n",
            "1       Anna  F  2604  1880\n",
            "2       Emma  F  2003  1880\n",
            "3  Elizabeth  F  1939  1880\n",
            "4     Minnie  F  1746  1880\n",
            "\n",
            "\n",
            "Mary\tF\t7065\t1880\n",
            "Anna\tF\t2604\t1880\n",
            "Emma\tF\t2003\t1880\n",
            "Elizabeth\tF\t1939\t1880\n",
            "Minnie\tF\t1746\t1880\n"
          ]
        }
      ]
    }
  ]
}